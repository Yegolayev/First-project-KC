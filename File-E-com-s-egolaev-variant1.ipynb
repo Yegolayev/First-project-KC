{
 "cells": [
  {
   "cell_type": "code",
   "execution_count": 389,
   "id": "06f742a3",
   "metadata": {},
   "outputs": [],
   "source": [
    "%matplotlib inline"
   ]
  },
  {
   "cell_type": "code",
   "execution_count": 452,
   "id": "f573cf15",
   "metadata": {},
   "outputs": [],
   "source": [
    "#Возможно понадобятся графики, оптимизирую заранее\n",
    "sns.set(font_scale =1, style =\"whitegrid\", rc ={'figure.figsize':(20,7)})"
   ]
  },
  {
   "cell_type": "code",
   "execution_count": 2,
   "id": "9aed899b",
   "metadata": {},
   "outputs": [],
   "source": [
    "#Выгружаю нужные библиотеки\n",
    "import pandas as pd\n",
    "from datetime import timedelta\n",
    "import matplotlib.pyplot as plt\n",
    "import datetime\n",
    "from operator import attrgetter\n",
    "from datetime import timedelta"
   ]
  },
  {
   "cell_type": "code",
   "execution_count": 3,
   "id": "d1011ff4",
   "metadata": {},
   "outputs": [],
   "source": [
    "#Считываю нужные по заданию датафреймы\n",
    "customers = pd.read_csv('/Users/sergejegolaev/Work/olist_customers_dataset.csv')\n",
    "orders = pd.read_csv('/Users/sergejegolaev/Work/olist_orders_dataset.csv')\n",
    "order_item = pd.read_csv('/Users/sergejegolaev/Work/olist_order_items_dataset.csv')"
   ]
  },
  {
   "cell_type": "markdown",
   "id": "80065898",
   "metadata": {},
   "source": [
    "Посмотрим на данные в каждом датафрейме"
   ]
  },
  {
   "cell_type": "code",
   "execution_count": 4,
   "id": "192ac241",
   "metadata": {
    "scrolled": true
   },
   "outputs": [
    {
     "data": {
      "text/html": [
       "<div>\n",
       "<style scoped>\n",
       "    .dataframe tbody tr th:only-of-type {\n",
       "        vertical-align: middle;\n",
       "    }\n",
       "\n",
       "    .dataframe tbody tr th {\n",
       "        vertical-align: top;\n",
       "    }\n",
       "\n",
       "    .dataframe thead th {\n",
       "        text-align: right;\n",
       "    }\n",
       "</style>\n",
       "<table border=\"1\" class=\"dataframe\">\n",
       "  <thead>\n",
       "    <tr style=\"text-align: right;\">\n",
       "      <th></th>\n",
       "      <th>customer_id</th>\n",
       "      <th>customer_unique_id</th>\n",
       "      <th>customer_zip_code_prefix</th>\n",
       "      <th>customer_city</th>\n",
       "      <th>customer_state</th>\n",
       "    </tr>\n",
       "  </thead>\n",
       "  <tbody>\n",
       "    <tr>\n",
       "      <th>0</th>\n",
       "      <td>06b8999e2fba1a1fbc88172c00ba8bc7</td>\n",
       "      <td>861eff4711a542e4b93843c6dd7febb0</td>\n",
       "      <td>14409</td>\n",
       "      <td>franca</td>\n",
       "      <td>SP</td>\n",
       "    </tr>\n",
       "    <tr>\n",
       "      <th>1</th>\n",
       "      <td>18955e83d337fd6b2def6b18a428ac77</td>\n",
       "      <td>290c77bc529b7ac935b93aa66c333dc3</td>\n",
       "      <td>9790</td>\n",
       "      <td>sao bernardo do campo</td>\n",
       "      <td>SP</td>\n",
       "    </tr>\n",
       "  </tbody>\n",
       "</table>\n",
       "</div>"
      ],
      "text/plain": [
       "                        customer_id                customer_unique_id  \\\n",
       "0  06b8999e2fba1a1fbc88172c00ba8bc7  861eff4711a542e4b93843c6dd7febb0   \n",
       "1  18955e83d337fd6b2def6b18a428ac77  290c77bc529b7ac935b93aa66c333dc3   \n",
       "\n",
       "   customer_zip_code_prefix          customer_city customer_state  \n",
       "0                     14409                 franca             SP  \n",
       "1                      9790  sao bernardo do campo             SP  "
      ]
     },
     "execution_count": 4,
     "metadata": {},
     "output_type": "execute_result"
    }
   ],
   "source": [
    "customers.head(2)"
   ]
  },
  {
   "cell_type": "code",
   "execution_count": 5,
   "id": "61fea474",
   "metadata": {},
   "outputs": [
    {
     "data": {
      "text/plain": [
       "(99441, 5)"
      ]
     },
     "execution_count": 5,
     "metadata": {},
     "output_type": "execute_result"
    }
   ],
   "source": [
    "customers.shape"
   ]
  },
  {
   "cell_type": "markdown",
   "id": "4de85458",
   "metadata": {},
   "source": [
    "Сколько всего уникальных данных в каждом из столбцов"
   ]
  },
  {
   "cell_type": "code",
   "execution_count": 6,
   "id": "50b3a036",
   "metadata": {},
   "outputs": [
    {
     "data": {
      "text/plain": [
       "customer_id                 99441\n",
       "customer_unique_id          96096\n",
       "customer_zip_code_prefix    14994\n",
       "customer_city                4119\n",
       "customer_state                 27\n",
       "dtype: int64"
      ]
     },
     "execution_count": 6,
     "metadata": {},
     "output_type": "execute_result"
    }
   ],
   "source": [
    "customers.nunique()"
   ]
  },
  {
   "cell_type": "code",
   "execution_count": 7,
   "id": "db84420f",
   "metadata": {},
   "outputs": [
    {
     "data": {
      "text/html": [
       "<div>\n",
       "<style scoped>\n",
       "    .dataframe tbody tr th:only-of-type {\n",
       "        vertical-align: middle;\n",
       "    }\n",
       "\n",
       "    .dataframe tbody tr th {\n",
       "        vertical-align: top;\n",
       "    }\n",
       "\n",
       "    .dataframe thead th {\n",
       "        text-align: right;\n",
       "    }\n",
       "</style>\n",
       "<table border=\"1\" class=\"dataframe\">\n",
       "  <thead>\n",
       "    <tr style=\"text-align: right;\">\n",
       "      <th></th>\n",
       "      <th>customer_zip_code_prefix</th>\n",
       "    </tr>\n",
       "  </thead>\n",
       "  <tbody>\n",
       "    <tr>\n",
       "      <th>count</th>\n",
       "      <td>99441.000000</td>\n",
       "    </tr>\n",
       "    <tr>\n",
       "      <th>mean</th>\n",
       "      <td>35137.474583</td>\n",
       "    </tr>\n",
       "    <tr>\n",
       "      <th>std</th>\n",
       "      <td>29797.938996</td>\n",
       "    </tr>\n",
       "    <tr>\n",
       "      <th>min</th>\n",
       "      <td>1003.000000</td>\n",
       "    </tr>\n",
       "    <tr>\n",
       "      <th>25%</th>\n",
       "      <td>11347.000000</td>\n",
       "    </tr>\n",
       "    <tr>\n",
       "      <th>50%</th>\n",
       "      <td>24416.000000</td>\n",
       "    </tr>\n",
       "    <tr>\n",
       "      <th>75%</th>\n",
       "      <td>58900.000000</td>\n",
       "    </tr>\n",
       "    <tr>\n",
       "      <th>max</th>\n",
       "      <td>99990.000000</td>\n",
       "    </tr>\n",
       "  </tbody>\n",
       "</table>\n",
       "</div>"
      ],
      "text/plain": [
       "       customer_zip_code_prefix\n",
       "count              99441.000000\n",
       "mean               35137.474583\n",
       "std                29797.938996\n",
       "min                 1003.000000\n",
       "25%                11347.000000\n",
       "50%                24416.000000\n",
       "75%                58900.000000\n",
       "max                99990.000000"
      ]
     },
     "execution_count": 7,
     "metadata": {},
     "output_type": "execute_result"
    }
   ],
   "source": [
    "customers.describe()"
   ]
  },
  {
   "cell_type": "code",
   "execution_count": 8,
   "id": "a24ae87f",
   "metadata": {},
   "outputs": [
    {
     "data": {
      "text/html": [
       "<div>\n",
       "<style scoped>\n",
       "    .dataframe tbody tr th:only-of-type {\n",
       "        vertical-align: middle;\n",
       "    }\n",
       "\n",
       "    .dataframe tbody tr th {\n",
       "        vertical-align: top;\n",
       "    }\n",
       "\n",
       "    .dataframe thead th {\n",
       "        text-align: right;\n",
       "    }\n",
       "</style>\n",
       "<table border=\"1\" class=\"dataframe\">\n",
       "  <thead>\n",
       "    <tr style=\"text-align: right;\">\n",
       "      <th></th>\n",
       "      <th>order_id</th>\n",
       "      <th>customer_id</th>\n",
       "      <th>order_status</th>\n",
       "      <th>order_purchase_timestamp</th>\n",
       "      <th>order_approved_at</th>\n",
       "      <th>order_delivered_carrier_date</th>\n",
       "      <th>order_delivered_customer_date</th>\n",
       "      <th>order_estimated_delivery_date</th>\n",
       "    </tr>\n",
       "  </thead>\n",
       "  <tbody>\n",
       "    <tr>\n",
       "      <th>0</th>\n",
       "      <td>e481f51cbdc54678b7cc49136f2d6af7</td>\n",
       "      <td>9ef432eb6251297304e76186b10a928d</td>\n",
       "      <td>delivered</td>\n",
       "      <td>2017-10-02 10:56:33</td>\n",
       "      <td>2017-10-02 11:07:15</td>\n",
       "      <td>2017-10-04 19:55:00</td>\n",
       "      <td>2017-10-10 21:25:13</td>\n",
       "      <td>2017-10-18 00:00:00</td>\n",
       "    </tr>\n",
       "    <tr>\n",
       "      <th>1</th>\n",
       "      <td>53cdb2fc8bc7dce0b6741e2150273451</td>\n",
       "      <td>b0830fb4747a6c6d20dea0b8c802d7ef</td>\n",
       "      <td>delivered</td>\n",
       "      <td>2018-07-24 20:41:37</td>\n",
       "      <td>2018-07-26 03:24:27</td>\n",
       "      <td>2018-07-26 14:31:00</td>\n",
       "      <td>2018-08-07 15:27:45</td>\n",
       "      <td>2018-08-13 00:00:00</td>\n",
       "    </tr>\n",
       "  </tbody>\n",
       "</table>\n",
       "</div>"
      ],
      "text/plain": [
       "                           order_id                       customer_id  \\\n",
       "0  e481f51cbdc54678b7cc49136f2d6af7  9ef432eb6251297304e76186b10a928d   \n",
       "1  53cdb2fc8bc7dce0b6741e2150273451  b0830fb4747a6c6d20dea0b8c802d7ef   \n",
       "\n",
       "  order_status order_purchase_timestamp    order_approved_at  \\\n",
       "0    delivered      2017-10-02 10:56:33  2017-10-02 11:07:15   \n",
       "1    delivered      2018-07-24 20:41:37  2018-07-26 03:24:27   \n",
       "\n",
       "  order_delivered_carrier_date order_delivered_customer_date  \\\n",
       "0          2017-10-04 19:55:00           2017-10-10 21:25:13   \n",
       "1          2018-07-26 14:31:00           2018-08-07 15:27:45   \n",
       "\n",
       "  order_estimated_delivery_date  \n",
       "0           2017-10-18 00:00:00  \n",
       "1           2018-08-13 00:00:00  "
      ]
     },
     "execution_count": 8,
     "metadata": {},
     "output_type": "execute_result"
    }
   ],
   "source": [
    "orders.head(2)"
   ]
  },
  {
   "cell_type": "code",
   "execution_count": 9,
   "id": "6dfe3dae",
   "metadata": {},
   "outputs": [
    {
     "data": {
      "text/plain": [
       "order_id                         99441\n",
       "customer_id                      99441\n",
       "order_status                         8\n",
       "order_purchase_timestamp         98875\n",
       "order_approved_at                90733\n",
       "order_delivered_carrier_date     81018\n",
       "order_delivered_customer_date    95664\n",
       "order_estimated_delivery_date      459\n",
       "dtype: int64"
      ]
     },
     "execution_count": 9,
     "metadata": {},
     "output_type": "execute_result"
    }
   ],
   "source": [
    "orders.nunique()"
   ]
  },
  {
   "cell_type": "code",
   "execution_count": 10,
   "id": "17dd0547",
   "metadata": {
    "scrolled": true
   },
   "outputs": [
    {
     "data": {
      "text/html": [
       "<div>\n",
       "<style scoped>\n",
       "    .dataframe tbody tr th:only-of-type {\n",
       "        vertical-align: middle;\n",
       "    }\n",
       "\n",
       "    .dataframe tbody tr th {\n",
       "        vertical-align: top;\n",
       "    }\n",
       "\n",
       "    .dataframe thead th {\n",
       "        text-align: right;\n",
       "    }\n",
       "</style>\n",
       "<table border=\"1\" class=\"dataframe\">\n",
       "  <thead>\n",
       "    <tr style=\"text-align: right;\">\n",
       "      <th></th>\n",
       "      <th>order_status</th>\n",
       "      <th>customer_id</th>\n",
       "    </tr>\n",
       "  </thead>\n",
       "  <tbody>\n",
       "    <tr>\n",
       "      <th>0</th>\n",
       "      <td>approved</td>\n",
       "      <td>2</td>\n",
       "    </tr>\n",
       "    <tr>\n",
       "      <th>1</th>\n",
       "      <td>canceled</td>\n",
       "      <td>625</td>\n",
       "    </tr>\n",
       "    <tr>\n",
       "      <th>2</th>\n",
       "      <td>created</td>\n",
       "      <td>5</td>\n",
       "    </tr>\n",
       "    <tr>\n",
       "      <th>3</th>\n",
       "      <td>delivered</td>\n",
       "      <td>96478</td>\n",
       "    </tr>\n",
       "    <tr>\n",
       "      <th>4</th>\n",
       "      <td>invoiced</td>\n",
       "      <td>314</td>\n",
       "    </tr>\n",
       "    <tr>\n",
       "      <th>5</th>\n",
       "      <td>processing</td>\n",
       "      <td>301</td>\n",
       "    </tr>\n",
       "    <tr>\n",
       "      <th>6</th>\n",
       "      <td>shipped</td>\n",
       "      <td>1107</td>\n",
       "    </tr>\n",
       "    <tr>\n",
       "      <th>7</th>\n",
       "      <td>unavailable</td>\n",
       "      <td>609</td>\n",
       "    </tr>\n",
       "  </tbody>\n",
       "</table>\n",
       "</div>"
      ],
      "text/plain": [
       "  order_status  customer_id\n",
       "0     approved            2\n",
       "1     canceled          625\n",
       "2      created            5\n",
       "3    delivered        96478\n",
       "4     invoiced          314\n",
       "5   processing          301\n",
       "6      shipped         1107\n",
       "7  unavailable          609"
      ]
     },
     "execution_count": 10,
     "metadata": {},
     "output_type": "execute_result"
    }
   ],
   "source": [
    "#посмотрим распределение по статусам заказов\n",
    "orders \\\n",
    ".groupby('order_status', as_index=False) \\\n",
    ".agg({'customer_id':'count'})"
   ]
  },
  {
   "cell_type": "code",
   "execution_count": 11,
   "id": "cace09af",
   "metadata": {},
   "outputs": [
    {
     "data": {
      "text/plain": [
       "order_id                            0\n",
       "customer_id                         0\n",
       "order_status                        0\n",
       "order_purchase_timestamp            0\n",
       "order_approved_at                 160\n",
       "order_delivered_carrier_date     1783\n",
       "order_delivered_customer_date    2965\n",
       "order_estimated_delivery_date       0\n",
       "dtype: int64"
      ]
     },
     "execution_count": 11,
     "metadata": {},
     "output_type": "execute_result"
    }
   ],
   "source": [
    "# Посмотрим на заполнение времени по разным этапам заказов. \n",
    "# Исходя из распределения по статусам, некоторые значения в столбцах со временем должны быть не заполнены\n",
    "orders.isna().sum()"
   ]
  },
  {
   "cell_type": "markdown",
   "id": "1ac500ee",
   "metadata": {},
   "source": [
    "Посмотрим на пустые значения в колонке \"order_approved_at\" чтобы понять по какой \n",
    "причине часть заказов была не оплачена"
   ]
  },
  {
   "cell_type": "code",
   "execution_count": 12,
   "id": "ce662d29",
   "metadata": {},
   "outputs": [],
   "source": [
    "orders['order_approved_at'] = orders['order_approved_at'].fillna (0)"
   ]
  },
  {
   "cell_type": "code",
   "execution_count": 13,
   "id": "f7ecd112",
   "metadata": {},
   "outputs": [
    {
     "data": {
      "text/html": [
       "<div>\n",
       "<style scoped>\n",
       "    .dataframe tbody tr th:only-of-type {\n",
       "        vertical-align: middle;\n",
       "    }\n",
       "\n",
       "    .dataframe tbody tr th {\n",
       "        vertical-align: top;\n",
       "    }\n",
       "\n",
       "    .dataframe thead th {\n",
       "        text-align: right;\n",
       "    }\n",
       "</style>\n",
       "<table border=\"1\" class=\"dataframe\">\n",
       "  <thead>\n",
       "    <tr style=\"text-align: right;\">\n",
       "      <th></th>\n",
       "      <th>order_status</th>\n",
       "      <th>customer_id</th>\n",
       "    </tr>\n",
       "  </thead>\n",
       "  <tbody>\n",
       "    <tr>\n",
       "      <th>0</th>\n",
       "      <td>canceled</td>\n",
       "      <td>141</td>\n",
       "    </tr>\n",
       "    <tr>\n",
       "      <th>1</th>\n",
       "      <td>created</td>\n",
       "      <td>5</td>\n",
       "    </tr>\n",
       "    <tr>\n",
       "      <th>2</th>\n",
       "      <td>delivered</td>\n",
       "      <td>14</td>\n",
       "    </tr>\n",
       "  </tbody>\n",
       "</table>\n",
       "</div>"
      ],
      "text/plain": [
       "  order_status  customer_id\n",
       "0     canceled          141\n",
       "1      created            5\n",
       "2    delivered           14"
      ]
     },
     "execution_count": 13,
     "metadata": {},
     "output_type": "execute_result"
    }
   ],
   "source": [
    "orders \\\n",
    ".query('order_approved_at==0') \\\n",
    ".groupby('order_status', as_index=False) \\\n",
    ".agg({'customer_id':'count'})"
   ]
  },
  {
   "cell_type": "markdown",
   "id": "1f358cbf",
   "metadata": {},
   "source": [
    "Получили 14 заказов которые уже доставлены но по которым нет даты получения оплаты. Предположим сбой системы оплаты. Возможно данные пригодятся позже, так же информацию стоит передать продакт-менеджеру Василию"
   ]
  },
  {
   "cell_type": "code",
   "execution_count": 14,
   "id": "bcb31e57",
   "metadata": {},
   "outputs": [
    {
     "data": {
      "text/plain": [
       "order_id                           0\n",
       "customer_id                        0\n",
       "order_status                       0\n",
       "order_purchase_timestamp           0\n",
       "order_approved_at                  0\n",
       "order_delivered_carrier_date     609\n",
       "order_delivered_customer_date    609\n",
       "order_estimated_delivery_date      0\n",
       "dtype: int64"
      ]
     },
     "execution_count": 14,
     "metadata": {},
     "output_type": "execute_result"
    }
   ],
   "source": [
    "# Посмотрим так же на заказы со статусом \"недоступен(unavailable)\" чтобы понять на каком этапе происходит отмена\n",
    "# заказа\n",
    "orders \\\n",
    ".query('order_status==\"unavailable\"').isna().sum()"
   ]
  },
  {
   "cell_type": "markdown",
   "id": "cac31daf",
   "metadata": {},
   "source": [
    "Исходя из того что по всем заказам со статусом \"недоступен\" не заполнены даты передачи товара перевозчику и дата доставки, заказ отменяется продавцом и он приобретает статус \"недоступен\""
   ]
  },
  {
   "cell_type": "code",
   "execution_count": 15,
   "id": "fc41b7e4",
   "metadata": {},
   "outputs": [
    {
     "data": {
      "text/html": [
       "<div>\n",
       "<style scoped>\n",
       "    .dataframe tbody tr th:only-of-type {\n",
       "        vertical-align: middle;\n",
       "    }\n",
       "\n",
       "    .dataframe tbody tr th {\n",
       "        vertical-align: top;\n",
       "    }\n",
       "\n",
       "    .dataframe thead th {\n",
       "        text-align: right;\n",
       "    }\n",
       "</style>\n",
       "<table border=\"1\" class=\"dataframe\">\n",
       "  <thead>\n",
       "    <tr style=\"text-align: right;\">\n",
       "      <th></th>\n",
       "      <th>order_id</th>\n",
       "      <th>order_item_id</th>\n",
       "      <th>product_id</th>\n",
       "      <th>seller_id</th>\n",
       "      <th>shipping_limit_date</th>\n",
       "      <th>price</th>\n",
       "      <th>freight_value</th>\n",
       "    </tr>\n",
       "  </thead>\n",
       "  <tbody>\n",
       "    <tr>\n",
       "      <th>0</th>\n",
       "      <td>00010242fe8c5a6d1ba2dd792cb16214</td>\n",
       "      <td>1</td>\n",
       "      <td>4244733e06e7ecb4970a6e2683c13e61</td>\n",
       "      <td>48436dade18ac8b2bce089ec2a041202</td>\n",
       "      <td>2017-09-19 09:45:35</td>\n",
       "      <td>58.9</td>\n",
       "      <td>13.29</td>\n",
       "    </tr>\n",
       "    <tr>\n",
       "      <th>1</th>\n",
       "      <td>00018f77f2f0320c557190d7a144bdd3</td>\n",
       "      <td>1</td>\n",
       "      <td>e5f2d52b802189ee658865ca93d83a8f</td>\n",
       "      <td>dd7ddc04e1b6c2c614352b383efe2d36</td>\n",
       "      <td>2017-05-03 11:05:13</td>\n",
       "      <td>239.9</td>\n",
       "      <td>19.93</td>\n",
       "    </tr>\n",
       "  </tbody>\n",
       "</table>\n",
       "</div>"
      ],
      "text/plain": [
       "                           order_id  order_item_id  \\\n",
       "0  00010242fe8c5a6d1ba2dd792cb16214              1   \n",
       "1  00018f77f2f0320c557190d7a144bdd3              1   \n",
       "\n",
       "                         product_id                         seller_id  \\\n",
       "0  4244733e06e7ecb4970a6e2683c13e61  48436dade18ac8b2bce089ec2a041202   \n",
       "1  e5f2d52b802189ee658865ca93d83a8f  dd7ddc04e1b6c2c614352b383efe2d36   \n",
       "\n",
       "   shipping_limit_date  price  freight_value  \n",
       "0  2017-09-19 09:45:35   58.9          13.29  \n",
       "1  2017-05-03 11:05:13  239.9          19.93  "
      ]
     },
     "execution_count": 15,
     "metadata": {},
     "output_type": "execute_result"
    }
   ],
   "source": [
    "order_item.head(2)"
   ]
  },
  {
   "cell_type": "code",
   "execution_count": 16,
   "id": "5825864d",
   "metadata": {},
   "outputs": [
    {
     "data": {
      "text/plain": [
       "98666"
      ]
     },
     "execution_count": 16,
     "metadata": {},
     "output_type": "execute_result"
    }
   ],
   "source": [
    "order_item.order_id.nunique()"
   ]
  },
  {
   "cell_type": "markdown",
   "id": "f46e1cc9",
   "metadata": {},
   "source": [
    "Значений меньше чем в других таблицах. Попробую понять какие заказы не попали в таблицу с товарными позициями и почему(посмотрю статусы)"
   ]
  },
  {
   "cell_type": "code",
   "execution_count": 17,
   "id": "806c4cdb",
   "metadata": {},
   "outputs": [
    {
     "data": {
      "text/html": [
       "<div>\n",
       "<style scoped>\n",
       "    .dataframe tbody tr th:only-of-type {\n",
       "        vertical-align: middle;\n",
       "    }\n",
       "\n",
       "    .dataframe tbody tr th {\n",
       "        vertical-align: top;\n",
       "    }\n",
       "\n",
       "    .dataframe thead th {\n",
       "        text-align: right;\n",
       "    }\n",
       "</style>\n",
       "<table border=\"1\" class=\"dataframe\">\n",
       "  <thead>\n",
       "    <tr style=\"text-align: right;\">\n",
       "      <th></th>\n",
       "      <th>order_status</th>\n",
       "      <th>customer_id</th>\n",
       "    </tr>\n",
       "  </thead>\n",
       "  <tbody>\n",
       "    <tr>\n",
       "      <th>0</th>\n",
       "      <td>canceled</td>\n",
       "      <td>164</td>\n",
       "    </tr>\n",
       "    <tr>\n",
       "      <th>1</th>\n",
       "      <td>created</td>\n",
       "      <td>5</td>\n",
       "    </tr>\n",
       "    <tr>\n",
       "      <th>2</th>\n",
       "      <td>invoiced</td>\n",
       "      <td>2</td>\n",
       "    </tr>\n",
       "    <tr>\n",
       "      <th>3</th>\n",
       "      <td>shipped</td>\n",
       "      <td>1</td>\n",
       "    </tr>\n",
       "    <tr>\n",
       "      <th>4</th>\n",
       "      <td>unavailable</td>\n",
       "      <td>603</td>\n",
       "    </tr>\n",
       "  </tbody>\n",
       "</table>\n",
       "</div>"
      ],
      "text/plain": [
       "  order_status  customer_id\n",
       "0     canceled          164\n",
       "1      created            5\n",
       "2     invoiced            2\n",
       "3      shipped            1\n",
       "4  unavailable          603"
      ]
     },
     "execution_count": 17,
     "metadata": {},
     "output_type": "execute_result"
    }
   ],
   "source": [
    "orders.merge(order_item.groupby('order_id').agg({'order_item_id':'sum'}), how='left', on='order_id') \\\n",
    ".fillna(0)\\\n",
    ".query('order_item_id==0')\\\n",
    ".groupby('order_status', as_index=False) \\\n",
    ".agg({'customer_id':'count'})"
   ]
  },
  {
   "cell_type": "markdown",
   "id": "dfb136a4",
   "metadata": {},
   "source": [
    "Два заказа со статусом \"выставлен счет\" не попали в табличку с данными по заказу, так же не попал один доставленный заказ. Эту информацию так же стоит передать продакт-менеджеру Василию"
   ]
  },
  {
   "cell_type": "code",
   "execution_count": 18,
   "id": "1ab77c57",
   "metadata": {},
   "outputs": [
    {
     "data": {
      "text/html": [
       "<div>\n",
       "<style scoped>\n",
       "    .dataframe tbody tr th:only-of-type {\n",
       "        vertical-align: middle;\n",
       "    }\n",
       "\n",
       "    .dataframe tbody tr th {\n",
       "        vertical-align: top;\n",
       "    }\n",
       "\n",
       "    .dataframe thead th {\n",
       "        text-align: right;\n",
       "    }\n",
       "</style>\n",
       "<table border=\"1\" class=\"dataframe\">\n",
       "  <thead>\n",
       "    <tr style=\"text-align: right;\">\n",
       "      <th></th>\n",
       "      <th>order_id</th>\n",
       "      <th>customer_id</th>\n",
       "      <th>order_status</th>\n",
       "      <th>order_purchase_timestamp</th>\n",
       "      <th>order_approved_at</th>\n",
       "      <th>order_delivered_carrier_date</th>\n",
       "      <th>order_delivered_customer_date</th>\n",
       "      <th>order_estimated_delivery_date</th>\n",
       "      <th>order_item_id</th>\n",
       "    </tr>\n",
       "  </thead>\n",
       "  <tbody>\n",
       "    <tr>\n",
       "      <th>23254</th>\n",
       "      <td>a68ce1686d536ca72bd2dadc4b8671e5</td>\n",
       "      <td>d7bed5fac093a4136216072abaf599d5</td>\n",
       "      <td>shipped</td>\n",
       "      <td>2016-10-05 01:47:40</td>\n",
       "      <td>2016-10-07 03:11:22</td>\n",
       "      <td>2016-11-07 16:37:37</td>\n",
       "      <td>0</td>\n",
       "      <td>2016-12-01 00:00:00</td>\n",
       "      <td>0.0</td>\n",
       "    </tr>\n",
       "  </tbody>\n",
       "</table>\n",
       "</div>"
      ],
      "text/plain": [
       "                               order_id                       customer_id  \\\n",
       "23254  a68ce1686d536ca72bd2dadc4b8671e5  d7bed5fac093a4136216072abaf599d5   \n",
       "\n",
       "      order_status order_purchase_timestamp    order_approved_at  \\\n",
       "23254      shipped      2016-10-05 01:47:40  2016-10-07 03:11:22   \n",
       "\n",
       "      order_delivered_carrier_date order_delivered_customer_date  \\\n",
       "23254          2016-11-07 16:37:37                             0   \n",
       "\n",
       "      order_estimated_delivery_date  order_item_id  \n",
       "23254           2016-12-01 00:00:00            0.0  "
      ]
     },
     "execution_count": 18,
     "metadata": {},
     "output_type": "execute_result"
    }
   ],
   "source": [
    "orders_with_item = orders.merge(order_item.groupby('order_id').agg({'order_item_id':'sum'}), how='left', on='order_id') \\\n",
    ".fillna(0)\n",
    "orders_with_item.loc[((orders_with_item['order_item_id'] == 0) &(orders_with_item['order_status' ] == 'shipped'))]"
   ]
  },
  {
   "cell_type": "markdown",
   "id": "21ec17cc",
   "metadata": {},
   "source": [
    "Собрал информацию по этому заказу"
   ]
  },
  {
   "cell_type": "code",
   "execution_count": null,
   "id": "e1bcf1a5",
   "metadata": {},
   "outputs": [],
   "source": []
  },
  {
   "cell_type": "markdown",
   "id": "b605a739",
   "metadata": {},
   "source": [
    "# 1. Сколько у нас пользователей, которые совершили покупку только один раз?\n",
    "\n",
    " \n",
    "Судя по распределению статусов, предполагаю что покупкой необходимо считать статусы \"processing\", \"shipped\", \"delivered\". Остальные статусы покупкой не являются, клиент может просто добавлять товары в корзину, либо Есть сомнения по поводу статуса \"invoiced\", проверю есть ли подтверждение оплат для заказов с таким статусом. \n",
    "\n",
    "Чтобы посчитать единичные заказы по статусам, необходимо взять данные из двух табличек \"orders\" и \"customers\", в одной есть необходимое сочетание - уникального и позаказного идентификатора, а во второй сочетание позаказного идентификатора со статусом. Отсотрируем полученый датафрейм по колонке с ИД пользователя и по статусам и посчитаем колличество позаказных ИД у каждого из них. Далее отсортируем покупателей с одой покупкой и посчитаем количество строк командой \"len\""
   ]
  },
  {
   "cell_type": "code",
   "execution_count": 19,
   "id": "72e17020",
   "metadata": {},
   "outputs": [
    {
     "data": {
      "text/plain": [
       "order_id                           0\n",
       "customer_id                        0\n",
       "order_status                       0\n",
       "order_purchase_timestamp           0\n",
       "order_approved_at                  0\n",
       "order_delivered_carrier_date     314\n",
       "order_delivered_customer_date    314\n",
       "order_estimated_delivery_date      0\n",
       "dtype: int64"
      ]
     },
     "execution_count": 19,
     "metadata": {},
     "output_type": "execute_result"
    }
   ],
   "source": [
    "orders \\\n",
    ".loc[(orders_with_item['order_status' ] == 'invoiced')] \\\n",
    ".isna().sum()"
   ]
  },
  {
   "cell_type": "markdown",
   "id": "76221c72",
   "metadata": {},
   "source": [
    "Для всех заказов с подобным статусом оплата подтверждена. Есть вероятность отмены подобного заказа со стороны продавца после приема оплаты но так как этих данных у нас нет, поэтому оплаченый заказ буду так же учитывать"
   ]
  },
  {
   "cell_type": "code",
   "execution_count": 20,
   "id": "b89f6373",
   "metadata": {},
   "outputs": [
    {
     "data": {
      "text/plain": [
       "92097"
      ]
     },
     "execution_count": 20,
     "metadata": {},
     "output_type": "execute_result"
    }
   ],
   "source": [
    "len(customers.merge(orders) \\\n",
    ".query(\"order_status in ('processing', 'shipped', 'delivered', 'invoiced')\")\n",
    ".groupby('customer_unique_id') \\\n",
    ".agg({'customer_id':'count'}) \\\n",
    ".query('customer_id==1'))"
   ]
  },
  {
   "cell_type": "markdown",
   "id": "510be444",
   "metadata": {},
   "source": [
    "# 2. Сколько заказов в месяц в среднем не доставляется по разным причинам (вывести детализацию по причинам)?"
   ]
  },
  {
   "cell_type": "markdown",
   "id": "0f78d732",
   "metadata": {},
   "source": [
    "Недоставленные заказы видны в таблице \"orders\", с отсутствующей датой доставки. Из анализа таблицы таких заказов 2965. Посмотрю на полученые данные и на статусы этих заказов"
   ]
  },
  {
   "cell_type": "code",
   "execution_count": 21,
   "id": "08a5aee2",
   "metadata": {},
   "outputs": [
    {
     "data": {
      "text/html": [
       "<div>\n",
       "<style scoped>\n",
       "    .dataframe tbody tr th:only-of-type {\n",
       "        vertical-align: middle;\n",
       "    }\n",
       "\n",
       "    .dataframe tbody tr th {\n",
       "        vertical-align: top;\n",
       "    }\n",
       "\n",
       "    .dataframe thead th {\n",
       "        text-align: right;\n",
       "    }\n",
       "</style>\n",
       "<table border=\"1\" class=\"dataframe\">\n",
       "  <thead>\n",
       "    <tr style=\"text-align: right;\">\n",
       "      <th></th>\n",
       "      <th>order_status</th>\n",
       "      <th>customer_id</th>\n",
       "    </tr>\n",
       "  </thead>\n",
       "  <tbody>\n",
       "    <tr>\n",
       "      <th>0</th>\n",
       "      <td>approved</td>\n",
       "      <td>2</td>\n",
       "    </tr>\n",
       "    <tr>\n",
       "      <th>1</th>\n",
       "      <td>canceled</td>\n",
       "      <td>619</td>\n",
       "    </tr>\n",
       "    <tr>\n",
       "      <th>2</th>\n",
       "      <td>created</td>\n",
       "      <td>5</td>\n",
       "    </tr>\n",
       "    <tr>\n",
       "      <th>3</th>\n",
       "      <td>delivered</td>\n",
       "      <td>8</td>\n",
       "    </tr>\n",
       "    <tr>\n",
       "      <th>4</th>\n",
       "      <td>invoiced</td>\n",
       "      <td>314</td>\n",
       "    </tr>\n",
       "    <tr>\n",
       "      <th>5</th>\n",
       "      <td>processing</td>\n",
       "      <td>301</td>\n",
       "    </tr>\n",
       "    <tr>\n",
       "      <th>6</th>\n",
       "      <td>shipped</td>\n",
       "      <td>1107</td>\n",
       "    </tr>\n",
       "    <tr>\n",
       "      <th>7</th>\n",
       "      <td>unavailable</td>\n",
       "      <td>609</td>\n",
       "    </tr>\n",
       "  </tbody>\n",
       "</table>\n",
       "</div>"
      ],
      "text/plain": [
       "  order_status  customer_id\n",
       "0     approved            2\n",
       "1     canceled          619\n",
       "2      created            5\n",
       "3    delivered            8\n",
       "4     invoiced          314\n",
       "5   processing          301\n",
       "6      shipped         1107\n",
       "7  unavailable          609"
      ]
     },
     "execution_count": 21,
     "metadata": {},
     "output_type": "execute_result"
    }
   ],
   "source": [
    "orders \\\n",
    ".fillna(0) \\\n",
    ".query('order_delivered_customer_date==0') \\\n",
    ".groupby('order_status', as_index=False) \\\n",
    ".agg({'customer_id':'count'})"
   ]
  },
  {
   "cell_type": "markdown",
   "id": "59d7a032",
   "metadata": {},
   "source": [
    "Часть подобных заказов уже доставлены. Информацию необходимо передать Василию, и исключить заказы со статусом \"delivered\" из данных для распределения недоставленных заказов по месяцам "
   ]
  },
  {
   "cell_type": "code",
   "execution_count": 22,
   "id": "64bd951c",
   "metadata": {},
   "outputs": [],
   "source": [
    "no_delivered_orders = orders \\\n",
    ".fillna(0) \\\n",
    ".query('order_delivered_customer_date==0') \\\n",
    ".query('order_status !=\"delivered\"')"
   ]
  },
  {
   "cell_type": "code",
   "execution_count": 23,
   "id": "b213c8c7",
   "metadata": {},
   "outputs": [
    {
     "data": {
      "text/plain": [
       "order_id                         object\n",
       "customer_id                      object\n",
       "order_status                     object\n",
       "order_purchase_timestamp         object\n",
       "order_approved_at                object\n",
       "order_delivered_carrier_date     object\n",
       "order_delivered_customer_date    object\n",
       "order_estimated_delivery_date    object\n",
       "dtype: object"
      ]
     },
     "execution_count": 23,
     "metadata": {},
     "output_type": "execute_result"
    }
   ],
   "source": [
    "#Проверю типы данных \n",
    "no_delivered_orders.dtypes"
   ]
  },
  {
   "cell_type": "code",
   "execution_count": 24,
   "id": "8700be74",
   "metadata": {},
   "outputs": [],
   "source": [
    "#Для приведения даты создания к месяцам, изменю тип данных на \"Дата\"\n",
    "no_delivered_orders['order_purchase_timestamp'] = pd.to_datetime(no_delivered_orders['order_purchase_timestamp'])"
   ]
  },
  {
   "cell_type": "code",
   "execution_count": 25,
   "id": "8a2e781e",
   "metadata": {},
   "outputs": [],
   "source": [
    "# Приведу дату создания заказа к месяцу, т.к. необходимо распределение по месяцам в среднем\n",
    "no_delivered_orders['order_purchase_timestamp'] = no_delivered_orders['order_purchase_timestamp'].dt.strftime('%Y-%m')"
   ]
  },
  {
   "cell_type": "code",
   "execution_count": 26,
   "id": "2be50621",
   "metadata": {},
   "outputs": [
    {
     "data": {
      "text/html": [
       "<div>\n",
       "<style scoped>\n",
       "    .dataframe tbody tr th:only-of-type {\n",
       "        vertical-align: middle;\n",
       "    }\n",
       "\n",
       "    .dataframe tbody tr th {\n",
       "        vertical-align: top;\n",
       "    }\n",
       "\n",
       "    .dataframe thead th {\n",
       "        text-align: right;\n",
       "    }\n",
       "</style>\n",
       "<table border=\"1\" class=\"dataframe\">\n",
       "  <thead>\n",
       "    <tr style=\"text-align: right;\">\n",
       "      <th></th>\n",
       "      <th>order_status</th>\n",
       "      <th>customer_id</th>\n",
       "    </tr>\n",
       "  </thead>\n",
       "  <tbody>\n",
       "    <tr>\n",
       "      <th>0</th>\n",
       "      <td>approved</td>\n",
       "      <td>1.0</td>\n",
       "    </tr>\n",
       "    <tr>\n",
       "      <th>1</th>\n",
       "      <td>canceled</td>\n",
       "      <td>26.0</td>\n",
       "    </tr>\n",
       "    <tr>\n",
       "      <th>2</th>\n",
       "      <td>created</td>\n",
       "      <td>2.0</td>\n",
       "    </tr>\n",
       "    <tr>\n",
       "      <th>3</th>\n",
       "      <td>invoiced</td>\n",
       "      <td>15.0</td>\n",
       "    </tr>\n",
       "    <tr>\n",
       "      <th>4</th>\n",
       "      <td>processing</td>\n",
       "      <td>16.0</td>\n",
       "    </tr>\n",
       "    <tr>\n",
       "      <th>5</th>\n",
       "      <td>shipped</td>\n",
       "      <td>48.0</td>\n",
       "    </tr>\n",
       "    <tr>\n",
       "      <th>6</th>\n",
       "      <td>unavailable</td>\n",
       "      <td>29.0</td>\n",
       "    </tr>\n",
       "  </tbody>\n",
       "</table>\n",
       "</div>"
      ],
      "text/plain": [
       "  order_status  customer_id\n",
       "0     approved          1.0\n",
       "1     canceled         26.0\n",
       "2      created          2.0\n",
       "3     invoiced         15.0\n",
       "4   processing         16.0\n",
       "5      shipped         48.0\n",
       "6  unavailable         29.0"
      ]
     },
     "execution_count": 26,
     "metadata": {},
     "output_type": "execute_result"
    }
   ],
   "source": [
    "#Cгруппирую по мечсяцам и статусам заказов чтобы понять сколько каждый месяц не доставляется заказов \n",
    "#и по каким причинам. Далее сгруппирую по статусам и посчитаю среднемесячное количество не доаставленных по разным\n",
    "#причинам заказов. Для удобства восприятия округлим до целых чисел\n",
    "no_delivered_orders \\\n",
    ".groupby(['order_purchase_timestamp','order_status'], as_index=False) \\\n",
    ".agg({'customer_id':'count'}) \\\n",
    ".groupby('order_status', as_index=False) \\\n",
    ".agg({'customer_id':'mean'}) \\\n",
    ".round(0)"
   ]
  },
  {
   "cell_type": "markdown",
   "id": "ae60d381",
   "metadata": {},
   "source": [
    "# 3. По каждому товару определить, в какой день недели товар чаще всего покупается. (5 баллов)"
   ]
  },
  {
   "cell_type": "markdown",
   "id": "0c7572c2",
   "metadata": {},
   "source": [
    "Так как данные по ИД товара и дате заказа хранятся в разных таблицах, и покупка это заказы с определенных статусом, приведем данные к нужному виду"
   ]
  },
  {
   "cell_type": "code",
   "execution_count": 27,
   "id": "071998cf",
   "metadata": {},
   "outputs": [],
   "source": [
    "day_by_week=order_item.merge(orders) \\\n",
    ".query(\"order_status in ('processing', 'shipped', 'delivered', 'invoiced')\")"
   ]
  },
  {
   "cell_type": "code",
   "execution_count": 28,
   "id": "e66bf451",
   "metadata": {},
   "outputs": [
    {
     "data": {
      "text/plain": [
       "order_id                          object\n",
       "order_item_id                      int64\n",
       "product_id                        object\n",
       "seller_id                         object\n",
       "shipping_limit_date               object\n",
       "price                            float64\n",
       "freight_value                    float64\n",
       "customer_id                       object\n",
       "order_status                      object\n",
       "order_purchase_timestamp          object\n",
       "order_approved_at                 object\n",
       "order_delivered_carrier_date      object\n",
       "order_delivered_customer_date     object\n",
       "order_estimated_delivery_date     object\n",
       "dtype: object"
      ]
     },
     "execution_count": 28,
     "metadata": {},
     "output_type": "execute_result"
    }
   ],
   "source": [
    "#Посмотрим тип данных\n",
    "day_by_week.dtypes"
   ]
  },
  {
   "cell_type": "code",
   "execution_count": 29,
   "id": "86c9a2ba",
   "metadata": {},
   "outputs": [],
   "source": [
    "#Для приведения даты создания к дням недели, изменю тип данных на \"Дата\"\n",
    "day_by_week['order_purchase_timestamp'] = pd.to_datetime(day_by_week['order_purchase_timestamp'])"
   ]
  },
  {
   "cell_type": "code",
   "execution_count": 30,
   "id": "3bf84a46",
   "metadata": {},
   "outputs": [],
   "source": [
    "# Приведу дату создания заказа к дню недели, т.к. необходимо узнать по каждому товару в какой день недели \n",
    "#покупается чаще всего\n",
    "day_by_week['order_purchase_timestamp'] = day_by_week['order_purchase_timestamp'].dt.strftime('%a')"
   ]
  },
  {
   "cell_type": "code",
   "execution_count": 31,
   "id": "420a6168",
   "metadata": {},
   "outputs": [],
   "source": [
    "#Сделаю сортировку по товару и дню недели и посчитаю количество покупок\n",
    "max_day_by_week = day_by_week \\\n",
    ".groupby(['product_id','order_purchase_timestamp'], as_index=False) \\\n",
    ".agg({'seller_id':'count'}) \\\n",
    ".sort_values('seller_id', ascending=False)"
   ]
  },
  {
   "cell_type": "code",
   "execution_count": 32,
   "id": "9115a215",
   "metadata": {},
   "outputs": [],
   "source": [
    "#Проранжирую сумму покупок по дням недели по позиции методом \"rank\"\n",
    "max_day_by_week['rating'] = max_day_by_week.groupby('product_id')['seller_id'] \\\n",
    ".rank(method=\"first\", ascending=False) "
   ]
  },
  {
   "cell_type": "code",
   "execution_count": 35,
   "id": "26069496",
   "metadata": {},
   "outputs": [
    {
     "data": {
      "text/html": [
       "<div>\n",
       "<style scoped>\n",
       "    .dataframe tbody tr th:only-of-type {\n",
       "        vertical-align: middle;\n",
       "    }\n",
       "\n",
       "    .dataframe tbody tr th {\n",
       "        vertical-align: top;\n",
       "    }\n",
       "\n",
       "    .dataframe thead th {\n",
       "        text-align: right;\n",
       "    }\n",
       "</style>\n",
       "<table border=\"1\" class=\"dataframe\">\n",
       "  <thead>\n",
       "    <tr style=\"text-align: right;\">\n",
       "      <th></th>\n",
       "      <th>product_id</th>\n",
       "      <th>order_purchase_timestamp</th>\n",
       "    </tr>\n",
       "  </thead>\n",
       "  <tbody>\n",
       "    <tr>\n",
       "      <th>0</th>\n",
       "      <td>422879e10f46682990de24d770e7f83d</td>\n",
       "      <td>Wed</td>\n",
       "    </tr>\n",
       "    <tr>\n",
       "      <th>1</th>\n",
       "      <td>99a4788cb24856965c36a24e339b6058</td>\n",
       "      <td>Mon</td>\n",
       "    </tr>\n",
       "    <tr>\n",
       "      <th>2</th>\n",
       "      <td>aca2eb7d00ea1a7b8ebd4e68314663af</td>\n",
       "      <td>Thu</td>\n",
       "    </tr>\n",
       "    <tr>\n",
       "      <th>3</th>\n",
       "      <td>53b36df67ebb7c41585e8d54d6772e08</td>\n",
       "      <td>Tue</td>\n",
       "    </tr>\n",
       "    <tr>\n",
       "      <th>4</th>\n",
       "      <td>368c6c730842d78016ad823897a372db</td>\n",
       "      <td>Fri</td>\n",
       "    </tr>\n",
       "    <tr>\n",
       "      <th>...</th>\n",
       "      <td>...</td>\n",
       "      <td>...</td>\n",
       "    </tr>\n",
       "    <tr>\n",
       "      <th>32722</th>\n",
       "      <td>bf3024b979e260a941c418cc5771fff2</td>\n",
       "      <td>Fri</td>\n",
       "    </tr>\n",
       "    <tr>\n",
       "      <th>32723</th>\n",
       "      <td>bf2f8efdd119b43056e1355c46119f04</td>\n",
       "      <td>Sun</td>\n",
       "    </tr>\n",
       "    <tr>\n",
       "      <th>32724</th>\n",
       "      <td>bf2f8d918c34551d0bc8861f3779953e</td>\n",
       "      <td>Fri</td>\n",
       "    </tr>\n",
       "    <tr>\n",
       "      <th>32725</th>\n",
       "      <td>bf2ce842e3094204d338854ad96ba5ae</td>\n",
       "      <td>Mon</td>\n",
       "    </tr>\n",
       "    <tr>\n",
       "      <th>32726</th>\n",
       "      <td>fffe9eeff12fcbd74a2f2b007dde0c58</td>\n",
       "      <td>Wed</td>\n",
       "    </tr>\n",
       "  </tbody>\n",
       "</table>\n",
       "<p>32727 rows × 2 columns</p>\n",
       "</div>"
      ],
      "text/plain": [
       "                             product_id order_purchase_timestamp\n",
       "0      422879e10f46682990de24d770e7f83d                      Wed\n",
       "1      99a4788cb24856965c36a24e339b6058                      Mon\n",
       "2      aca2eb7d00ea1a7b8ebd4e68314663af                      Thu\n",
       "3      53b36df67ebb7c41585e8d54d6772e08                      Tue\n",
       "4      368c6c730842d78016ad823897a372db                      Fri\n",
       "...                                 ...                      ...\n",
       "32722  bf3024b979e260a941c418cc5771fff2                      Fri\n",
       "32723  bf2f8efdd119b43056e1355c46119f04                      Sun\n",
       "32724  bf2f8d918c34551d0bc8861f3779953e                      Fri\n",
       "32725  bf2ce842e3094204d338854ad96ba5ae                      Mon\n",
       "32726  fffe9eeff12fcbd74a2f2b007dde0c58                      Wed\n",
       "\n",
       "[32727 rows x 2 columns]"
      ]
     },
     "execution_count": 35,
     "metadata": {},
     "output_type": "execute_result"
    }
   ],
   "source": [
    "#Отсортирую только максимальные результаты по методу, оставлю только нужные колонки и сброшу индекс для \n",
    "#простоты восприятия\n",
    "max_day_by_week = max_day_by_week \\\n",
    ".query('rating == 1') \\\n",
    ".sort_values('seller_id',ascending=False) \\\n",
    ".reset_index() \\\n",
    "[[\"product_id\", \"order_purchase_timestamp\"]]\n",
    "max_day_by_week"
   ]
  },
  {
   "cell_type": "markdown",
   "id": "00ad73d5",
   "metadata": {},
   "source": [
    "# 4. Сколько у каждого из пользователей в среднем покупок в неделю (по месяцам)? Не стоит забывать, что внутри месяца может быть не целое количество недель. Например, в ноябре 2021 года 4,28 недели. И внутри метрики это нужно учесть. (8 баллов) "
   ]
  },
  {
   "cell_type": "code",
   "execution_count": 36,
   "id": "ed5f6d67",
   "metadata": {},
   "outputs": [],
   "source": [
    "#Так как нужные для ответа данные хранятся в разных таблицах, соберу в одну\n",
    "\n",
    "custom_ord_item = customers.merge(orders.merge(order_item))"
   ]
  },
  {
   "cell_type": "code",
   "execution_count": 37,
   "id": "c0bed37c",
   "metadata": {},
   "outputs": [],
   "source": [
    "#Для приведения даты создания к дням недели, изменю тип данных на \"Дата\"\n",
    "custom_ord_item['order_purchase_timestamp'] = pd.to_datetime(custom_ord_item['order_purchase_timestamp'])"
   ]
  },
  {
   "cell_type": "code",
   "execution_count": 38,
   "id": "dd8e706e",
   "metadata": {},
   "outputs": [],
   "source": [
    "# Интересуют покупки за неделю в месяц. Приведу дату к нужному формату\n",
    "custom_ord_item.order_purchase_timestamp = custom_ord_item.order_purchase_timestamp.dt.strftime('%Y-%m')"
   ]
  },
  {
   "cell_type": "code",
   "execution_count": 39,
   "id": "416368fe",
   "metadata": {},
   "outputs": [],
   "source": [
    "#Отсортирую данные по статусам демонстрирующим покупку(из предыдущих пунктов), сгруппирую по пользователю и дате\n",
    "#покупки, посчитаю количество покупок в месяц\n",
    "custom_ord_items = custom_ord_item \\\n",
    ".query(\"order_status in ('processing', 'shipped', 'delivered', 'invoiced')\")\\\n",
    ".groupby([\"customer_unique_id\", \"order_purchase_timestamp\"], as_index=False) \\\n",
    ".agg({\"customer_state\":\"count\"})"
   ]
  },
  {
   "cell_type": "code",
   "execution_count": 604,
   "id": "887cf28c",
   "metadata": {},
   "outputs": [],
   "source": [
    "#custom_ord_items['order_purchase_timestamp'] = pd.to_datetime(custom_ord_items['order_purchase_timestamp'])"
   ]
  },
  {
   "cell_type": "code",
   "execution_count": 40,
   "id": "7d1c7616",
   "metadata": {},
   "outputs": [
    {
     "data": {
      "text/plain": [
       "customer_unique_id          object\n",
       "order_purchase_timestamp    object\n",
       "customer_state               int64\n",
       "dtype: object"
      ]
     },
     "execution_count": 40,
     "metadata": {},
     "output_type": "execute_result"
    }
   ],
   "source": [
    "custom_ord_items.dtypes"
   ]
  },
  {
   "cell_type": "code",
   "execution_count": 41,
   "id": "52f5ddc6",
   "metadata": {},
   "outputs": [],
   "source": [
    "#Добавлю колонку с количеством недель в месяце\n",
    "custom_ord_items['week_per_month'] = pd.to_datetime(custom_ord_items['order_purchase_timestamp']).dt.days_in_month/7"
   ]
  },
  {
   "cell_type": "code",
   "execution_count": 42,
   "id": "bfa1dce6",
   "metadata": {},
   "outputs": [
    {
     "data": {
      "text/html": [
       "<div>\n",
       "<style scoped>\n",
       "    .dataframe tbody tr th:only-of-type {\n",
       "        vertical-align: middle;\n",
       "    }\n",
       "\n",
       "    .dataframe tbody tr th {\n",
       "        vertical-align: top;\n",
       "    }\n",
       "\n",
       "    .dataframe thead th {\n",
       "        text-align: right;\n",
       "    }\n",
       "</style>\n",
       "<table border=\"1\" class=\"dataframe\">\n",
       "  <thead>\n",
       "    <tr style=\"text-align: right;\">\n",
       "      <th></th>\n",
       "      <th>customer_unique_id</th>\n",
       "      <th>order_purchase_timestamp</th>\n",
       "      <th>customer_state</th>\n",
       "      <th>week_per_month</th>\n",
       "      <th>purchase_per_week</th>\n",
       "    </tr>\n",
       "  </thead>\n",
       "  <tbody>\n",
       "    <tr>\n",
       "      <th>0</th>\n",
       "      <td>0000366f3b9a7992bf8c76cfdf3221e2</td>\n",
       "      <td>2018-05</td>\n",
       "      <td>1</td>\n",
       "      <td>4.428571</td>\n",
       "      <td>0.225806</td>\n",
       "    </tr>\n",
       "    <tr>\n",
       "      <th>1</th>\n",
       "      <td>0000b849f77a49e4a4ce2b2a4ca5be3f</td>\n",
       "      <td>2018-05</td>\n",
       "      <td>1</td>\n",
       "      <td>4.428571</td>\n",
       "      <td>0.225806</td>\n",
       "    </tr>\n",
       "    <tr>\n",
       "      <th>2</th>\n",
       "      <td>0000f46a3911fa3c0805444483337064</td>\n",
       "      <td>2017-03</td>\n",
       "      <td>1</td>\n",
       "      <td>4.428571</td>\n",
       "      <td>0.225806</td>\n",
       "    </tr>\n",
       "    <tr>\n",
       "      <th>3</th>\n",
       "      <td>0000f6ccb0745a6a4b88665a16c9f078</td>\n",
       "      <td>2017-10</td>\n",
       "      <td>1</td>\n",
       "      <td>4.428571</td>\n",
       "      <td>0.225806</td>\n",
       "    </tr>\n",
       "    <tr>\n",
       "      <th>4</th>\n",
       "      <td>0004aac84e0df4da2b147fca70cf8255</td>\n",
       "      <td>2017-11</td>\n",
       "      <td>1</td>\n",
       "      <td>4.285714</td>\n",
       "      <td>0.233333</td>\n",
       "    </tr>\n",
       "    <tr>\n",
       "      <th>...</th>\n",
       "      <td>...</td>\n",
       "      <td>...</td>\n",
       "      <td>...</td>\n",
       "      <td>...</td>\n",
       "      <td>...</td>\n",
       "    </tr>\n",
       "    <tr>\n",
       "      <th>96854</th>\n",
       "      <td>fffcf5a5ff07b0908bd4e2dbc735a684</td>\n",
       "      <td>2017-06</td>\n",
       "      <td>2</td>\n",
       "      <td>4.285714</td>\n",
       "      <td>0.466667</td>\n",
       "    </tr>\n",
       "    <tr>\n",
       "      <th>96855</th>\n",
       "      <td>fffea47cd6d3cc0a88bd621562a9d061</td>\n",
       "      <td>2017-12</td>\n",
       "      <td>1</td>\n",
       "      <td>4.428571</td>\n",
       "      <td>0.225806</td>\n",
       "    </tr>\n",
       "    <tr>\n",
       "      <th>96856</th>\n",
       "      <td>ffff371b4d645b6ecea244b27531430a</td>\n",
       "      <td>2017-02</td>\n",
       "      <td>1</td>\n",
       "      <td>4.000000</td>\n",
       "      <td>0.250000</td>\n",
       "    </tr>\n",
       "    <tr>\n",
       "      <th>96857</th>\n",
       "      <td>ffff5962728ec6157033ef9805bacc48</td>\n",
       "      <td>2018-05</td>\n",
       "      <td>1</td>\n",
       "      <td>4.428571</td>\n",
       "      <td>0.225806</td>\n",
       "    </tr>\n",
       "    <tr>\n",
       "      <th>96858</th>\n",
       "      <td>ffffd2657e2aad2907e67c3e9daecbeb</td>\n",
       "      <td>2017-05</td>\n",
       "      <td>1</td>\n",
       "      <td>4.428571</td>\n",
       "      <td>0.225806</td>\n",
       "    </tr>\n",
       "  </tbody>\n",
       "</table>\n",
       "<p>96859 rows × 5 columns</p>\n",
       "</div>"
      ],
      "text/plain": [
       "                     customer_unique_id order_purchase_timestamp  \\\n",
       "0      0000366f3b9a7992bf8c76cfdf3221e2                  2018-05   \n",
       "1      0000b849f77a49e4a4ce2b2a4ca5be3f                  2018-05   \n",
       "2      0000f46a3911fa3c0805444483337064                  2017-03   \n",
       "3      0000f6ccb0745a6a4b88665a16c9f078                  2017-10   \n",
       "4      0004aac84e0df4da2b147fca70cf8255                  2017-11   \n",
       "...                                 ...                      ...   \n",
       "96854  fffcf5a5ff07b0908bd4e2dbc735a684                  2017-06   \n",
       "96855  fffea47cd6d3cc0a88bd621562a9d061                  2017-12   \n",
       "96856  ffff371b4d645b6ecea244b27531430a                  2017-02   \n",
       "96857  ffff5962728ec6157033ef9805bacc48                  2018-05   \n",
       "96858  ffffd2657e2aad2907e67c3e9daecbeb                  2017-05   \n",
       "\n",
       "       customer_state  week_per_month  purchase_per_week  \n",
       "0                   1        4.428571           0.225806  \n",
       "1                   1        4.428571           0.225806  \n",
       "2                   1        4.428571           0.225806  \n",
       "3                   1        4.428571           0.225806  \n",
       "4                   1        4.285714           0.233333  \n",
       "...               ...             ...                ...  \n",
       "96854               2        4.285714           0.466667  \n",
       "96855               1        4.428571           0.225806  \n",
       "96856               1        4.000000           0.250000  \n",
       "96857               1        4.428571           0.225806  \n",
       "96858               1        4.428571           0.225806  \n",
       "\n",
       "[96859 rows x 5 columns]"
      ]
     },
     "execution_count": 42,
     "metadata": {},
     "output_type": "execute_result"
    }
   ],
   "source": [
    "#Посчитаю количество покупок в неделю по месяцам(необходимая по задаче метрика)\n",
    "custom_ord_items['purchase_per_week'] = custom_ord_items['customer_state']/custom_ord_items['week_per_month']\n",
    "custom_ord_items"
   ]
  },
  {
   "cell_type": "markdown",
   "id": "08c7d22d",
   "metadata": {},
   "source": [
    "# 5. Используя pandas, проведи когортный анализ пользователей. В период с января по декабрь выяви когорту с самым высоким retention на 3й месяц. Описание подхода можно найти тут. (10 баллов)"
   ]
  },
  {
   "cell_type": "markdown",
   "id": "ca5c8a52",
   "metadata": {},
   "source": [
    "Retention на 3й месяц — это процент пользователей, которые вернутся к продукту на 3й месяц. То есть, если в первый день (день 0) пришло 100 новых пользователей, а на 3й месяц вернулось 10, то Retention 3го месяца составит 10 / 100 = 15%."
   ]
  },
  {
   "cell_type": "markdown",
   "id": "f76dbca4",
   "metadata": {},
   "source": [
    "Когортный анализ необходимо производить по уникальному идентификатору пользователя, но по датам заказов. Для этого необходимо объединить два датафрейма"
   ]
  },
  {
   "cell_type": "markdown",
   "id": "d78dfedf",
   "metadata": {},
   "source": [
    "customers_orders5 = customers.merge(orders)"
   ]
  },
  {
   "cell_type": "code",
   "execution_count": 70,
   "id": "d373257d",
   "metadata": {},
   "outputs": [
    {
     "data": {
      "text/html": [
       "<div>\n",
       "<style scoped>\n",
       "    .dataframe tbody tr th:only-of-type {\n",
       "        vertical-align: middle;\n",
       "    }\n",
       "\n",
       "    .dataframe tbody tr th {\n",
       "        vertical-align: top;\n",
       "    }\n",
       "\n",
       "    .dataframe thead th {\n",
       "        text-align: right;\n",
       "    }\n",
       "</style>\n",
       "<table border=\"1\" class=\"dataframe\">\n",
       "  <thead>\n",
       "    <tr style=\"text-align: right;\">\n",
       "      <th></th>\n",
       "      <th>customer_id</th>\n",
       "      <th>customer_unique_id</th>\n",
       "      <th>customer_zip_code_prefix</th>\n",
       "      <th>customer_city</th>\n",
       "      <th>customer_state</th>\n",
       "      <th>order_id</th>\n",
       "      <th>order_status</th>\n",
       "      <th>order_purchase_timestamp</th>\n",
       "      <th>order_approved_at</th>\n",
       "      <th>order_delivered_carrier_date</th>\n",
       "      <th>order_delivered_customer_date</th>\n",
       "      <th>order_estimated_delivery_date</th>\n",
       "    </tr>\n",
       "  </thead>\n",
       "  <tbody>\n",
       "    <tr>\n",
       "      <th>0</th>\n",
       "      <td>06b8999e2fba1a1fbc88172c00ba8bc7</td>\n",
       "      <td>861eff4711a542e4b93843c6dd7febb0</td>\n",
       "      <td>14409</td>\n",
       "      <td>franca</td>\n",
       "      <td>SP</td>\n",
       "      <td>00e7ee1b050b8499577073aeb2a297a1</td>\n",
       "      <td>delivered</td>\n",
       "      <td>2017-05-16 15:05:35</td>\n",
       "      <td>2017-05-16 15:22:12</td>\n",
       "      <td>2017-05-23 10:47:57</td>\n",
       "      <td>2017-05-25 10:35:35</td>\n",
       "      <td>2017-06-05 00:00:00</td>\n",
       "    </tr>\n",
       "    <tr>\n",
       "      <th>1</th>\n",
       "      <td>18955e83d337fd6b2def6b18a428ac77</td>\n",
       "      <td>290c77bc529b7ac935b93aa66c333dc3</td>\n",
       "      <td>9790</td>\n",
       "      <td>sao bernardo do campo</td>\n",
       "      <td>SP</td>\n",
       "      <td>29150127e6685892b6eab3eec79f59c7</td>\n",
       "      <td>delivered</td>\n",
       "      <td>2018-01-12 20:48:24</td>\n",
       "      <td>2018-01-12 20:58:32</td>\n",
       "      <td>2018-01-15 17:14:59</td>\n",
       "      <td>2018-01-29 12:41:19</td>\n",
       "      <td>2018-02-06 00:00:00</td>\n",
       "    </tr>\n",
       "  </tbody>\n",
       "</table>\n",
       "</div>"
      ],
      "text/plain": [
       "                        customer_id                customer_unique_id  \\\n",
       "0  06b8999e2fba1a1fbc88172c00ba8bc7  861eff4711a542e4b93843c6dd7febb0   \n",
       "1  18955e83d337fd6b2def6b18a428ac77  290c77bc529b7ac935b93aa66c333dc3   \n",
       "\n",
       "   customer_zip_code_prefix          customer_city customer_state  \\\n",
       "0                     14409                 franca             SP   \n",
       "1                      9790  sao bernardo do campo             SP   \n",
       "\n",
       "                           order_id order_status order_purchase_timestamp  \\\n",
       "0  00e7ee1b050b8499577073aeb2a297a1    delivered      2017-05-16 15:05:35   \n",
       "1  29150127e6685892b6eab3eec79f59c7    delivered      2018-01-12 20:48:24   \n",
       "\n",
       "     order_approved_at order_delivered_carrier_date  \\\n",
       "0  2017-05-16 15:22:12          2017-05-23 10:47:57   \n",
       "1  2018-01-12 20:58:32          2018-01-15 17:14:59   \n",
       "\n",
       "  order_delivered_customer_date order_estimated_delivery_date  \n",
       "0           2017-05-25 10:35:35           2017-06-05 00:00:00  \n",
       "1           2018-01-29 12:41:19           2018-02-06 00:00:00  "
      ]
     },
     "execution_count": 70,
     "metadata": {},
     "output_type": "execute_result"
    }
   ],
   "source": [
    "customers_orders5.head(2)"
   ]
  },
  {
   "cell_type": "markdown",
   "id": "cdbe43c2",
   "metadata": {},
   "source": [
    "Так как я провожу анализ по покупкам, отсортирую данные по статусам демонстрирующим покупку(из предыдущих пунктов) \n",
    "и уберу строки в которых нет подтверждения оплаты заказа (order_approved_at)"
   ]
  },
  {
   "cell_type": "code",
   "execution_count": 71,
   "id": "887130a8",
   "metadata": {},
   "outputs": [],
   "source": [
    "customers_orders5 = customers_orders5.dropna(axis='index', how='any', subset=['order_approved_at'])"
   ]
  },
  {
   "cell_type": "code",
   "execution_count": 72,
   "id": "471ecd1e",
   "metadata": {},
   "outputs": [],
   "source": [
    "#Для приведения даты создания к дням недели, изменю тип данных на \"Дата\"\n",
    "customers_orders5['order_purchase_timestamp'] = pd.to_datetime(customers_orders5['order_purchase_timestamp'])"
   ]
  },
  {
   "cell_type": "code",
   "execution_count": 73,
   "id": "d95f3e94",
   "metadata": {},
   "outputs": [],
   "source": [
    "#СОздам колонку с датой первой покупки\n",
    "customers_orders5[\"first_purchase\"] = customers_orders5.groupby('customer_unique_id')['order_purchase_timestamp'].transform('min')"
   ]
  },
  {
   "cell_type": "code",
   "execution_count": 74,
   "id": "740e1136",
   "metadata": {},
   "outputs": [
    {
     "data": {
      "text/html": [
       "<div>\n",
       "<style scoped>\n",
       "    .dataframe tbody tr th:only-of-type {\n",
       "        vertical-align: middle;\n",
       "    }\n",
       "\n",
       "    .dataframe tbody tr th {\n",
       "        vertical-align: top;\n",
       "    }\n",
       "\n",
       "    .dataframe thead th {\n",
       "        text-align: right;\n",
       "    }\n",
       "</style>\n",
       "<table border=\"1\" class=\"dataframe\">\n",
       "  <thead>\n",
       "    <tr style=\"text-align: right;\">\n",
       "      <th></th>\n",
       "      <th>customer_id</th>\n",
       "      <th>customer_unique_id</th>\n",
       "      <th>customer_zip_code_prefix</th>\n",
       "      <th>customer_city</th>\n",
       "      <th>customer_state</th>\n",
       "      <th>order_id</th>\n",
       "      <th>order_status</th>\n",
       "      <th>order_purchase_timestamp</th>\n",
       "      <th>order_approved_at</th>\n",
       "      <th>order_delivered_carrier_date</th>\n",
       "      <th>order_delivered_customer_date</th>\n",
       "      <th>order_estimated_delivery_date</th>\n",
       "      <th>first_purchase</th>\n",
       "    </tr>\n",
       "  </thead>\n",
       "  <tbody>\n",
       "    <tr>\n",
       "      <th>0</th>\n",
       "      <td>06b8999e2fba1a1fbc88172c00ba8bc7</td>\n",
       "      <td>861eff4711a542e4b93843c6dd7febb0</td>\n",
       "      <td>14409</td>\n",
       "      <td>franca</td>\n",
       "      <td>SP</td>\n",
       "      <td>00e7ee1b050b8499577073aeb2a297a1</td>\n",
       "      <td>delivered</td>\n",
       "      <td>2017-05-16 15:05:35</td>\n",
       "      <td>2017-05-16 15:22:12</td>\n",
       "      <td>2017-05-23 10:47:57</td>\n",
       "      <td>2017-05-25 10:35:35</td>\n",
       "      <td>2017-06-05 00:00:00</td>\n",
       "      <td>2017-05-16 15:05:35</td>\n",
       "    </tr>\n",
       "    <tr>\n",
       "      <th>1</th>\n",
       "      <td>18955e83d337fd6b2def6b18a428ac77</td>\n",
       "      <td>290c77bc529b7ac935b93aa66c333dc3</td>\n",
       "      <td>9790</td>\n",
       "      <td>sao bernardo do campo</td>\n",
       "      <td>SP</td>\n",
       "      <td>29150127e6685892b6eab3eec79f59c7</td>\n",
       "      <td>delivered</td>\n",
       "      <td>2018-01-12 20:48:24</td>\n",
       "      <td>2018-01-12 20:58:32</td>\n",
       "      <td>2018-01-15 17:14:59</td>\n",
       "      <td>2018-01-29 12:41:19</td>\n",
       "      <td>2018-02-06 00:00:00</td>\n",
       "      <td>2018-01-12 20:48:24</td>\n",
       "    </tr>\n",
       "  </tbody>\n",
       "</table>\n",
       "</div>"
      ],
      "text/plain": [
       "                        customer_id                customer_unique_id  \\\n",
       "0  06b8999e2fba1a1fbc88172c00ba8bc7  861eff4711a542e4b93843c6dd7febb0   \n",
       "1  18955e83d337fd6b2def6b18a428ac77  290c77bc529b7ac935b93aa66c333dc3   \n",
       "\n",
       "   customer_zip_code_prefix          customer_city customer_state  \\\n",
       "0                     14409                 franca             SP   \n",
       "1                      9790  sao bernardo do campo             SP   \n",
       "\n",
       "                           order_id order_status order_purchase_timestamp  \\\n",
       "0  00e7ee1b050b8499577073aeb2a297a1    delivered      2017-05-16 15:05:35   \n",
       "1  29150127e6685892b6eab3eec79f59c7    delivered      2018-01-12 20:48:24   \n",
       "\n",
       "     order_approved_at order_delivered_carrier_date  \\\n",
       "0  2017-05-16 15:22:12          2017-05-23 10:47:57   \n",
       "1  2018-01-12 20:58:32          2018-01-15 17:14:59   \n",
       "\n",
       "  order_delivered_customer_date order_estimated_delivery_date  \\\n",
       "0           2017-05-25 10:35:35           2017-06-05 00:00:00   \n",
       "1           2018-01-29 12:41:19           2018-02-06 00:00:00   \n",
       "\n",
       "       first_purchase  \n",
       "0 2017-05-16 15:05:35  \n",
       "1 2018-01-12 20:48:24  "
      ]
     },
     "execution_count": 74,
     "metadata": {},
     "output_type": "execute_result"
    }
   ],
   "source": [
    "customers_orders5.head(2)"
   ]
  },
  {
   "cell_type": "code",
   "execution_count": 75,
   "id": "e1a02a33",
   "metadata": {},
   "outputs": [],
   "source": [
    "#приведу даты к месяцам, т.к. необходимы данные по месяцам\n",
    "customers_orders5.order_purchase_timestamp = customers_orders5.order_purchase_timestamp.dt.strftime('%Y-%m')\n",
    "customers_orders5.first_purchase = customers_orders5.first_purchase.dt.strftime('%Y-%m')"
   ]
  },
  {
   "cell_type": "code",
   "execution_count": 76,
   "id": "33ec4779",
   "metadata": {},
   "outputs": [],
   "source": [
    "# Так как нас интересуют только покупки и только за определённый период, отсортирую по статусам определяющим\n",
    "# покупку, и отберу интересующий меня промежуток. Сгруппирую по дате первой и последующей покупки, посчитаю \n",
    "# retention по месяцам(количество пользователей совершивших покупку по месяцам, \n",
    "# сгруппированные по дате первой покупки). Для этого посчитаю количество уникальных \"customer_unique_id\"\n",
    "customers_orders_group = customers_orders5 \\\n",
    "                         .query(\"order_status in ('processing', 'shipped', 'delivered', 'invoiced')\") \\\n",
    "                         .query( \"'2017-01' <= first_purchase <= '2017-12'\") \\\n",
    "                         .groupby([\"first_purchase\", \"order_purchase_timestamp\"], as_index=False) \\\n",
    "                         .agg({\"customer_unique_id\": \"nunique\"})"
   ]
  },
  {
   "cell_type": "code",
   "execution_count": 77,
   "id": "6e30f89e",
   "metadata": {},
   "outputs": [
    {
     "data": {
      "text/html": [
       "<div>\n",
       "<style scoped>\n",
       "    .dataframe tbody tr th:only-of-type {\n",
       "        vertical-align: middle;\n",
       "    }\n",
       "\n",
       "    .dataframe tbody tr th {\n",
       "        vertical-align: top;\n",
       "    }\n",
       "\n",
       "    .dataframe thead th {\n",
       "        text-align: right;\n",
       "    }\n",
       "</style>\n",
       "<table border=\"1\" class=\"dataframe\">\n",
       "  <thead>\n",
       "    <tr style=\"text-align: right;\">\n",
       "      <th></th>\n",
       "      <th>first_purchase</th>\n",
       "      <th>order_purchase_timestamp</th>\n",
       "      <th>customer_unique_id</th>\n",
       "    </tr>\n",
       "  </thead>\n",
       "  <tbody>\n",
       "    <tr>\n",
       "      <th>0</th>\n",
       "      <td>2017-01</td>\n",
       "      <td>2017-01</td>\n",
       "      <td>752</td>\n",
       "    </tr>\n",
       "    <tr>\n",
       "      <th>1</th>\n",
       "      <td>2017-01</td>\n",
       "      <td>2017-02</td>\n",
       "      <td>3</td>\n",
       "    </tr>\n",
       "    <tr>\n",
       "      <th>2</th>\n",
       "      <td>2017-01</td>\n",
       "      <td>2017-03</td>\n",
       "      <td>2</td>\n",
       "    </tr>\n",
       "    <tr>\n",
       "      <th>3</th>\n",
       "      <td>2017-01</td>\n",
       "      <td>2017-04</td>\n",
       "      <td>1</td>\n",
       "    </tr>\n",
       "    <tr>\n",
       "      <th>4</th>\n",
       "      <td>2017-01</td>\n",
       "      <td>2017-05</td>\n",
       "      <td>3</td>\n",
       "    </tr>\n",
       "    <tr>\n",
       "      <th>...</th>\n",
       "      <td>...</td>\n",
       "      <td>...</td>\n",
       "      <td>...</td>\n",
       "    </tr>\n",
       "    <tr>\n",
       "      <th>166</th>\n",
       "      <td>2017-12</td>\n",
       "      <td>2018-04</td>\n",
       "      <td>15</td>\n",
       "    </tr>\n",
       "    <tr>\n",
       "      <th>167</th>\n",
       "      <td>2017-12</td>\n",
       "      <td>2018-05</td>\n",
       "      <td>11</td>\n",
       "    </tr>\n",
       "    <tr>\n",
       "      <th>168</th>\n",
       "      <td>2017-12</td>\n",
       "      <td>2018-06</td>\n",
       "      <td>9</td>\n",
       "    </tr>\n",
       "    <tr>\n",
       "      <th>169</th>\n",
       "      <td>2017-12</td>\n",
       "      <td>2018-07</td>\n",
       "      <td>3</td>\n",
       "    </tr>\n",
       "    <tr>\n",
       "      <th>170</th>\n",
       "      <td>2017-12</td>\n",
       "      <td>2018-08</td>\n",
       "      <td>12</td>\n",
       "    </tr>\n",
       "  </tbody>\n",
       "</table>\n",
       "<p>171 rows × 3 columns</p>\n",
       "</div>"
      ],
      "text/plain": [
       "    first_purchase order_purchase_timestamp  customer_unique_id\n",
       "0          2017-01                  2017-01                 752\n",
       "1          2017-01                  2017-02                   3\n",
       "2          2017-01                  2017-03                   2\n",
       "3          2017-01                  2017-04                   1\n",
       "4          2017-01                  2017-05                   3\n",
       "..             ...                      ...                 ...\n",
       "166        2017-12                  2018-04                  15\n",
       "167        2017-12                  2018-05                  11\n",
       "168        2017-12                  2018-06                   9\n",
       "169        2017-12                  2018-07                   3\n",
       "170        2017-12                  2018-08                  12\n",
       "\n",
       "[171 rows x 3 columns]"
      ]
     },
     "execution_count": 77,
     "metadata": {},
     "output_type": "execute_result"
    }
   ],
   "source": [
    "customers_orders_group"
   ]
  },
  {
   "cell_type": "code",
   "execution_count": 78,
   "id": "40bf2529",
   "metadata": {},
   "outputs": [],
   "source": [
    "#Приведу данные колонок к месяцам, и посчитаю месяца повторной покупки. Для корректной записи использую \".apply(attrgetter(\"n\")\"\n",
    "customers_orders_group[\"first_purchase\"] = pd.to_datetime(customers_orders_group[\"first_purchase\"]).dt.to_period(\"m\")\n",
    "customers_orders_group[\"order_purchase_timestamp\"] = pd.to_datetime(customers_orders_group[\"order_purchase_timestamp\"]).dt.to_period(\"m\")\n",
    "customers_orders_group['period'] = (customers_orders_group.order_purchase_timestamp - customers_orders_group.first_purchase).apply(attrgetter(\"n\"))"
   ]
  },
  {
   "cell_type": "code",
   "execution_count": 79,
   "id": "f5af31bf",
   "metadata": {},
   "outputs": [
    {
     "data": {
      "text/html": [
       "<div>\n",
       "<style scoped>\n",
       "    .dataframe tbody tr th:only-of-type {\n",
       "        vertical-align: middle;\n",
       "    }\n",
       "\n",
       "    .dataframe tbody tr th {\n",
       "        vertical-align: top;\n",
       "    }\n",
       "\n",
       "    .dataframe thead th {\n",
       "        text-align: right;\n",
       "    }\n",
       "</style>\n",
       "<table border=\"1\" class=\"dataframe\">\n",
       "  <thead>\n",
       "    <tr style=\"text-align: right;\">\n",
       "      <th></th>\n",
       "      <th>first_purchase</th>\n",
       "      <th>order_purchase_timestamp</th>\n",
       "      <th>customer_unique_id</th>\n",
       "      <th>period</th>\n",
       "    </tr>\n",
       "  </thead>\n",
       "  <tbody>\n",
       "    <tr>\n",
       "      <th>0</th>\n",
       "      <td>2017-01</td>\n",
       "      <td>2017-01</td>\n",
       "      <td>752</td>\n",
       "      <td>0</td>\n",
       "    </tr>\n",
       "    <tr>\n",
       "      <th>1</th>\n",
       "      <td>2017-01</td>\n",
       "      <td>2017-02</td>\n",
       "      <td>3</td>\n",
       "      <td>1</td>\n",
       "    </tr>\n",
       "    <tr>\n",
       "      <th>2</th>\n",
       "      <td>2017-01</td>\n",
       "      <td>2017-03</td>\n",
       "      <td>2</td>\n",
       "      <td>2</td>\n",
       "    </tr>\n",
       "    <tr>\n",
       "      <th>3</th>\n",
       "      <td>2017-01</td>\n",
       "      <td>2017-04</td>\n",
       "      <td>1</td>\n",
       "      <td>3</td>\n",
       "    </tr>\n",
       "    <tr>\n",
       "      <th>4</th>\n",
       "      <td>2017-01</td>\n",
       "      <td>2017-05</td>\n",
       "      <td>3</td>\n",
       "      <td>4</td>\n",
       "    </tr>\n",
       "    <tr>\n",
       "      <th>...</th>\n",
       "      <td>...</td>\n",
       "      <td>...</td>\n",
       "      <td>...</td>\n",
       "      <td>...</td>\n",
       "    </tr>\n",
       "    <tr>\n",
       "      <th>166</th>\n",
       "      <td>2017-12</td>\n",
       "      <td>2018-04</td>\n",
       "      <td>15</td>\n",
       "      <td>4</td>\n",
       "    </tr>\n",
       "    <tr>\n",
       "      <th>167</th>\n",
       "      <td>2017-12</td>\n",
       "      <td>2018-05</td>\n",
       "      <td>11</td>\n",
       "      <td>5</td>\n",
       "    </tr>\n",
       "    <tr>\n",
       "      <th>168</th>\n",
       "      <td>2017-12</td>\n",
       "      <td>2018-06</td>\n",
       "      <td>9</td>\n",
       "      <td>6</td>\n",
       "    </tr>\n",
       "    <tr>\n",
       "      <th>169</th>\n",
       "      <td>2017-12</td>\n",
       "      <td>2018-07</td>\n",
       "      <td>3</td>\n",
       "      <td>7</td>\n",
       "    </tr>\n",
       "    <tr>\n",
       "      <th>170</th>\n",
       "      <td>2017-12</td>\n",
       "      <td>2018-08</td>\n",
       "      <td>12</td>\n",
       "      <td>8</td>\n",
       "    </tr>\n",
       "  </tbody>\n",
       "</table>\n",
       "<p>171 rows × 4 columns</p>\n",
       "</div>"
      ],
      "text/plain": [
       "    first_purchase order_purchase_timestamp  customer_unique_id  period\n",
       "0          2017-01                  2017-01                 752       0\n",
       "1          2017-01                  2017-02                   3       1\n",
       "2          2017-01                  2017-03                   2       2\n",
       "3          2017-01                  2017-04                   1       3\n",
       "4          2017-01                  2017-05                   3       4\n",
       "..             ...                      ...                 ...     ...\n",
       "166        2017-12                  2018-04                  15       4\n",
       "167        2017-12                  2018-05                  11       5\n",
       "168        2017-12                  2018-06                   9       6\n",
       "169        2017-12                  2018-07                   3       7\n",
       "170        2017-12                  2018-08                  12       8\n",
       "\n",
       "[171 rows x 4 columns]"
      ]
     },
     "execution_count": 79,
     "metadata": {},
     "output_type": "execute_result"
    }
   ],
   "source": [
    "customers_orders_group"
   ]
  },
  {
   "cell_type": "code",
   "execution_count": 80,
   "id": "ffdbd7a7",
   "metadata": {},
   "outputs": [],
   "source": [
    "#Разверну таблицу чтобы данные распределились в соответствии с заданием - индекс это дата первой покупки, столбцы -\n",
    "#через сколько месяцев была совершена повторная покупка, а значение - количество уникальных пользователей \n",
    "customers_orders_group = customers_orders_group.pivot(index='first_purchase', columns = 'period', values = 'customer_unique_id')"
   ]
  },
  {
   "cell_type": "code",
   "execution_count": 81,
   "id": "b0052a7a",
   "metadata": {},
   "outputs": [
    {
     "data": {
      "text/html": [
       "<div>\n",
       "<style scoped>\n",
       "    .dataframe tbody tr th:only-of-type {\n",
       "        vertical-align: middle;\n",
       "    }\n",
       "\n",
       "    .dataframe tbody tr th {\n",
       "        vertical-align: top;\n",
       "    }\n",
       "\n",
       "    .dataframe thead th {\n",
       "        text-align: right;\n",
       "    }\n",
       "</style>\n",
       "<table border=\"1\" class=\"dataframe\">\n",
       "  <thead>\n",
       "    <tr style=\"text-align: right;\">\n",
       "      <th>period</th>\n",
       "      <th>0</th>\n",
       "      <th>1</th>\n",
       "      <th>2</th>\n",
       "      <th>3</th>\n",
       "      <th>4</th>\n",
       "      <th>5</th>\n",
       "      <th>6</th>\n",
       "      <th>7</th>\n",
       "      <th>8</th>\n",
       "      <th>9</th>\n",
       "      <th>10</th>\n",
       "      <th>11</th>\n",
       "      <th>12</th>\n",
       "      <th>13</th>\n",
       "      <th>14</th>\n",
       "      <th>15</th>\n",
       "      <th>16</th>\n",
       "      <th>17</th>\n",
       "      <th>19</th>\n",
       "    </tr>\n",
       "    <tr>\n",
       "      <th>first_purchase</th>\n",
       "      <th></th>\n",
       "      <th></th>\n",
       "      <th></th>\n",
       "      <th></th>\n",
       "      <th></th>\n",
       "      <th></th>\n",
       "      <th></th>\n",
       "      <th></th>\n",
       "      <th></th>\n",
       "      <th></th>\n",
       "      <th></th>\n",
       "      <th></th>\n",
       "      <th></th>\n",
       "      <th></th>\n",
       "      <th></th>\n",
       "      <th></th>\n",
       "      <th></th>\n",
       "      <th></th>\n",
       "      <th></th>\n",
       "    </tr>\n",
       "  </thead>\n",
       "  <tbody>\n",
       "    <tr>\n",
       "      <th>2017-01</th>\n",
       "      <td>752.0</td>\n",
       "      <td>3.0</td>\n",
       "      <td>2.0</td>\n",
       "      <td>1.0</td>\n",
       "      <td>3.0</td>\n",
       "      <td>1.0</td>\n",
       "      <td>3.0</td>\n",
       "      <td>1.0</td>\n",
       "      <td>1.0</td>\n",
       "      <td>NaN</td>\n",
       "      <td>3.0</td>\n",
       "      <td>1.0</td>\n",
       "      <td>5.0</td>\n",
       "      <td>3.0</td>\n",
       "      <td>1.0</td>\n",
       "      <td>1.0</td>\n",
       "      <td>2.0</td>\n",
       "      <td>3.0</td>\n",
       "      <td>1.0</td>\n",
       "    </tr>\n",
       "    <tr>\n",
       "      <th>2017-02</th>\n",
       "      <td>1689.0</td>\n",
       "      <td>4.0</td>\n",
       "      <td>5.0</td>\n",
       "      <td>2.0</td>\n",
       "      <td>7.0</td>\n",
       "      <td>2.0</td>\n",
       "      <td>4.0</td>\n",
       "      <td>3.0</td>\n",
       "      <td>3.0</td>\n",
       "      <td>4.0</td>\n",
       "      <td>2.0</td>\n",
       "      <td>5.0</td>\n",
       "      <td>3.0</td>\n",
       "      <td>3.0</td>\n",
       "      <td>2.0</td>\n",
       "      <td>1.0</td>\n",
       "      <td>1.0</td>\n",
       "      <td>4.0</td>\n",
       "      <td>NaN</td>\n",
       "    </tr>\n",
       "    <tr>\n",
       "      <th>2017-03</th>\n",
       "      <td>2571.0</td>\n",
       "      <td>13.0</td>\n",
       "      <td>9.0</td>\n",
       "      <td>10.0</td>\n",
       "      <td>9.0</td>\n",
       "      <td>4.0</td>\n",
       "      <td>4.0</td>\n",
       "      <td>8.0</td>\n",
       "      <td>9.0</td>\n",
       "      <td>2.0</td>\n",
       "      <td>10.0</td>\n",
       "      <td>3.0</td>\n",
       "      <td>6.0</td>\n",
       "      <td>3.0</td>\n",
       "      <td>4.0</td>\n",
       "      <td>6.0</td>\n",
       "      <td>2.0</td>\n",
       "      <td>4.0</td>\n",
       "      <td>NaN</td>\n",
       "    </tr>\n",
       "    <tr>\n",
       "      <th>2017-04</th>\n",
       "      <td>2324.0</td>\n",
       "      <td>14.0</td>\n",
       "      <td>5.0</td>\n",
       "      <td>4.0</td>\n",
       "      <td>8.0</td>\n",
       "      <td>6.0</td>\n",
       "      <td>8.0</td>\n",
       "      <td>7.0</td>\n",
       "      <td>7.0</td>\n",
       "      <td>4.0</td>\n",
       "      <td>6.0</td>\n",
       "      <td>2.0</td>\n",
       "      <td>2.0</td>\n",
       "      <td>1.0</td>\n",
       "      <td>2.0</td>\n",
       "      <td>2.0</td>\n",
       "      <td>5.0</td>\n",
       "      <td>NaN</td>\n",
       "      <td>NaN</td>\n",
       "    </tr>\n",
       "    <tr>\n",
       "      <th>2017-05</th>\n",
       "      <td>3541.0</td>\n",
       "      <td>18.0</td>\n",
       "      <td>18.0</td>\n",
       "      <td>14.0</td>\n",
       "      <td>11.0</td>\n",
       "      <td>12.0</td>\n",
       "      <td>15.0</td>\n",
       "      <td>6.0</td>\n",
       "      <td>9.0</td>\n",
       "      <td>9.0</td>\n",
       "      <td>9.0</td>\n",
       "      <td>12.0</td>\n",
       "      <td>9.0</td>\n",
       "      <td>1.0</td>\n",
       "      <td>7.0</td>\n",
       "      <td>9.0</td>\n",
       "      <td>NaN</td>\n",
       "      <td>NaN</td>\n",
       "      <td>NaN</td>\n",
       "    </tr>\n",
       "    <tr>\n",
       "      <th>2017-06</th>\n",
       "      <td>3101.0</td>\n",
       "      <td>15.0</td>\n",
       "      <td>11.0</td>\n",
       "      <td>12.0</td>\n",
       "      <td>8.0</td>\n",
       "      <td>12.0</td>\n",
       "      <td>12.0</td>\n",
       "      <td>7.0</td>\n",
       "      <td>4.0</td>\n",
       "      <td>7.0</td>\n",
       "      <td>10.0</td>\n",
       "      <td>10.0</td>\n",
       "      <td>5.0</td>\n",
       "      <td>4.0</td>\n",
       "      <td>6.0</td>\n",
       "      <td>NaN</td>\n",
       "      <td>NaN</td>\n",
       "      <td>NaN</td>\n",
       "      <td>NaN</td>\n",
       "    </tr>\n",
       "    <tr>\n",
       "      <th>2017-07</th>\n",
       "      <td>3820.0</td>\n",
       "      <td>20.0</td>\n",
       "      <td>14.0</td>\n",
       "      <td>10.0</td>\n",
       "      <td>11.0</td>\n",
       "      <td>8.0</td>\n",
       "      <td>12.0</td>\n",
       "      <td>4.0</td>\n",
       "      <td>7.0</td>\n",
       "      <td>10.0</td>\n",
       "      <td>9.0</td>\n",
       "      <td>11.0</td>\n",
       "      <td>5.0</td>\n",
       "      <td>10.0</td>\n",
       "      <td>NaN</td>\n",
       "      <td>NaN</td>\n",
       "      <td>NaN</td>\n",
       "      <td>NaN</td>\n",
       "      <td>NaN</td>\n",
       "    </tr>\n",
       "    <tr>\n",
       "      <th>2017-08</th>\n",
       "      <td>4129.0</td>\n",
       "      <td>29.0</td>\n",
       "      <td>14.0</td>\n",
       "      <td>11.0</td>\n",
       "      <td>15.0</td>\n",
       "      <td>22.0</td>\n",
       "      <td>12.0</td>\n",
       "      <td>11.0</td>\n",
       "      <td>6.0</td>\n",
       "      <td>6.0</td>\n",
       "      <td>10.0</td>\n",
       "      <td>8.0</td>\n",
       "      <td>4.0</td>\n",
       "      <td>NaN</td>\n",
       "      <td>NaN</td>\n",
       "      <td>NaN</td>\n",
       "      <td>NaN</td>\n",
       "      <td>NaN</td>\n",
       "      <td>NaN</td>\n",
       "    </tr>\n",
       "    <tr>\n",
       "      <th>2017-09</th>\n",
       "      <td>4073.0</td>\n",
       "      <td>28.0</td>\n",
       "      <td>22.0</td>\n",
       "      <td>12.0</td>\n",
       "      <td>18.0</td>\n",
       "      <td>9.0</td>\n",
       "      <td>9.0</td>\n",
       "      <td>10.0</td>\n",
       "      <td>12.0</td>\n",
       "      <td>7.0</td>\n",
       "      <td>11.0</td>\n",
       "      <td>3.0</td>\n",
       "      <td>NaN</td>\n",
       "      <td>NaN</td>\n",
       "      <td>NaN</td>\n",
       "      <td>NaN</td>\n",
       "      <td>NaN</td>\n",
       "      <td>NaN</td>\n",
       "      <td>NaN</td>\n",
       "    </tr>\n",
       "    <tr>\n",
       "      <th>2017-10</th>\n",
       "      <td>4390.0</td>\n",
       "      <td>31.0</td>\n",
       "      <td>11.0</td>\n",
       "      <td>4.0</td>\n",
       "      <td>10.0</td>\n",
       "      <td>9.0</td>\n",
       "      <td>9.0</td>\n",
       "      <td>16.0</td>\n",
       "      <td>12.0</td>\n",
       "      <td>9.0</td>\n",
       "      <td>9.0</td>\n",
       "      <td>NaN</td>\n",
       "      <td>NaN</td>\n",
       "      <td>NaN</td>\n",
       "      <td>NaN</td>\n",
       "      <td>NaN</td>\n",
       "      <td>NaN</td>\n",
       "      <td>NaN</td>\n",
       "      <td>NaN</td>\n",
       "    </tr>\n",
       "    <tr>\n",
       "      <th>2017-11</th>\n",
       "      <td>7187.0</td>\n",
       "      <td>40.0</td>\n",
       "      <td>28.0</td>\n",
       "      <td>12.0</td>\n",
       "      <td>14.0</td>\n",
       "      <td>13.0</td>\n",
       "      <td>8.0</td>\n",
       "      <td>14.0</td>\n",
       "      <td>9.0</td>\n",
       "      <td>4.0</td>\n",
       "      <td>NaN</td>\n",
       "      <td>NaN</td>\n",
       "      <td>NaN</td>\n",
       "      <td>NaN</td>\n",
       "      <td>NaN</td>\n",
       "      <td>NaN</td>\n",
       "      <td>NaN</td>\n",
       "      <td>NaN</td>\n",
       "      <td>NaN</td>\n",
       "    </tr>\n",
       "    <tr>\n",
       "      <th>2017-12</th>\n",
       "      <td>5435.0</td>\n",
       "      <td>14.0</td>\n",
       "      <td>15.0</td>\n",
       "      <td>19.0</td>\n",
       "      <td>15.0</td>\n",
       "      <td>11.0</td>\n",
       "      <td>9.0</td>\n",
       "      <td>3.0</td>\n",
       "      <td>12.0</td>\n",
       "      <td>NaN</td>\n",
       "      <td>NaN</td>\n",
       "      <td>NaN</td>\n",
       "      <td>NaN</td>\n",
       "      <td>NaN</td>\n",
       "      <td>NaN</td>\n",
       "      <td>NaN</td>\n",
       "      <td>NaN</td>\n",
       "      <td>NaN</td>\n",
       "      <td>NaN</td>\n",
       "    </tr>\n",
       "  </tbody>\n",
       "</table>\n",
       "</div>"
      ],
      "text/plain": [
       "period              0     1     2     3     4     5     6     7     8     9   \\\n",
       "first_purchase                                                                 \n",
       "2017-01          752.0   3.0   2.0   1.0   3.0   1.0   3.0   1.0   1.0   NaN   \n",
       "2017-02         1689.0   4.0   5.0   2.0   7.0   2.0   4.0   3.0   3.0   4.0   \n",
       "2017-03         2571.0  13.0   9.0  10.0   9.0   4.0   4.0   8.0   9.0   2.0   \n",
       "2017-04         2324.0  14.0   5.0   4.0   8.0   6.0   8.0   7.0   7.0   4.0   \n",
       "2017-05         3541.0  18.0  18.0  14.0  11.0  12.0  15.0   6.0   9.0   9.0   \n",
       "2017-06         3101.0  15.0  11.0  12.0   8.0  12.0  12.0   7.0   4.0   7.0   \n",
       "2017-07         3820.0  20.0  14.0  10.0  11.0   8.0  12.0   4.0   7.0  10.0   \n",
       "2017-08         4129.0  29.0  14.0  11.0  15.0  22.0  12.0  11.0   6.0   6.0   \n",
       "2017-09         4073.0  28.0  22.0  12.0  18.0   9.0   9.0  10.0  12.0   7.0   \n",
       "2017-10         4390.0  31.0  11.0   4.0  10.0   9.0   9.0  16.0  12.0   9.0   \n",
       "2017-11         7187.0  40.0  28.0  12.0  14.0  13.0   8.0  14.0   9.0   4.0   \n",
       "2017-12         5435.0  14.0  15.0  19.0  15.0  11.0   9.0   3.0  12.0   NaN   \n",
       "\n",
       "period            10    11   12    13   14   15   16   17   19  \n",
       "first_purchase                                                  \n",
       "2017-01          3.0   1.0  5.0   3.0  1.0  1.0  2.0  3.0  1.0  \n",
       "2017-02          2.0   5.0  3.0   3.0  2.0  1.0  1.0  4.0  NaN  \n",
       "2017-03         10.0   3.0  6.0   3.0  4.0  6.0  2.0  4.0  NaN  \n",
       "2017-04          6.0   2.0  2.0   1.0  2.0  2.0  5.0  NaN  NaN  \n",
       "2017-05          9.0  12.0  9.0   1.0  7.0  9.0  NaN  NaN  NaN  \n",
       "2017-06         10.0  10.0  5.0   4.0  6.0  NaN  NaN  NaN  NaN  \n",
       "2017-07          9.0  11.0  5.0  10.0  NaN  NaN  NaN  NaN  NaN  \n",
       "2017-08         10.0   8.0  4.0   NaN  NaN  NaN  NaN  NaN  NaN  \n",
       "2017-09         11.0   3.0  NaN   NaN  NaN  NaN  NaN  NaN  NaN  \n",
       "2017-10          9.0   NaN  NaN   NaN  NaN  NaN  NaN  NaN  NaN  \n",
       "2017-11          NaN   NaN  NaN   NaN  NaN  NaN  NaN  NaN  NaN  \n",
       "2017-12          NaN   NaN  NaN   NaN  NaN  NaN  NaN  NaN  NaN  "
      ]
     },
     "execution_count": 81,
     "metadata": {},
     "output_type": "execute_result"
    }
   ],
   "source": [
    "#Посмотрю на получившиеся значения. Столбец \"0\" - это покупка в первый месяц. То есть для поиска значения за третий\n",
    "#необходимо смотреть столбец \"2\"\n",
    "customers_orders_group"
   ]
  },
  {
   "cell_type": "code",
   "execution_count": 424,
   "id": "1b5a171b",
   "metadata": {},
   "outputs": [],
   "source": [
    "#Приведу значения к соотношениям. Для этого использую метод \"div\", он делит каждое значение в DataFrame на \n",
    "#указанное значение\n",
    "retention = customers_orders_group.div(customers_orders_group.iloc[:,0], axis = 0)"
   ]
  },
  {
   "cell_type": "markdown",
   "id": "488b9310",
   "metadata": {},
   "source": [
    "Виузализирую распределение в процентах"
   ]
  },
  {
   "cell_type": "code",
   "execution_count": 429,
   "id": "2e8acc72",
   "metadata": {},
   "outputs": [],
   "source": [
    "retention_color = (retention\n",
    "            .style\n",
    "            .highlight_null('white').format(\"{:.2%}\", na_rep=\"\"))"
   ]
  },
  {
   "cell_type": "code",
   "execution_count": 430,
   "id": "9dda445c",
   "metadata": {},
   "outputs": [
    {
     "data": {
      "text/html": [
       "<style type=\"text/css\">\n",
       "#T_6b53a_row0_col9, #T_6b53a_row1_col18, #T_6b53a_row2_col18, #T_6b53a_row3_col17, #T_6b53a_row3_col18, #T_6b53a_row4_col16, #T_6b53a_row4_col17, #T_6b53a_row4_col18, #T_6b53a_row5_col15, #T_6b53a_row5_col16, #T_6b53a_row5_col17, #T_6b53a_row5_col18, #T_6b53a_row6_col14, #T_6b53a_row6_col15, #T_6b53a_row6_col16, #T_6b53a_row6_col17, #T_6b53a_row6_col18, #T_6b53a_row7_col13, #T_6b53a_row7_col14, #T_6b53a_row7_col15, #T_6b53a_row7_col16, #T_6b53a_row7_col17, #T_6b53a_row7_col18, #T_6b53a_row8_col12, #T_6b53a_row8_col13, #T_6b53a_row8_col14, #T_6b53a_row8_col15, #T_6b53a_row8_col16, #T_6b53a_row8_col17, #T_6b53a_row8_col18, #T_6b53a_row9_col11, #T_6b53a_row9_col12, #T_6b53a_row9_col13, #T_6b53a_row9_col14, #T_6b53a_row9_col15, #T_6b53a_row9_col16, #T_6b53a_row9_col17, #T_6b53a_row9_col18, #T_6b53a_row10_col10, #T_6b53a_row10_col11, #T_6b53a_row10_col12, #T_6b53a_row10_col13, #T_6b53a_row10_col14, #T_6b53a_row10_col15, #T_6b53a_row10_col16, #T_6b53a_row10_col17, #T_6b53a_row10_col18, #T_6b53a_row11_col9, #T_6b53a_row11_col10, #T_6b53a_row11_col11, #T_6b53a_row11_col12, #T_6b53a_row11_col13, #T_6b53a_row11_col14, #T_6b53a_row11_col15, #T_6b53a_row11_col16, #T_6b53a_row11_col17, #T_6b53a_row11_col18 {\n",
       "  background-color: white;\n",
       "}\n",
       "</style>\n",
       "<table id=\"T_6b53a\">\n",
       "  <thead>\n",
       "    <tr>\n",
       "      <th class=\"index_name level0\" >period</th>\n",
       "      <th id=\"T_6b53a_level0_col0\" class=\"col_heading level0 col0\" >0</th>\n",
       "      <th id=\"T_6b53a_level0_col1\" class=\"col_heading level0 col1\" >1</th>\n",
       "      <th id=\"T_6b53a_level0_col2\" class=\"col_heading level0 col2\" >2</th>\n",
       "      <th id=\"T_6b53a_level0_col3\" class=\"col_heading level0 col3\" >3</th>\n",
       "      <th id=\"T_6b53a_level0_col4\" class=\"col_heading level0 col4\" >4</th>\n",
       "      <th id=\"T_6b53a_level0_col5\" class=\"col_heading level0 col5\" >5</th>\n",
       "      <th id=\"T_6b53a_level0_col6\" class=\"col_heading level0 col6\" >6</th>\n",
       "      <th id=\"T_6b53a_level0_col7\" class=\"col_heading level0 col7\" >7</th>\n",
       "      <th id=\"T_6b53a_level0_col8\" class=\"col_heading level0 col8\" >8</th>\n",
       "      <th id=\"T_6b53a_level0_col9\" class=\"col_heading level0 col9\" >9</th>\n",
       "      <th id=\"T_6b53a_level0_col10\" class=\"col_heading level0 col10\" >10</th>\n",
       "      <th id=\"T_6b53a_level0_col11\" class=\"col_heading level0 col11\" >11</th>\n",
       "      <th id=\"T_6b53a_level0_col12\" class=\"col_heading level0 col12\" >12</th>\n",
       "      <th id=\"T_6b53a_level0_col13\" class=\"col_heading level0 col13\" >13</th>\n",
       "      <th id=\"T_6b53a_level0_col14\" class=\"col_heading level0 col14\" >14</th>\n",
       "      <th id=\"T_6b53a_level0_col15\" class=\"col_heading level0 col15\" >15</th>\n",
       "      <th id=\"T_6b53a_level0_col16\" class=\"col_heading level0 col16\" >16</th>\n",
       "      <th id=\"T_6b53a_level0_col17\" class=\"col_heading level0 col17\" >17</th>\n",
       "      <th id=\"T_6b53a_level0_col18\" class=\"col_heading level0 col18\" >19</th>\n",
       "    </tr>\n",
       "    <tr>\n",
       "      <th class=\"index_name level0\" >first_purchase</th>\n",
       "      <th class=\"blank col0\" >&nbsp;</th>\n",
       "      <th class=\"blank col1\" >&nbsp;</th>\n",
       "      <th class=\"blank col2\" >&nbsp;</th>\n",
       "      <th class=\"blank col3\" >&nbsp;</th>\n",
       "      <th class=\"blank col4\" >&nbsp;</th>\n",
       "      <th class=\"blank col5\" >&nbsp;</th>\n",
       "      <th class=\"blank col6\" >&nbsp;</th>\n",
       "      <th class=\"blank col7\" >&nbsp;</th>\n",
       "      <th class=\"blank col8\" >&nbsp;</th>\n",
       "      <th class=\"blank col9\" >&nbsp;</th>\n",
       "      <th class=\"blank col10\" >&nbsp;</th>\n",
       "      <th class=\"blank col11\" >&nbsp;</th>\n",
       "      <th class=\"blank col12\" >&nbsp;</th>\n",
       "      <th class=\"blank col13\" >&nbsp;</th>\n",
       "      <th class=\"blank col14\" >&nbsp;</th>\n",
       "      <th class=\"blank col15\" >&nbsp;</th>\n",
       "      <th class=\"blank col16\" >&nbsp;</th>\n",
       "      <th class=\"blank col17\" >&nbsp;</th>\n",
       "      <th class=\"blank col18\" >&nbsp;</th>\n",
       "    </tr>\n",
       "  </thead>\n",
       "  <tbody>\n",
       "    <tr>\n",
       "      <th id=\"T_6b53a_level0_row0\" class=\"row_heading level0 row0\" >2017-01</th>\n",
       "      <td id=\"T_6b53a_row0_col0\" class=\"data row0 col0\" >100.00%</td>\n",
       "      <td id=\"T_6b53a_row0_col1\" class=\"data row0 col1\" >0.40%</td>\n",
       "      <td id=\"T_6b53a_row0_col2\" class=\"data row0 col2\" >0.27%</td>\n",
       "      <td id=\"T_6b53a_row0_col3\" class=\"data row0 col3\" >0.13%</td>\n",
       "      <td id=\"T_6b53a_row0_col4\" class=\"data row0 col4\" >0.40%</td>\n",
       "      <td id=\"T_6b53a_row0_col5\" class=\"data row0 col5\" >0.13%</td>\n",
       "      <td id=\"T_6b53a_row0_col6\" class=\"data row0 col6\" >0.40%</td>\n",
       "      <td id=\"T_6b53a_row0_col7\" class=\"data row0 col7\" >0.13%</td>\n",
       "      <td id=\"T_6b53a_row0_col8\" class=\"data row0 col8\" >0.13%</td>\n",
       "      <td id=\"T_6b53a_row0_col9\" class=\"data row0 col9\" ></td>\n",
       "      <td id=\"T_6b53a_row0_col10\" class=\"data row0 col10\" >0.40%</td>\n",
       "      <td id=\"T_6b53a_row0_col11\" class=\"data row0 col11\" >0.13%</td>\n",
       "      <td id=\"T_6b53a_row0_col12\" class=\"data row0 col12\" >0.66%</td>\n",
       "      <td id=\"T_6b53a_row0_col13\" class=\"data row0 col13\" >0.40%</td>\n",
       "      <td id=\"T_6b53a_row0_col14\" class=\"data row0 col14\" >0.13%</td>\n",
       "      <td id=\"T_6b53a_row0_col15\" class=\"data row0 col15\" >0.13%</td>\n",
       "      <td id=\"T_6b53a_row0_col16\" class=\"data row0 col16\" >0.27%</td>\n",
       "      <td id=\"T_6b53a_row0_col17\" class=\"data row0 col17\" >0.40%</td>\n",
       "      <td id=\"T_6b53a_row0_col18\" class=\"data row0 col18\" >0.13%</td>\n",
       "    </tr>\n",
       "    <tr>\n",
       "      <th id=\"T_6b53a_level0_row1\" class=\"row_heading level0 row1\" >2017-02</th>\n",
       "      <td id=\"T_6b53a_row1_col0\" class=\"data row1 col0\" >100.00%</td>\n",
       "      <td id=\"T_6b53a_row1_col1\" class=\"data row1 col1\" >0.24%</td>\n",
       "      <td id=\"T_6b53a_row1_col2\" class=\"data row1 col2\" >0.30%</td>\n",
       "      <td id=\"T_6b53a_row1_col3\" class=\"data row1 col3\" >0.12%</td>\n",
       "      <td id=\"T_6b53a_row1_col4\" class=\"data row1 col4\" >0.41%</td>\n",
       "      <td id=\"T_6b53a_row1_col5\" class=\"data row1 col5\" >0.12%</td>\n",
       "      <td id=\"T_6b53a_row1_col6\" class=\"data row1 col6\" >0.24%</td>\n",
       "      <td id=\"T_6b53a_row1_col7\" class=\"data row1 col7\" >0.18%</td>\n",
       "      <td id=\"T_6b53a_row1_col8\" class=\"data row1 col8\" >0.18%</td>\n",
       "      <td id=\"T_6b53a_row1_col9\" class=\"data row1 col9\" >0.24%</td>\n",
       "      <td id=\"T_6b53a_row1_col10\" class=\"data row1 col10\" >0.12%</td>\n",
       "      <td id=\"T_6b53a_row1_col11\" class=\"data row1 col11\" >0.30%</td>\n",
       "      <td id=\"T_6b53a_row1_col12\" class=\"data row1 col12\" >0.18%</td>\n",
       "      <td id=\"T_6b53a_row1_col13\" class=\"data row1 col13\" >0.18%</td>\n",
       "      <td id=\"T_6b53a_row1_col14\" class=\"data row1 col14\" >0.12%</td>\n",
       "      <td id=\"T_6b53a_row1_col15\" class=\"data row1 col15\" >0.06%</td>\n",
       "      <td id=\"T_6b53a_row1_col16\" class=\"data row1 col16\" >0.06%</td>\n",
       "      <td id=\"T_6b53a_row1_col17\" class=\"data row1 col17\" >0.24%</td>\n",
       "      <td id=\"T_6b53a_row1_col18\" class=\"data row1 col18\" ></td>\n",
       "    </tr>\n",
       "    <tr>\n",
       "      <th id=\"T_6b53a_level0_row2\" class=\"row_heading level0 row2\" >2017-03</th>\n",
       "      <td id=\"T_6b53a_row2_col0\" class=\"data row2 col0\" >100.00%</td>\n",
       "      <td id=\"T_6b53a_row2_col1\" class=\"data row2 col1\" >0.51%</td>\n",
       "      <td id=\"T_6b53a_row2_col2\" class=\"data row2 col2\" >0.35%</td>\n",
       "      <td id=\"T_6b53a_row2_col3\" class=\"data row2 col3\" >0.39%</td>\n",
       "      <td id=\"T_6b53a_row2_col4\" class=\"data row2 col4\" >0.35%</td>\n",
       "      <td id=\"T_6b53a_row2_col5\" class=\"data row2 col5\" >0.16%</td>\n",
       "      <td id=\"T_6b53a_row2_col6\" class=\"data row2 col6\" >0.16%</td>\n",
       "      <td id=\"T_6b53a_row2_col7\" class=\"data row2 col7\" >0.31%</td>\n",
       "      <td id=\"T_6b53a_row2_col8\" class=\"data row2 col8\" >0.35%</td>\n",
       "      <td id=\"T_6b53a_row2_col9\" class=\"data row2 col9\" >0.08%</td>\n",
       "      <td id=\"T_6b53a_row2_col10\" class=\"data row2 col10\" >0.39%</td>\n",
       "      <td id=\"T_6b53a_row2_col11\" class=\"data row2 col11\" >0.12%</td>\n",
       "      <td id=\"T_6b53a_row2_col12\" class=\"data row2 col12\" >0.23%</td>\n",
       "      <td id=\"T_6b53a_row2_col13\" class=\"data row2 col13\" >0.12%</td>\n",
       "      <td id=\"T_6b53a_row2_col14\" class=\"data row2 col14\" >0.16%</td>\n",
       "      <td id=\"T_6b53a_row2_col15\" class=\"data row2 col15\" >0.23%</td>\n",
       "      <td id=\"T_6b53a_row2_col16\" class=\"data row2 col16\" >0.08%</td>\n",
       "      <td id=\"T_6b53a_row2_col17\" class=\"data row2 col17\" >0.16%</td>\n",
       "      <td id=\"T_6b53a_row2_col18\" class=\"data row2 col18\" ></td>\n",
       "    </tr>\n",
       "    <tr>\n",
       "      <th id=\"T_6b53a_level0_row3\" class=\"row_heading level0 row3\" >2017-04</th>\n",
       "      <td id=\"T_6b53a_row3_col0\" class=\"data row3 col0\" >100.00%</td>\n",
       "      <td id=\"T_6b53a_row3_col1\" class=\"data row3 col1\" >0.60%</td>\n",
       "      <td id=\"T_6b53a_row3_col2\" class=\"data row3 col2\" >0.22%</td>\n",
       "      <td id=\"T_6b53a_row3_col3\" class=\"data row3 col3\" >0.17%</td>\n",
       "      <td id=\"T_6b53a_row3_col4\" class=\"data row3 col4\" >0.34%</td>\n",
       "      <td id=\"T_6b53a_row3_col5\" class=\"data row3 col5\" >0.26%</td>\n",
       "      <td id=\"T_6b53a_row3_col6\" class=\"data row3 col6\" >0.34%</td>\n",
       "      <td id=\"T_6b53a_row3_col7\" class=\"data row3 col7\" >0.30%</td>\n",
       "      <td id=\"T_6b53a_row3_col8\" class=\"data row3 col8\" >0.30%</td>\n",
       "      <td id=\"T_6b53a_row3_col9\" class=\"data row3 col9\" >0.17%</td>\n",
       "      <td id=\"T_6b53a_row3_col10\" class=\"data row3 col10\" >0.26%</td>\n",
       "      <td id=\"T_6b53a_row3_col11\" class=\"data row3 col11\" >0.09%</td>\n",
       "      <td id=\"T_6b53a_row3_col12\" class=\"data row3 col12\" >0.09%</td>\n",
       "      <td id=\"T_6b53a_row3_col13\" class=\"data row3 col13\" >0.04%</td>\n",
       "      <td id=\"T_6b53a_row3_col14\" class=\"data row3 col14\" >0.09%</td>\n",
       "      <td id=\"T_6b53a_row3_col15\" class=\"data row3 col15\" >0.09%</td>\n",
       "      <td id=\"T_6b53a_row3_col16\" class=\"data row3 col16\" >0.22%</td>\n",
       "      <td id=\"T_6b53a_row3_col17\" class=\"data row3 col17\" ></td>\n",
       "      <td id=\"T_6b53a_row3_col18\" class=\"data row3 col18\" ></td>\n",
       "    </tr>\n",
       "    <tr>\n",
       "      <th id=\"T_6b53a_level0_row4\" class=\"row_heading level0 row4\" >2017-05</th>\n",
       "      <td id=\"T_6b53a_row4_col0\" class=\"data row4 col0\" >100.00%</td>\n",
       "      <td id=\"T_6b53a_row4_col1\" class=\"data row4 col1\" >0.51%</td>\n",
       "      <td id=\"T_6b53a_row4_col2\" class=\"data row4 col2\" >0.51%</td>\n",
       "      <td id=\"T_6b53a_row4_col3\" class=\"data row4 col3\" >0.40%</td>\n",
       "      <td id=\"T_6b53a_row4_col4\" class=\"data row4 col4\" >0.31%</td>\n",
       "      <td id=\"T_6b53a_row4_col5\" class=\"data row4 col5\" >0.34%</td>\n",
       "      <td id=\"T_6b53a_row4_col6\" class=\"data row4 col6\" >0.42%</td>\n",
       "      <td id=\"T_6b53a_row4_col7\" class=\"data row4 col7\" >0.17%</td>\n",
       "      <td id=\"T_6b53a_row4_col8\" class=\"data row4 col8\" >0.25%</td>\n",
       "      <td id=\"T_6b53a_row4_col9\" class=\"data row4 col9\" >0.25%</td>\n",
       "      <td id=\"T_6b53a_row4_col10\" class=\"data row4 col10\" >0.25%</td>\n",
       "      <td id=\"T_6b53a_row4_col11\" class=\"data row4 col11\" >0.34%</td>\n",
       "      <td id=\"T_6b53a_row4_col12\" class=\"data row4 col12\" >0.25%</td>\n",
       "      <td id=\"T_6b53a_row4_col13\" class=\"data row4 col13\" >0.03%</td>\n",
       "      <td id=\"T_6b53a_row4_col14\" class=\"data row4 col14\" >0.20%</td>\n",
       "      <td id=\"T_6b53a_row4_col15\" class=\"data row4 col15\" >0.25%</td>\n",
       "      <td id=\"T_6b53a_row4_col16\" class=\"data row4 col16\" ></td>\n",
       "      <td id=\"T_6b53a_row4_col17\" class=\"data row4 col17\" ></td>\n",
       "      <td id=\"T_6b53a_row4_col18\" class=\"data row4 col18\" ></td>\n",
       "    </tr>\n",
       "    <tr>\n",
       "      <th id=\"T_6b53a_level0_row5\" class=\"row_heading level0 row5\" >2017-06</th>\n",
       "      <td id=\"T_6b53a_row5_col0\" class=\"data row5 col0\" >100.00%</td>\n",
       "      <td id=\"T_6b53a_row5_col1\" class=\"data row5 col1\" >0.48%</td>\n",
       "      <td id=\"T_6b53a_row5_col2\" class=\"data row5 col2\" >0.35%</td>\n",
       "      <td id=\"T_6b53a_row5_col3\" class=\"data row5 col3\" >0.39%</td>\n",
       "      <td id=\"T_6b53a_row5_col4\" class=\"data row5 col4\" >0.26%</td>\n",
       "      <td id=\"T_6b53a_row5_col5\" class=\"data row5 col5\" >0.39%</td>\n",
       "      <td id=\"T_6b53a_row5_col6\" class=\"data row5 col6\" >0.39%</td>\n",
       "      <td id=\"T_6b53a_row5_col7\" class=\"data row5 col7\" >0.23%</td>\n",
       "      <td id=\"T_6b53a_row5_col8\" class=\"data row5 col8\" >0.13%</td>\n",
       "      <td id=\"T_6b53a_row5_col9\" class=\"data row5 col9\" >0.23%</td>\n",
       "      <td id=\"T_6b53a_row5_col10\" class=\"data row5 col10\" >0.32%</td>\n",
       "      <td id=\"T_6b53a_row5_col11\" class=\"data row5 col11\" >0.32%</td>\n",
       "      <td id=\"T_6b53a_row5_col12\" class=\"data row5 col12\" >0.16%</td>\n",
       "      <td id=\"T_6b53a_row5_col13\" class=\"data row5 col13\" >0.13%</td>\n",
       "      <td id=\"T_6b53a_row5_col14\" class=\"data row5 col14\" >0.19%</td>\n",
       "      <td id=\"T_6b53a_row5_col15\" class=\"data row5 col15\" ></td>\n",
       "      <td id=\"T_6b53a_row5_col16\" class=\"data row5 col16\" ></td>\n",
       "      <td id=\"T_6b53a_row5_col17\" class=\"data row5 col17\" ></td>\n",
       "      <td id=\"T_6b53a_row5_col18\" class=\"data row5 col18\" ></td>\n",
       "    </tr>\n",
       "    <tr>\n",
       "      <th id=\"T_6b53a_level0_row6\" class=\"row_heading level0 row6\" >2017-07</th>\n",
       "      <td id=\"T_6b53a_row6_col0\" class=\"data row6 col0\" >100.00%</td>\n",
       "      <td id=\"T_6b53a_row6_col1\" class=\"data row6 col1\" >0.52%</td>\n",
       "      <td id=\"T_6b53a_row6_col2\" class=\"data row6 col2\" >0.37%</td>\n",
       "      <td id=\"T_6b53a_row6_col3\" class=\"data row6 col3\" >0.26%</td>\n",
       "      <td id=\"T_6b53a_row6_col4\" class=\"data row6 col4\" >0.29%</td>\n",
       "      <td id=\"T_6b53a_row6_col5\" class=\"data row6 col5\" >0.21%</td>\n",
       "      <td id=\"T_6b53a_row6_col6\" class=\"data row6 col6\" >0.31%</td>\n",
       "      <td id=\"T_6b53a_row6_col7\" class=\"data row6 col7\" >0.10%</td>\n",
       "      <td id=\"T_6b53a_row6_col8\" class=\"data row6 col8\" >0.18%</td>\n",
       "      <td id=\"T_6b53a_row6_col9\" class=\"data row6 col9\" >0.26%</td>\n",
       "      <td id=\"T_6b53a_row6_col10\" class=\"data row6 col10\" >0.24%</td>\n",
       "      <td id=\"T_6b53a_row6_col11\" class=\"data row6 col11\" >0.29%</td>\n",
       "      <td id=\"T_6b53a_row6_col12\" class=\"data row6 col12\" >0.13%</td>\n",
       "      <td id=\"T_6b53a_row6_col13\" class=\"data row6 col13\" >0.26%</td>\n",
       "      <td id=\"T_6b53a_row6_col14\" class=\"data row6 col14\" ></td>\n",
       "      <td id=\"T_6b53a_row6_col15\" class=\"data row6 col15\" ></td>\n",
       "      <td id=\"T_6b53a_row6_col16\" class=\"data row6 col16\" ></td>\n",
       "      <td id=\"T_6b53a_row6_col17\" class=\"data row6 col17\" ></td>\n",
       "      <td id=\"T_6b53a_row6_col18\" class=\"data row6 col18\" ></td>\n",
       "    </tr>\n",
       "    <tr>\n",
       "      <th id=\"T_6b53a_level0_row7\" class=\"row_heading level0 row7\" >2017-08</th>\n",
       "      <td id=\"T_6b53a_row7_col0\" class=\"data row7 col0\" >100.00%</td>\n",
       "      <td id=\"T_6b53a_row7_col1\" class=\"data row7 col1\" >0.70%</td>\n",
       "      <td id=\"T_6b53a_row7_col2\" class=\"data row7 col2\" >0.34%</td>\n",
       "      <td id=\"T_6b53a_row7_col3\" class=\"data row7 col3\" >0.27%</td>\n",
       "      <td id=\"T_6b53a_row7_col4\" class=\"data row7 col4\" >0.36%</td>\n",
       "      <td id=\"T_6b53a_row7_col5\" class=\"data row7 col5\" >0.53%</td>\n",
       "      <td id=\"T_6b53a_row7_col6\" class=\"data row7 col6\" >0.29%</td>\n",
       "      <td id=\"T_6b53a_row7_col7\" class=\"data row7 col7\" >0.27%</td>\n",
       "      <td id=\"T_6b53a_row7_col8\" class=\"data row7 col8\" >0.15%</td>\n",
       "      <td id=\"T_6b53a_row7_col9\" class=\"data row7 col9\" >0.15%</td>\n",
       "      <td id=\"T_6b53a_row7_col10\" class=\"data row7 col10\" >0.24%</td>\n",
       "      <td id=\"T_6b53a_row7_col11\" class=\"data row7 col11\" >0.19%</td>\n",
       "      <td id=\"T_6b53a_row7_col12\" class=\"data row7 col12\" >0.10%</td>\n",
       "      <td id=\"T_6b53a_row7_col13\" class=\"data row7 col13\" ></td>\n",
       "      <td id=\"T_6b53a_row7_col14\" class=\"data row7 col14\" ></td>\n",
       "      <td id=\"T_6b53a_row7_col15\" class=\"data row7 col15\" ></td>\n",
       "      <td id=\"T_6b53a_row7_col16\" class=\"data row7 col16\" ></td>\n",
       "      <td id=\"T_6b53a_row7_col17\" class=\"data row7 col17\" ></td>\n",
       "      <td id=\"T_6b53a_row7_col18\" class=\"data row7 col18\" ></td>\n",
       "    </tr>\n",
       "    <tr>\n",
       "      <th id=\"T_6b53a_level0_row8\" class=\"row_heading level0 row8\" >2017-09</th>\n",
       "      <td id=\"T_6b53a_row8_col0\" class=\"data row8 col0\" >100.00%</td>\n",
       "      <td id=\"T_6b53a_row8_col1\" class=\"data row8 col1\" >0.69%</td>\n",
       "      <td id=\"T_6b53a_row8_col2\" class=\"data row8 col2\" >0.54%</td>\n",
       "      <td id=\"T_6b53a_row8_col3\" class=\"data row8 col3\" >0.29%</td>\n",
       "      <td id=\"T_6b53a_row8_col4\" class=\"data row8 col4\" >0.44%</td>\n",
       "      <td id=\"T_6b53a_row8_col5\" class=\"data row8 col5\" >0.22%</td>\n",
       "      <td id=\"T_6b53a_row8_col6\" class=\"data row8 col6\" >0.22%</td>\n",
       "      <td id=\"T_6b53a_row8_col7\" class=\"data row8 col7\" >0.25%</td>\n",
       "      <td id=\"T_6b53a_row8_col8\" class=\"data row8 col8\" >0.29%</td>\n",
       "      <td id=\"T_6b53a_row8_col9\" class=\"data row8 col9\" >0.17%</td>\n",
       "      <td id=\"T_6b53a_row8_col10\" class=\"data row8 col10\" >0.27%</td>\n",
       "      <td id=\"T_6b53a_row8_col11\" class=\"data row8 col11\" >0.07%</td>\n",
       "      <td id=\"T_6b53a_row8_col12\" class=\"data row8 col12\" ></td>\n",
       "      <td id=\"T_6b53a_row8_col13\" class=\"data row8 col13\" ></td>\n",
       "      <td id=\"T_6b53a_row8_col14\" class=\"data row8 col14\" ></td>\n",
       "      <td id=\"T_6b53a_row8_col15\" class=\"data row8 col15\" ></td>\n",
       "      <td id=\"T_6b53a_row8_col16\" class=\"data row8 col16\" ></td>\n",
       "      <td id=\"T_6b53a_row8_col17\" class=\"data row8 col17\" ></td>\n",
       "      <td id=\"T_6b53a_row8_col18\" class=\"data row8 col18\" ></td>\n",
       "    </tr>\n",
       "    <tr>\n",
       "      <th id=\"T_6b53a_level0_row9\" class=\"row_heading level0 row9\" >2017-10</th>\n",
       "      <td id=\"T_6b53a_row9_col0\" class=\"data row9 col0\" >100.00%</td>\n",
       "      <td id=\"T_6b53a_row9_col1\" class=\"data row9 col1\" >0.71%</td>\n",
       "      <td id=\"T_6b53a_row9_col2\" class=\"data row9 col2\" >0.25%</td>\n",
       "      <td id=\"T_6b53a_row9_col3\" class=\"data row9 col3\" >0.09%</td>\n",
       "      <td id=\"T_6b53a_row9_col4\" class=\"data row9 col4\" >0.23%</td>\n",
       "      <td id=\"T_6b53a_row9_col5\" class=\"data row9 col5\" >0.21%</td>\n",
       "      <td id=\"T_6b53a_row9_col6\" class=\"data row9 col6\" >0.21%</td>\n",
       "      <td id=\"T_6b53a_row9_col7\" class=\"data row9 col7\" >0.36%</td>\n",
       "      <td id=\"T_6b53a_row9_col8\" class=\"data row9 col8\" >0.27%</td>\n",
       "      <td id=\"T_6b53a_row9_col9\" class=\"data row9 col9\" >0.21%</td>\n",
       "      <td id=\"T_6b53a_row9_col10\" class=\"data row9 col10\" >0.21%</td>\n",
       "      <td id=\"T_6b53a_row9_col11\" class=\"data row9 col11\" ></td>\n",
       "      <td id=\"T_6b53a_row9_col12\" class=\"data row9 col12\" ></td>\n",
       "      <td id=\"T_6b53a_row9_col13\" class=\"data row9 col13\" ></td>\n",
       "      <td id=\"T_6b53a_row9_col14\" class=\"data row9 col14\" ></td>\n",
       "      <td id=\"T_6b53a_row9_col15\" class=\"data row9 col15\" ></td>\n",
       "      <td id=\"T_6b53a_row9_col16\" class=\"data row9 col16\" ></td>\n",
       "      <td id=\"T_6b53a_row9_col17\" class=\"data row9 col17\" ></td>\n",
       "      <td id=\"T_6b53a_row9_col18\" class=\"data row9 col18\" ></td>\n",
       "    </tr>\n",
       "    <tr>\n",
       "      <th id=\"T_6b53a_level0_row10\" class=\"row_heading level0 row10\" >2017-11</th>\n",
       "      <td id=\"T_6b53a_row10_col0\" class=\"data row10 col0\" >100.00%</td>\n",
       "      <td id=\"T_6b53a_row10_col1\" class=\"data row10 col1\" >0.56%</td>\n",
       "      <td id=\"T_6b53a_row10_col2\" class=\"data row10 col2\" >0.39%</td>\n",
       "      <td id=\"T_6b53a_row10_col3\" class=\"data row10 col3\" >0.17%</td>\n",
       "      <td id=\"T_6b53a_row10_col4\" class=\"data row10 col4\" >0.19%</td>\n",
       "      <td id=\"T_6b53a_row10_col5\" class=\"data row10 col5\" >0.18%</td>\n",
       "      <td id=\"T_6b53a_row10_col6\" class=\"data row10 col6\" >0.11%</td>\n",
       "      <td id=\"T_6b53a_row10_col7\" class=\"data row10 col7\" >0.19%</td>\n",
       "      <td id=\"T_6b53a_row10_col8\" class=\"data row10 col8\" >0.13%</td>\n",
       "      <td id=\"T_6b53a_row10_col9\" class=\"data row10 col9\" >0.06%</td>\n",
       "      <td id=\"T_6b53a_row10_col10\" class=\"data row10 col10\" ></td>\n",
       "      <td id=\"T_6b53a_row10_col11\" class=\"data row10 col11\" ></td>\n",
       "      <td id=\"T_6b53a_row10_col12\" class=\"data row10 col12\" ></td>\n",
       "      <td id=\"T_6b53a_row10_col13\" class=\"data row10 col13\" ></td>\n",
       "      <td id=\"T_6b53a_row10_col14\" class=\"data row10 col14\" ></td>\n",
       "      <td id=\"T_6b53a_row10_col15\" class=\"data row10 col15\" ></td>\n",
       "      <td id=\"T_6b53a_row10_col16\" class=\"data row10 col16\" ></td>\n",
       "      <td id=\"T_6b53a_row10_col17\" class=\"data row10 col17\" ></td>\n",
       "      <td id=\"T_6b53a_row10_col18\" class=\"data row10 col18\" ></td>\n",
       "    </tr>\n",
       "    <tr>\n",
       "      <th id=\"T_6b53a_level0_row11\" class=\"row_heading level0 row11\" >2017-12</th>\n",
       "      <td id=\"T_6b53a_row11_col0\" class=\"data row11 col0\" >100.00%</td>\n",
       "      <td id=\"T_6b53a_row11_col1\" class=\"data row11 col1\" >0.26%</td>\n",
       "      <td id=\"T_6b53a_row11_col2\" class=\"data row11 col2\" >0.28%</td>\n",
       "      <td id=\"T_6b53a_row11_col3\" class=\"data row11 col3\" >0.35%</td>\n",
       "      <td id=\"T_6b53a_row11_col4\" class=\"data row11 col4\" >0.28%</td>\n",
       "      <td id=\"T_6b53a_row11_col5\" class=\"data row11 col5\" >0.20%</td>\n",
       "      <td id=\"T_6b53a_row11_col6\" class=\"data row11 col6\" >0.17%</td>\n",
       "      <td id=\"T_6b53a_row11_col7\" class=\"data row11 col7\" >0.06%</td>\n",
       "      <td id=\"T_6b53a_row11_col8\" class=\"data row11 col8\" >0.22%</td>\n",
       "      <td id=\"T_6b53a_row11_col9\" class=\"data row11 col9\" ></td>\n",
       "      <td id=\"T_6b53a_row11_col10\" class=\"data row11 col10\" ></td>\n",
       "      <td id=\"T_6b53a_row11_col11\" class=\"data row11 col11\" ></td>\n",
       "      <td id=\"T_6b53a_row11_col12\" class=\"data row11 col12\" ></td>\n",
       "      <td id=\"T_6b53a_row11_col13\" class=\"data row11 col13\" ></td>\n",
       "      <td id=\"T_6b53a_row11_col14\" class=\"data row11 col14\" ></td>\n",
       "      <td id=\"T_6b53a_row11_col15\" class=\"data row11 col15\" ></td>\n",
       "      <td id=\"T_6b53a_row11_col16\" class=\"data row11 col16\" ></td>\n",
       "      <td id=\"T_6b53a_row11_col17\" class=\"data row11 col17\" ></td>\n",
       "      <td id=\"T_6b53a_row11_col18\" class=\"data row11 col18\" ></td>\n",
       "    </tr>\n",
       "  </tbody>\n",
       "</table>\n"
      ],
      "text/plain": [
       "<pandas.io.formats.style.Styler at 0x7ff3906f8af0>"
      ]
     },
     "execution_count": 430,
     "metadata": {},
     "output_type": "execute_result"
    }
   ],
   "source": [
    "retention_color"
   ]
  },
  {
   "cell_type": "code",
   "execution_count": 432,
   "id": "34ed838b",
   "metadata": {},
   "outputs": [
    {
     "data": {
      "text/plain": [
       "Period('2017-09', 'M')"
      ]
     },
     "execution_count": 432,
     "metadata": {},
     "output_type": "execute_result"
    }
   ],
   "source": [
    "#Найду максимальное значение retention для 3го месяца\n",
    "retention[2].idxmax()"
   ]
  },
  {
   "cell_type": "markdown",
   "id": "0941ed26",
   "metadata": {},
   "source": [
    "На 3й месяц Retention(коэффициент удержания клиентов) максимален у кагорты 2017-09 и равен 0.54%"
   ]
  },
  {
   "cell_type": "markdown",
   "id": "fed56d66",
   "metadata": {},
   "source": [
    "#  6. Часто для качественного анализа аудитории использую подходы, основанные на сегментации. Используя python, построй RFM-сегментацию пользователей, чтобы качественно оценить свою аудиторию. В кластеризации можешь выбрать следующие метрики: R - время от последней покупки пользователя до текущей даты, F - суммарное количество покупок у пользователя за всё время, M - сумма покупок за всё время. Подробно опиши, как ты создавал кластеры. Для каждого RFM-сегмента построй границы метрик recency, frequency и monetary для интерпретации этих кластеров. Пример такого описания: RFM-сегмент 132 (recency=1, frequency=3, monetary=2) имеет границы метрик recency от 130 до 500 дней, frequency от 2 до 5 заказов в неделю, monetary от 1780 до 3560 рублей в неделю. "
   ]
  },
  {
   "cell_type": "markdown",
   "id": "1b8bd2f4",
   "metadata": {},
   "source": [
    "Для анализа понадобятся данные из всех трёх таблиц"
   ]
  },
  {
   "cell_type": "code",
   "execution_count": 244,
   "id": "3b28b403",
   "metadata": {},
   "outputs": [],
   "source": [
    "custom_ord_item6 = customers.merge(orders.merge(order_item))"
   ]
  },
  {
   "cell_type": "code",
   "execution_count": 245,
   "id": "20d2cefe",
   "metadata": {},
   "outputs": [
    {
     "data": {
      "text/plain": [
       "0"
      ]
     },
     "execution_count": 245,
     "metadata": {},
     "output_type": "execute_result"
    }
   ],
   "source": [
    "#Проверю сколько пользователей оказались без уникального номера ИД\n",
    "custom_ord_item6[custom_ord_item6.customer_unique_id.isnull()].shape[0]"
   ]
  },
  {
   "cell_type": "markdown",
   "id": "400f81d8",
   "metadata": {},
   "source": [
    "Таких пользователей нет, поэтому учитываем весь датафрейм"
   ]
  },
  {
   "cell_type": "code",
   "execution_count": 246,
   "id": "9e4a0e67",
   "metadata": {},
   "outputs": [],
   "source": [
    "#Приведу дату создания заказа к типу данных \"Дата\"\n",
    "custom_ord_item6['order_purchase_timestamp'] = pd.to_datetime(custom_ord_item6['order_purchase_timestamp'])"
   ]
  },
  {
   "cell_type": "code",
   "execution_count": 514,
   "id": "1d90029b",
   "metadata": {},
   "outputs": [
    {
     "data": {
      "text/plain": [
       "Timestamp('2018-09-04 09:06:57')"
      ]
     },
     "execution_count": 514,
     "metadata": {},
     "output_type": "execute_result"
    }
   ],
   "source": [
    "#Смоделирую анализ данных в режиме реального времени. Для этого создам дату \"now\" которая будет на один день\n",
    "#больше последней даты\n",
    "now = custom_ord_item6['order_purchase_timestamp'].max() + timedelta(days=1)\n",
    "now"
   ]
  },
  {
   "cell_type": "markdown",
   "id": "73247838",
   "metadata": {},
   "source": [
    "Попробую два способа, посмотрю какой быстрее"
   ]
  },
  {
   "cell_type": "code",
   "execution_count": 444,
   "id": "7281fdd7",
   "metadata": {},
   "outputs": [
    {
     "name": "stdout",
     "output_type": "stream",
     "text": [
      "CPU times: user 9.3 s, sys: 49.1 ms, total: 9.35 s\n",
      "Wall time: 9.37 s\n"
     ]
    }
   ],
   "source": [
    "%%time\n",
    "# 1. Сгруппирую данные по идентификатору пользователя и посчитаю последнюю покупку, количество покупок и стоимость \n",
    "#покупок за всё время по пользователю. Переименую недостающие колонки\n",
    "RFM = custom_ord_item6 \\\n",
    "    .groupby('customer_unique_id') \\\n",
    "    .agg({'order_purchase_timestamp': lambda x: (now - x.max()).days, 'product_id': lambda x: len(x), 'price': lambda x: x.sum()}) \\\n",
    "    .rename(columns={'order_purchase_timestamp': 'R', 'product_id': 'F', 'price': 'M'}) \\\n",
    "    .reset_index()"
   ]
  },
  {
   "cell_type": "code",
   "execution_count": 446,
   "id": "e1a74ab6",
   "metadata": {},
   "outputs": [
    {
     "data": {
      "text/html": [
       "<div>\n",
       "<style scoped>\n",
       "    .dataframe tbody tr th:only-of-type {\n",
       "        vertical-align: middle;\n",
       "    }\n",
       "\n",
       "    .dataframe tbody tr th {\n",
       "        vertical-align: top;\n",
       "    }\n",
       "\n",
       "    .dataframe thead th {\n",
       "        text-align: right;\n",
       "    }\n",
       "</style>\n",
       "<table border=\"1\" class=\"dataframe\">\n",
       "  <thead>\n",
       "    <tr style=\"text-align: right;\">\n",
       "      <th></th>\n",
       "      <th>customer_unique_id</th>\n",
       "      <th>R</th>\n",
       "      <th>F</th>\n",
       "      <th>M</th>\n",
       "    </tr>\n",
       "  </thead>\n",
       "  <tbody>\n",
       "    <tr>\n",
       "      <th>0</th>\n",
       "      <td>0000366f3b9a7992bf8c76cfdf3221e2</td>\n",
       "      <td>1769</td>\n",
       "      <td>1</td>\n",
       "      <td>129.9</td>\n",
       "    </tr>\n",
       "    <tr>\n",
       "      <th>1</th>\n",
       "      <td>0000b849f77a49e4a4ce2b2a4ca5be3f</td>\n",
       "      <td>1772</td>\n",
       "      <td>1</td>\n",
       "      <td>18.9</td>\n",
       "    </tr>\n",
       "  </tbody>\n",
       "</table>\n",
       "</div>"
      ],
      "text/plain": [
       "                 customer_unique_id     R  F      M\n",
       "0  0000366f3b9a7992bf8c76cfdf3221e2  1769  1  129.9\n",
       "1  0000b849f77a49e4a4ce2b2a4ca5be3f  1772  1   18.9"
      ]
     },
     "execution_count": 446,
     "metadata": {},
     "output_type": "execute_result"
    }
   ],
   "source": [
    "RFM.head(2)"
   ]
  },
  {
   "cell_type": "code",
   "execution_count": 521,
   "id": "13ea53e8",
   "metadata": {},
   "outputs": [],
   "source": [
    "#Создам колонку \"Recency\" которая покажет сколько дней назад осуществлялась последняя покупка\n",
    "\n",
    "custom_ord_item6[\"Recency\"] = custom_ord_item6[\"Recency\"] = pd.to_timedelta((now - custom_ord_item6['order_purchase_timestamp'])).dt.days"
   ]
  },
  {
   "cell_type": "code",
   "execution_count": 520,
   "id": "8501d61d",
   "metadata": {},
   "outputs": [
    {
     "data": {
      "text/plain": [
       "0         475\n",
       "1         234\n",
       "2         107\n",
       "3         174\n",
       "4          36\n",
       "         ... \n",
       "112645    149\n",
       "112646    153\n",
       "112647    148\n",
       "112648    304\n",
       "112649    258\n",
       "Name: order_purchase_timestamp, Length: 112650, dtype: int64"
      ]
     },
     "execution_count": 520,
     "metadata": {},
     "output_type": "execute_result"
    }
   ],
   "source": [
    "pd.to_timedelta((now - custom_ord_item6['order_purchase_timestamp'])).dt.days"
   ]
  },
  {
   "cell_type": "code",
   "execution_count": 519,
   "id": "166904c0",
   "metadata": {},
   "outputs": [
    {
     "ename": "AttributeError",
     "evalue": "'Timedelta' object has no attribute 'dt'",
     "output_type": "error",
     "traceback": [
      "\u001b[0;31m---------------------------------------------------------------------------\u001b[0m",
      "\u001b[0;31mAttributeError\u001b[0m                            Traceback (most recent call last)",
      "\u001b[0;32m/var/folders/f4/sswrjhdx3yv0m75bd8jvxy880000gn/T/ipykernel_52821/3679181612.py\u001b[0m in \u001b[0;36m<module>\u001b[0;34m\u001b[0m\n\u001b[0;32m----> 1\u001b[0;31m \u001b[0mpd\u001b[0m\u001b[0;34m.\u001b[0m\u001b[0mto_timedelta\u001b[0m\u001b[0;34m(\u001b[0m\u001b[0mnow\u001b[0m\u001b[0;34m-\u001b[0m\u001b[0mcustom_ord_item6\u001b[0m\u001b[0;34m[\u001b[0m\u001b[0;34m'order_purchase_timestamp'\u001b[0m\u001b[0;34m]\u001b[0m\u001b[0;34m[\u001b[0m\u001b[0;36m1\u001b[0m\u001b[0;34m]\u001b[0m\u001b[0;34m)\u001b[0m\u001b[0;34m.\u001b[0m\u001b[0mdt\u001b[0m\u001b[0;34m.\u001b[0m\u001b[0mdays\u001b[0m\u001b[0;34m\u001b[0m\u001b[0;34m\u001b[0m\u001b[0m\n\u001b[0m",
      "\u001b[0;31mAttributeError\u001b[0m: 'Timedelta' object has no attribute 'dt'"
     ]
    }
   ],
   "source": [
    "pd.to_timedelta(now-custom_ord_item6['order_purchase_timestamp'][1]).dt.days"
   ]
  },
  {
   "cell_type": "code",
   "execution_count": 516,
   "id": "426c24f8",
   "metadata": {},
   "outputs": [
    {
     "data": {
      "text/plain": [
       "0        2017-05-16 15:05:35\n",
       "1        2018-01-12 20:48:24\n",
       "2        2018-05-19 16:07:45\n",
       "3        2018-03-13 16:06:38\n",
       "4        2018-07-29 09:51:30\n",
       "                 ...        \n",
       "112645   2018-04-07 15:48:17\n",
       "112646   2018-04-04 08:20:22\n",
       "112647   2018-04-08 20:11:50\n",
       "112648   2017-11-03 21:08:33\n",
       "112649   2017-12-19 14:27:23\n",
       "Name: order_purchase_timestamp, Length: 112650, dtype: datetime64[ns]"
      ]
     },
     "execution_count": 516,
     "metadata": {},
     "output_type": "execute_result"
    }
   ],
   "source": [
    "custom_ord_item6['order_purchase_timestamp']"
   ]
  },
  {
   "cell_type": "code",
   "execution_count": 522,
   "id": "75e05cf8",
   "metadata": {},
   "outputs": [
    {
     "data": {
      "text/plain": [
       "0         475\n",
       "1         234\n",
       "2         107\n",
       "3         174\n",
       "4          36\n",
       "         ... \n",
       "112645    149\n",
       "112646    153\n",
       "112647    148\n",
       "112648    304\n",
       "112649    258\n",
       "Name: Recency, Length: 112650, dtype: int64"
      ]
     },
     "execution_count": 522,
     "metadata": {},
     "output_type": "execute_result"
    }
   ],
   "source": [
    "custom_ord_item6[\"Recency\"]"
   ]
  },
  {
   "cell_type": "code",
   "execution_count": 523,
   "id": "2918adb9",
   "metadata": {},
   "outputs": [
    {
     "name": "stdout",
     "output_type": "stream",
     "text": [
      "CPU times: user 106 ms, sys: 23.1 ms, total: 129 ms\n",
      "Wall time: 176 ms\n"
     ]
    }
   ],
   "source": [
    "%%time\n",
    "# 2. Сгруппирую данные по идентификатору пользователя и посчитаю последнюю покупку, количество покупок и стоимость \n",
    "#покупок за всё время по пользователю. Переименую недостающие колонки\n",
    "custom_ord_item_RFM = custom_ord_item6 \\\n",
    "    .groupby('customer_unique_id', as_index=False) \\\n",
    "    .agg({'Recency': 'min', 'product_id': 'count', 'price': 'sum'}) \\\n",
    "    .rename(columns={'product_id': 'Frequency', 'price': 'Monetary'})"
   ]
  },
  {
   "cell_type": "markdown",
   "id": "34ad48d0",
   "metadata": {},
   "source": [
    "Характеристики колонок:\n",
    "\n",
    "Recency - количество дней с последней покупки\n",
    "Frequency - количество покупок(частота)\n",
    "Monetary - сумма покупок(сколько денег принёс пользователь за период)"
   ]
  },
  {
   "cell_type": "markdown",
   "id": "d40c5ab2",
   "metadata": {},
   "source": [
    "Второй способ быстрее, остановлюсь на нём"
   ]
  },
  {
   "cell_type": "code",
   "execution_count": 447,
   "id": "cd2cd2e2",
   "metadata": {},
   "outputs": [
    {
     "data": {
      "text/html": [
       "<div>\n",
       "<style scoped>\n",
       "    .dataframe tbody tr th:only-of-type {\n",
       "        vertical-align: middle;\n",
       "    }\n",
       "\n",
       "    .dataframe tbody tr th {\n",
       "        vertical-align: top;\n",
       "    }\n",
       "\n",
       "    .dataframe thead th {\n",
       "        text-align: right;\n",
       "    }\n",
       "</style>\n",
       "<table border=\"1\" class=\"dataframe\">\n",
       "  <thead>\n",
       "    <tr style=\"text-align: right;\">\n",
       "      <th></th>\n",
       "      <th>customer_unique_id</th>\n",
       "      <th>Recency</th>\n",
       "      <th>Frequency</th>\n",
       "      <th>Monetary</th>\n",
       "    </tr>\n",
       "  </thead>\n",
       "  <tbody>\n",
       "    <tr>\n",
       "      <th>0</th>\n",
       "      <td>0000366f3b9a7992bf8c76cfdf3221e2</td>\n",
       "      <td>1769</td>\n",
       "      <td>1</td>\n",
       "      <td>129.9</td>\n",
       "    </tr>\n",
       "    <tr>\n",
       "      <th>1</th>\n",
       "      <td>0000b849f77a49e4a4ce2b2a4ca5be3f</td>\n",
       "      <td>1772</td>\n",
       "      <td>1</td>\n",
       "      <td>18.9</td>\n",
       "    </tr>\n",
       "  </tbody>\n",
       "</table>\n",
       "</div>"
      ],
      "text/plain": [
       "                 customer_unique_id  Recency  Frequency  Monetary\n",
       "0  0000366f3b9a7992bf8c76cfdf3221e2     1769          1     129.9\n",
       "1  0000b849f77a49e4a4ce2b2a4ca5be3f     1772          1      18.9"
      ]
     },
     "execution_count": 447,
     "metadata": {},
     "output_type": "execute_result"
    }
   ],
   "source": [
    "custom_ord_item_RFM.head(2)"
   ]
  },
  {
   "cell_type": "code",
   "execution_count": 549,
   "id": "7e169881",
   "metadata": {},
   "outputs": [
    {
     "data": {
      "text/html": [
       "<div>\n",
       "<style scoped>\n",
       "    .dataframe tbody tr th:only-of-type {\n",
       "        vertical-align: middle;\n",
       "    }\n",
       "\n",
       "    .dataframe tbody tr th {\n",
       "        vertical-align: top;\n",
       "    }\n",
       "\n",
       "    .dataframe thead th {\n",
       "        text-align: right;\n",
       "    }\n",
       "</style>\n",
       "<table border=\"1\" class=\"dataframe\">\n",
       "  <thead>\n",
       "    <tr style=\"text-align: right;\">\n",
       "      <th></th>\n",
       "      <th>Recency</th>\n",
       "      <th>Frequency</th>\n",
       "      <th>Monetary</th>\n",
       "      <th>R</th>\n",
       "      <th>F</th>\n",
       "      <th>M</th>\n",
       "    </tr>\n",
       "  </thead>\n",
       "  <tbody>\n",
       "    <tr>\n",
       "      <th>count</th>\n",
       "      <td>95420.000000</td>\n",
       "      <td>95420.00000</td>\n",
       "      <td>95420.000000</td>\n",
       "      <td>95420.000000</td>\n",
       "      <td>95420.000000</td>\n",
       "      <td>95420.000000</td>\n",
       "    </tr>\n",
       "    <tr>\n",
       "      <th>mean</th>\n",
       "      <td>243.600377</td>\n",
       "      <td>1.18057</td>\n",
       "      <td>142.440198</td>\n",
       "      <td>2.007200</td>\n",
       "      <td>1.033410</td>\n",
       "      <td>2.008877</td>\n",
       "    </tr>\n",
       "    <tr>\n",
       "      <th>std</th>\n",
       "      <td>153.160320</td>\n",
       "      <td>0.62145</td>\n",
       "      <td>217.656355</td>\n",
       "      <td>0.819043</td>\n",
       "      <td>0.197223</td>\n",
       "      <td>0.817823</td>\n",
       "    </tr>\n",
       "    <tr>\n",
       "      <th>min</th>\n",
       "      <td>1.000000</td>\n",
       "      <td>1.00000</td>\n",
       "      <td>0.850000</td>\n",
       "      <td>1.000000</td>\n",
       "      <td>1.000000</td>\n",
       "      <td>1.000000</td>\n",
       "    </tr>\n",
       "    <tr>\n",
       "      <th>25%</th>\n",
       "      <td>119.000000</td>\n",
       "      <td>1.00000</td>\n",
       "      <td>47.900000</td>\n",
       "      <td>1.000000</td>\n",
       "      <td>1.000000</td>\n",
       "      <td>1.000000</td>\n",
       "    </tr>\n",
       "    <tr>\n",
       "      <th>50%</th>\n",
       "      <td>224.000000</td>\n",
       "      <td>1.00000</td>\n",
       "      <td>89.900000</td>\n",
       "      <td>2.000000</td>\n",
       "      <td>1.000000</td>\n",
       "      <td>2.000000</td>\n",
       "    </tr>\n",
       "    <tr>\n",
       "      <th>75%</th>\n",
       "      <td>353.000000</td>\n",
       "      <td>1.00000</td>\n",
       "      <td>155.000000</td>\n",
       "      <td>3.000000</td>\n",
       "      <td>1.000000</td>\n",
       "      <td>3.000000</td>\n",
       "    </tr>\n",
       "    <tr>\n",
       "      <th>max</th>\n",
       "      <td>729.000000</td>\n",
       "      <td>24.00000</td>\n",
       "      <td>13440.000000</td>\n",
       "      <td>3.000000</td>\n",
       "      <td>3.000000</td>\n",
       "      <td>3.000000</td>\n",
       "    </tr>\n",
       "  </tbody>\n",
       "</table>\n",
       "</div>"
      ],
      "text/plain": [
       "            Recency    Frequency      Monetary             R             F  \\\n",
       "count  95420.000000  95420.00000  95420.000000  95420.000000  95420.000000   \n",
       "mean     243.600377      1.18057    142.440198      2.007200      1.033410   \n",
       "std      153.160320      0.62145    217.656355      0.819043      0.197223   \n",
       "min        1.000000      1.00000      0.850000      1.000000      1.000000   \n",
       "25%      119.000000      1.00000     47.900000      1.000000      1.000000   \n",
       "50%      224.000000      1.00000     89.900000      2.000000      1.000000   \n",
       "75%      353.000000      1.00000    155.000000      3.000000      1.000000   \n",
       "max      729.000000     24.00000  13440.000000      3.000000      3.000000   \n",
       "\n",
       "                  M  \n",
       "count  95420.000000  \n",
       "mean       2.008877  \n",
       "std        0.817823  \n",
       "min        1.000000  \n",
       "25%        1.000000  \n",
       "50%        2.000000  \n",
       "75%        3.000000  \n",
       "max        3.000000  "
      ]
     },
     "execution_count": 549,
     "metadata": {},
     "output_type": "execute_result"
    }
   ],
   "source": [
    "#Посмотрю на значения для сегментации данных по каждому из столбцов \n",
    "custom_ord_item_RFM.describe()"
   ]
  },
  {
   "cell_type": "markdown",
   "id": "47cd2f6e",
   "metadata": {},
   "source": [
    "На всякий случай посмотрю распределение более наглядно"
   ]
  },
  {
   "cell_type": "code",
   "execution_count": 524,
   "id": "2084e5af",
   "metadata": {},
   "outputs": [
    {
     "name": "stderr",
     "output_type": "stream",
     "text": [
      "/Users/sergejegolaev/opt/anaconda3/lib/python3.9/site-packages/seaborn/distributions.py:2619: FutureWarning: `distplot` is a deprecated function and will be removed in a future version. Please adapt your code to use either `displot` (a figure-level function with similar flexibility) or `histplot` (an axes-level function for histograms).\n",
      "  warnings.warn(msg, FutureWarning)\n"
     ]
    },
    {
     "data": {
      "image/png": "[encoded data removed]",
      "text/plain": [
       "<Figure size 2000x700 with 1 Axes>"
      ]
     },
     "metadata": {},
     "output_type": "display_data"
    }
   ],
   "source": [
    "sns.distplot(custom_ord_item_RFM.Recency, kde=False)\n",
    "plt.xlabel('Количество дней с последней покупки')\n",
    "plt.ylabel('Количество клиентов')\n",
    "sns.despine()"
   ]
  },
  {
   "cell_type": "code",
   "execution_count": 525,
   "id": "0a5dd482",
   "metadata": {},
   "outputs": [
    {
     "data": {
      "image/png": "[encoded data removed]",
      "text/plain": [
       "<Figure size 2000x700 with 1 Axes>"
      ]
     },
     "metadata": {},
     "output_type": "display_data"
    }
   ],
   "source": [
    "sns.distplot(custom_ord_item_RFM.Monetary, kde=False)\n",
    "plt.xlabel('Сумма потраченных денег')\n",
    "plt.ylabel('Количество клиентов')\n",
    "sns.despine()"
   ]
  },
  {
   "cell_type": "code",
   "execution_count": 526,
   "id": "435ba309",
   "metadata": {},
   "outputs": [
    {
     "data": {
      "image/png": "[encoded data removed]",
      "text/plain": [
       "<Figure size 2000x700 with 1 Axes>"
      ]
     },
     "metadata": {},
     "output_type": "display_data"
    }
   ],
   "source": [
    "sns.distplot(custom_ord_item_RFM.Frequency, kde=False)\n",
    "plt.xlabel('Количество покупок')\n",
    "plt.ylabel('Количество клиентов')\n",
    "sns.despine()"
   ]
  },
  {
   "cell_type": "code",
   "execution_count": 533,
   "id": "b1ccf111",
   "metadata": {},
   "outputs": [
    {
     "data": {
      "text/plain": [
       "customer_unique_id    0.330119\n",
       "dtype: float64"
      ]
     },
     "execution_count": 533,
     "metadata": {},
     "output_type": "execute_result"
    }
   ],
   "source": [
    "#Дополнительно проверю \"Frequency\"\n",
    "count_customer = custom_ord_item_RFM \\\n",
    ".query('Frequency>5') \\\n",
    ".agg({'customer_unique_id':'count'})\n",
    "count_data = len(custom_ord_item_RFM)\n",
    "percent_regular_customer = (count_customer/count_data)*100\n",
    "percent_regular_customer"
   ]
  },
  {
   "cell_type": "code",
   "execution_count": 532,
   "id": "deceb41a",
   "metadata": {},
   "outputs": [
    {
     "data": {
      "text/plain": [
       "1     83551\n",
       "2      8996\n",
       "3      1672\n",
       "4       632\n",
       "5       254\n",
       "6       198\n",
       "7        46\n",
       "8        16\n",
       "11       11\n",
       "9        11\n",
       "10       11\n",
       "12        9\n",
       "14        3\n",
       "15        2\n",
       "13        2\n",
       "20        2\n",
       "16        1\n",
       "18        1\n",
       "21        1\n",
       "24        1\n",
       "Name: Frequency, dtype: int64"
      ]
     },
     "execution_count": 532,
     "metadata": {},
     "output_type": "execute_result"
    }
   ],
   "source": [
    "custom_ord_item_RFM.Frequency.value_counts()"
   ]
  },
  {
   "cell_type": "markdown",
   "id": "6b046bb1",
   "metadata": {},
   "source": [
    " "
   ]
  },
  {
   "cell_type": "markdown",
   "id": "3e03e72b",
   "metadata": {},
   "source": [
    " "
   ]
  },
  {
   "cell_type": "markdown",
   "id": "9dbbce6f",
   "metadata": {},
   "source": [
    "### Я вижу что большая часть клиентов совершили меньше 5 покупок. Так же большая часть клиентов потратили денег до 2000. При сегментировании каждого параметра на 5 частей, получится 125 сегментов, часть из которых учитывая данные будут близки между собой. Исходя из этого буду делить данные не на пять сегментов а на три, что даст 27 сегментов."
   ]
  },
  {
   "cell_type": "markdown",
   "id": "71d68527",
   "metadata": {},
   "source": [
    "Судя по результату \"Recency\" и \"Monetary\" можно разделить на сегменты по квантилям, а \"Frequency\" исходя из того что 75й персантиль равен минимальному значению, разделю на сегменты следующим образом: 1, 2-5, больше 5"
   ]
  },
  {
   "cell_type": "code",
   "execution_count": 540,
   "id": "e27b8e72",
   "metadata": {},
   "outputs": [],
   "source": [
    "# Создам словарь с разделением по квантилям столбцов \"R\", \"M\" и разделением колонки \"F\" с шагом 5\n",
    "\n",
    "RM_seg = custom_ord_item_RFM. iloc [:, [1,3]].quantile(q=[0.33, 0.66]).to_dict()\n",
    "F_seg = {'Frequency': {0.33: 2, 0.66: 5}}"
   ]
  },
  {
   "cell_type": "code",
   "execution_count": 541,
   "id": "4f1b1823",
   "metadata": {},
   "outputs": [
    {
     "data": {
      "text/plain": [
       "{'Recency': {0.33: 153.0, 0.66: 292.0}, 'Monetary': {0.33: 57.99, 0.66: 125.0}}"
      ]
     },
     "execution_count": 541,
     "metadata": {},
     "output_type": "execute_result"
    }
   ],
   "source": [
    "RM_seg"
   ]
  },
  {
   "cell_type": "code",
   "execution_count": 542,
   "id": "e0dec888",
   "metadata": {},
   "outputs": [
    {
     "data": {
      "text/plain": [
       "{'Frequency': {0.33: 2, 0.66: 5}}"
      ]
     },
     "execution_count": 542,
     "metadata": {},
     "output_type": "execute_result"
    }
   ],
   "source": [
    "F_seg"
   ]
  },
  {
   "cell_type": "code",
   "execution_count": 543,
   "id": "86f7e3fc",
   "metadata": {},
   "outputs": [],
   "source": [
    "#Напишу функцию для разделения на сегменты по квантилям используя созданный словарь\n",
    "\n",
    "def split (a,b,c):\n",
    "    if a <= c[b][0.33]:\n",
    "        return 1\n",
    "    elif a <= c[b][0.66]:\n",
    "        return 2\n",
    "    else:\n",
    "        return 3"
   ]
  },
  {
   "cell_type": "code",
   "execution_count": 544,
   "id": "1469e39f",
   "metadata": {},
   "outputs": [],
   "source": [
    "#Добавлю новые столбцы с сегментами с помощью функций\n",
    "\n",
    "custom_ord_item_RFM['R'] = custom_ord_item_RFM['Recency'].apply(split, args=('Recency', RM_seg,))\n",
    "custom_ord_item_RFM['F'] = custom_ord_item_RFM['Frequency'].apply(split, args=('Frequency', F_seg,))\n",
    "custom_ord_item_RFM['M'] = custom_ord_item_RFM['Monetary'].apply(split, args=('Monetary', RM_seg,))"
   ]
  },
  {
   "cell_type": "code",
   "execution_count": 545,
   "id": "3f1695af",
   "metadata": {},
   "outputs": [
    {
     "data": {
      "text/html": [
       "<div>\n",
       "<style scoped>\n",
       "    .dataframe tbody tr th:only-of-type {\n",
       "        vertical-align: middle;\n",
       "    }\n",
       "\n",
       "    .dataframe tbody tr th {\n",
       "        vertical-align: top;\n",
       "    }\n",
       "\n",
       "    .dataframe thead th {\n",
       "        text-align: right;\n",
       "    }\n",
       "</style>\n",
       "<table border=\"1\" class=\"dataframe\">\n",
       "  <thead>\n",
       "    <tr style=\"text-align: right;\">\n",
       "      <th></th>\n",
       "      <th>customer_unique_id</th>\n",
       "      <th>Recency</th>\n",
       "      <th>Frequency</th>\n",
       "      <th>Monetary</th>\n",
       "      <th>R</th>\n",
       "      <th>F</th>\n",
       "      <th>M</th>\n",
       "      <th>RFM_Score</th>\n",
       "    </tr>\n",
       "  </thead>\n",
       "  <tbody>\n",
       "    <tr>\n",
       "      <th>0</th>\n",
       "      <td>0000366f3b9a7992bf8c76cfdf3221e2</td>\n",
       "      <td>116</td>\n",
       "      <td>1</td>\n",
       "      <td>129.90</td>\n",
       "      <td>1</td>\n",
       "      <td>1</td>\n",
       "      <td>3</td>\n",
       "      <td>113</td>\n",
       "    </tr>\n",
       "    <tr>\n",
       "      <th>1</th>\n",
       "      <td>0000b849f77a49e4a4ce2b2a4ca5be3f</td>\n",
       "      <td>119</td>\n",
       "      <td>1</td>\n",
       "      <td>18.90</td>\n",
       "      <td>1</td>\n",
       "      <td>1</td>\n",
       "      <td>1</td>\n",
       "      <td>111</td>\n",
       "    </tr>\n",
       "    <tr>\n",
       "      <th>2</th>\n",
       "      <td>0000f46a3911fa3c0805444483337064</td>\n",
       "      <td>542</td>\n",
       "      <td>1</td>\n",
       "      <td>69.00</td>\n",
       "      <td>3</td>\n",
       "      <td>1</td>\n",
       "      <td>2</td>\n",
       "      <td>112</td>\n",
       "    </tr>\n",
       "    <tr>\n",
       "      <th>3</th>\n",
       "      <td>0000f6ccb0745a6a4b88665a16c9f078</td>\n",
       "      <td>326</td>\n",
       "      <td>1</td>\n",
       "      <td>25.99</td>\n",
       "      <td>3</td>\n",
       "      <td>1</td>\n",
       "      <td>1</td>\n",
       "      <td>111</td>\n",
       "    </tr>\n",
       "    <tr>\n",
       "      <th>4</th>\n",
       "      <td>0004aac84e0df4da2b147fca70cf8255</td>\n",
       "      <td>293</td>\n",
       "      <td>1</td>\n",
       "      <td>180.00</td>\n",
       "      <td>3</td>\n",
       "      <td>1</td>\n",
       "      <td>3</td>\n",
       "      <td>113</td>\n",
       "    </tr>\n",
       "  </tbody>\n",
       "</table>\n",
       "</div>"
      ],
      "text/plain": [
       "                 customer_unique_id  Recency  Frequency  Monetary  R  F  M  \\\n",
       "0  0000366f3b9a7992bf8c76cfdf3221e2      116          1    129.90  1  1  3   \n",
       "1  0000b849f77a49e4a4ce2b2a4ca5be3f      119          1     18.90  1  1  1   \n",
       "2  0000f46a3911fa3c0805444483337064      542          1     69.00  3  1  2   \n",
       "3  0000f6ccb0745a6a4b88665a16c9f078      326          1     25.99  3  1  1   \n",
       "4  0004aac84e0df4da2b147fca70cf8255      293          1    180.00  3  1  3   \n",
       "\n",
       "  RFM_Score  \n",
       "0       113  \n",
       "1       111  \n",
       "2       112  \n",
       "3       111  \n",
       "4       113  "
      ]
     },
     "execution_count": 545,
     "metadata": {},
     "output_type": "execute_result"
    }
   ],
   "source": [
    "custom_ord_item_RFM.head()"
   ]
  },
  {
   "cell_type": "code",
   "execution_count": 548,
   "id": "fe08ac02",
   "metadata": {},
   "outputs": [
    {
     "data": {
      "text/html": [
       "<div>\n",
       "<style scoped>\n",
       "    .dataframe tbody tr th:only-of-type {\n",
       "        vertical-align: middle;\n",
       "    }\n",
       "\n",
       "    .dataframe tbody tr th {\n",
       "        vertical-align: top;\n",
       "    }\n",
       "\n",
       "    .dataframe thead th {\n",
       "        text-align: right;\n",
       "    }\n",
       "</style>\n",
       "<table border=\"1\" class=\"dataframe\">\n",
       "  <thead>\n",
       "    <tr style=\"text-align: right;\">\n",
       "      <th></th>\n",
       "      <th>customer_unique_id</th>\n",
       "      <th>Recency</th>\n",
       "      <th>Frequency</th>\n",
       "      <th>Monetary</th>\n",
       "      <th>R</th>\n",
       "      <th>F</th>\n",
       "      <th>M</th>\n",
       "      <th>RFM_Score</th>\n",
       "    </tr>\n",
       "  </thead>\n",
       "  <tbody>\n",
       "    <tr>\n",
       "      <th>95083</th>\n",
       "      <td>ff22e30958c13ffe219db7d711e8f564</td>\n",
       "      <td>1</td>\n",
       "      <td>2</td>\n",
       "      <td>290.00</td>\n",
       "      <td>1</td>\n",
       "      <td>1</td>\n",
       "      <td>3</td>\n",
       "      <td>113</td>\n",
       "    </tr>\n",
       "    <tr>\n",
       "      <th>67518</th>\n",
       "      <td>b4dcade04bc548b7e3b0243c801f8c26</td>\n",
       "      <td>5</td>\n",
       "      <td>1</td>\n",
       "      <td>99.00</td>\n",
       "      <td>1</td>\n",
       "      <td>1</td>\n",
       "      <td>2</td>\n",
       "      <td>112</td>\n",
       "    </tr>\n",
       "    <tr>\n",
       "      <th>45599</th>\n",
       "      <td>7a22d14aa3c3599238509ddca4b93b01</td>\n",
       "      <td>5</td>\n",
       "      <td>1</td>\n",
       "      <td>63.90</td>\n",
       "      <td>1</td>\n",
       "      <td>1</td>\n",
       "      <td>2</td>\n",
       "      <td>112</td>\n",
       "    </tr>\n",
       "    <tr>\n",
       "      <th>1538</th>\n",
       "      <td>0421e7a23f21e5d54efed456aedbc513</td>\n",
       "      <td>5</td>\n",
       "      <td>1</td>\n",
       "      <td>109.90</td>\n",
       "      <td>1</td>\n",
       "      <td>1</td>\n",
       "      <td>2</td>\n",
       "      <td>112</td>\n",
       "    </tr>\n",
       "    <tr>\n",
       "      <th>13741</th>\n",
       "      <td>24ac2b4327e25baf39f2119e4228976a</td>\n",
       "      <td>5</td>\n",
       "      <td>1</td>\n",
       "      <td>84.99</td>\n",
       "      <td>1</td>\n",
       "      <td>1</td>\n",
       "      <td>2</td>\n",
       "      <td>112</td>\n",
       "    </tr>\n",
       "    <tr>\n",
       "      <th>...</th>\n",
       "      <td>...</td>\n",
       "      <td>...</td>\n",
       "      <td>...</td>\n",
       "      <td>...</td>\n",
       "      <td>...</td>\n",
       "      <td>...</td>\n",
       "      <td>...</td>\n",
       "      <td>...</td>\n",
       "    </tr>\n",
       "    <tr>\n",
       "      <th>17750</th>\n",
       "      <td>2f64e403852e6893ae37485d5fcacdaf</td>\n",
       "      <td>700</td>\n",
       "      <td>1</td>\n",
       "      <td>21.90</td>\n",
       "      <td>3</td>\n",
       "      <td>1</td>\n",
       "      <td>1</td>\n",
       "      <td>111</td>\n",
       "    </tr>\n",
       "    <tr>\n",
       "      <th>5480</th>\n",
       "      <td>0eb1ee9dba87f5b36b4613a65074337c</td>\n",
       "      <td>701</td>\n",
       "      <td>1</td>\n",
       "      <td>100.00</td>\n",
       "      <td>3</td>\n",
       "      <td>1</td>\n",
       "      <td>2</td>\n",
       "      <td>112</td>\n",
       "    </tr>\n",
       "    <tr>\n",
       "      <th>48972</th>\n",
       "      <td>830d5b7aaa3b6f1e9ad63703bec97d23</td>\n",
       "      <td>718</td>\n",
       "      <td>3</td>\n",
       "      <td>134.97</td>\n",
       "      <td>3</td>\n",
       "      <td>2</td>\n",
       "      <td>3</td>\n",
       "      <td>123</td>\n",
       "    </tr>\n",
       "    <tr>\n",
       "      <th>27050</th>\n",
       "      <td>4854e9b3feff728c13ee5fc7d1547e92</td>\n",
       "      <td>729</td>\n",
       "      <td>1</td>\n",
       "      <td>59.50</td>\n",
       "      <td>3</td>\n",
       "      <td>1</td>\n",
       "      <td>2</td>\n",
       "      <td>112</td>\n",
       "    </tr>\n",
       "    <tr>\n",
       "      <th>68611</th>\n",
       "      <td>b7d76e111c89f7ebf14761390f0f7d17</td>\n",
       "      <td>729</td>\n",
       "      <td>2</td>\n",
       "      <td>72.89</td>\n",
       "      <td>3</td>\n",
       "      <td>1</td>\n",
       "      <td>2</td>\n",
       "      <td>112</td>\n",
       "    </tr>\n",
       "  </tbody>\n",
       "</table>\n",
       "<p>95420 rows × 8 columns</p>\n",
       "</div>"
      ],
      "text/plain": [
       "                     customer_unique_id  Recency  Frequency  Monetary  R  F  \\\n",
       "95083  ff22e30958c13ffe219db7d711e8f564        1          2    290.00  1  1   \n",
       "67518  b4dcade04bc548b7e3b0243c801f8c26        5          1     99.00  1  1   \n",
       "45599  7a22d14aa3c3599238509ddca4b93b01        5          1     63.90  1  1   \n",
       "1538   0421e7a23f21e5d54efed456aedbc513        5          1    109.90  1  1   \n",
       "13741  24ac2b4327e25baf39f2119e4228976a        5          1     84.99  1  1   \n",
       "...                                 ...      ...        ...       ... .. ..   \n",
       "17750  2f64e403852e6893ae37485d5fcacdaf      700          1     21.90  3  1   \n",
       "5480   0eb1ee9dba87f5b36b4613a65074337c      701          1    100.00  3  1   \n",
       "48972  830d5b7aaa3b6f1e9ad63703bec97d23      718          3    134.97  3  2   \n",
       "27050  4854e9b3feff728c13ee5fc7d1547e92      729          1     59.50  3  1   \n",
       "68611  b7d76e111c89f7ebf14761390f0f7d17      729          2     72.89  3  1   \n",
       "\n",
       "       M RFM_Score  \n",
       "95083  3       113  \n",
       "67518  2       112  \n",
       "45599  2       112  \n",
       "1538   2       112  \n",
       "13741  2       112  \n",
       "...   ..       ...  \n",
       "17750  1       111  \n",
       "5480   2       112  \n",
       "48972  3       123  \n",
       "27050  2       112  \n",
       "68611  2       112  \n",
       "\n",
       "[95420 rows x 8 columns]"
      ]
     },
     "execution_count": 548,
     "metadata": {},
     "output_type": "execute_result"
    }
   ],
   "source": [
    "custom_ord_item_RFM.sort_values('Recency', ascending=True)"
   ]
  },
  {
   "cell_type": "code",
   "execution_count": 529,
   "id": "b9bb8e25",
   "metadata": {},
   "outputs": [],
   "source": [
    "#Объеденю значения в оценку RFM, \n",
    "custom_ord_item_RFM['RFM_Score'] = custom_ord_item_RFM['R'].map(str) + \\\n",
    "                                   custom_ord_item_RFM['F'].map(str) + \\\n",
    "                                   custom_ord_item_RFM['M'].map(str)"
   ]
  },
  {
   "cell_type": "code",
   "execution_count": 554,
   "id": "9a807aa8",
   "metadata": {},
   "outputs": [
    {
     "data": {
      "text/html": [
       "<div>\n",
       "<style scoped>\n",
       "    .dataframe tbody tr th:only-of-type {\n",
       "        vertical-align: middle;\n",
       "    }\n",
       "\n",
       "    .dataframe tbody tr th {\n",
       "        vertical-align: top;\n",
       "    }\n",
       "\n",
       "    .dataframe thead th {\n",
       "        text-align: right;\n",
       "    }\n",
       "</style>\n",
       "<table border=\"1\" class=\"dataframe\">\n",
       "  <thead>\n",
       "    <tr style=\"text-align: right;\">\n",
       "      <th></th>\n",
       "      <th>customer_unique_id</th>\n",
       "      <th>Recency</th>\n",
       "      <th>Frequency</th>\n",
       "      <th>Monetary</th>\n",
       "      <th>R</th>\n",
       "      <th>F</th>\n",
       "      <th>M</th>\n",
       "      <th>RFM_Score</th>\n",
       "    </tr>\n",
       "  </thead>\n",
       "  <tbody>\n",
       "    <tr>\n",
       "      <th>0</th>\n",
       "      <td>0000366f3b9a7992bf8c76cfdf3221e2</td>\n",
       "      <td>116</td>\n",
       "      <td>1</td>\n",
       "      <td>129.90</td>\n",
       "      <td>1</td>\n",
       "      <td>1</td>\n",
       "      <td>3</td>\n",
       "      <td>113</td>\n",
       "    </tr>\n",
       "    <tr>\n",
       "      <th>1</th>\n",
       "      <td>0000b849f77a49e4a4ce2b2a4ca5be3f</td>\n",
       "      <td>119</td>\n",
       "      <td>1</td>\n",
       "      <td>18.90</td>\n",
       "      <td>1</td>\n",
       "      <td>1</td>\n",
       "      <td>1</td>\n",
       "      <td>111</td>\n",
       "    </tr>\n",
       "    <tr>\n",
       "      <th>2</th>\n",
       "      <td>0000f46a3911fa3c0805444483337064</td>\n",
       "      <td>542</td>\n",
       "      <td>1</td>\n",
       "      <td>69.00</td>\n",
       "      <td>3</td>\n",
       "      <td>1</td>\n",
       "      <td>2</td>\n",
       "      <td>112</td>\n",
       "    </tr>\n",
       "    <tr>\n",
       "      <th>3</th>\n",
       "      <td>0000f6ccb0745a6a4b88665a16c9f078</td>\n",
       "      <td>326</td>\n",
       "      <td>1</td>\n",
       "      <td>25.99</td>\n",
       "      <td>3</td>\n",
       "      <td>1</td>\n",
       "      <td>1</td>\n",
       "      <td>111</td>\n",
       "    </tr>\n",
       "    <tr>\n",
       "      <th>4</th>\n",
       "      <td>0004aac84e0df4da2b147fca70cf8255</td>\n",
       "      <td>293</td>\n",
       "      <td>1</td>\n",
       "      <td>180.00</td>\n",
       "      <td>3</td>\n",
       "      <td>1</td>\n",
       "      <td>3</td>\n",
       "      <td>113</td>\n",
       "    </tr>\n",
       "  </tbody>\n",
       "</table>\n",
       "</div>"
      ],
      "text/plain": [
       "                 customer_unique_id  Recency  Frequency  Monetary  R  F  M  \\\n",
       "0  0000366f3b9a7992bf8c76cfdf3221e2      116          1    129.90  1  1  3   \n",
       "1  0000b849f77a49e4a4ce2b2a4ca5be3f      119          1     18.90  1  1  1   \n",
       "2  0000f46a3911fa3c0805444483337064      542          1     69.00  3  1  2   \n",
       "3  0000f6ccb0745a6a4b88665a16c9f078      326          1     25.99  3  1  1   \n",
       "4  0004aac84e0df4da2b147fca70cf8255      293          1    180.00  3  1  3   \n",
       "\n",
       "  RFM_Score  \n",
       "0       113  \n",
       "1       111  \n",
       "2       112  \n",
       "3       111  \n",
       "4       113  "
      ]
     },
     "execution_count": 554,
     "metadata": {},
     "output_type": "execute_result"
    }
   ],
   "source": [
    "custom_ord_item_RFM.head()"
   ]
  },
  {
   "cell_type": "code",
   "execution_count": 511,
   "id": "19ddad18",
   "metadata": {},
   "outputs": [
    {
     "data": {
      "text/plain": [
       "27"
      ]
     },
     "execution_count": 511,
     "metadata": {},
     "output_type": "execute_result"
    }
   ],
   "source": [
    "#Сегментов должно быть 27 (3 в кубе), проверю на всякий случай\n",
    "custom_ord_item_RFM.RFM_Score.nunique()"
   ]
  },
  {
   "cell_type": "code",
   "execution_count": 551,
   "id": "78355641",
   "metadata": {},
   "outputs": [
    {
     "data": {
      "text/plain": [
       "0.33    153.0\n",
       "0.66    292.0\n",
       "Name: Recency, dtype: float64"
      ]
     },
     "execution_count": 551,
     "metadata": {},
     "output_type": "execute_result"
    }
   ],
   "source": [
    "custom_ord_item_RFM['Recency'].quantile(q=[0.33, 0.66])"
   ]
  },
  {
   "cell_type": "code",
   "execution_count": 553,
   "id": "b69941f2",
   "metadata": {},
   "outputs": [
    {
     "data": {
      "text/plain": [
       "0.33    1.0\n",
       "0.66    1.0\n",
       "Name: Frequency, dtype: float64"
      ]
     },
     "execution_count": 553,
     "metadata": {},
     "output_type": "execute_result"
    }
   ],
   "source": [
    "custom_ord_item_RFM['Frequency'].quantile(q=[0.33, 0.66])"
   ]
  },
  {
   "cell_type": "code",
   "execution_count": 555,
   "id": "028af2ad",
   "metadata": {},
   "outputs": [
    {
     "data": {
      "text/plain": [
       "0.33     57.99\n",
       "0.66    125.00\n",
       "Name: Monetary, dtype: float64"
      ]
     },
     "execution_count": 555,
     "metadata": {},
     "output_type": "execute_result"
    }
   ],
   "source": [
    "custom_ord_item_RFM['Monetary'].quantile(q=[0.33, 0.66])"
   ]
  },
  {
   "cell_type": "markdown",
   "id": "34ec9ef2",
   "metadata": {},
   "source": [
    "### Итого их действительно 27. Значения у колонки RFM_Score следующие:\n",
    "\n",
    "Первая цифра - показатель Recency “давности” покупок (1 - покупал недавно менее 154 дней назад, 2 - покупал относительно недавно(154 - 292 дня назад) , 3 - покупал давно(Более 292 дней назад)\n",
    "\n",
    "Вторая цифра - показатель Frequency “частоты” покупок (3 - покупал часто(больше 5-х раз), 2 - покупал менее часто (от 2 до 5 раз), 1 - покупал редко(1 раз))\n",
    "\n",
    "Третья цифра - показатель Monetary “прибыльности клиента” (3 - больше всего денег (более 125 \"денег\" (валюта не указана) , 2 - принес среднее количество денег (58 - 125 \"денег\"), 1 - принёс мало денег(менее 58 \"денег\"))"
   ]
  },
  {
   "cell_type": "raw",
   "id": "28f20e40",
   "metadata": {},
   "source": [
    "27 сегментов всё ещё много, лучше объеденить сегменты по группам. \n",
    "Формат записи - | дата последней покупки | частота покупок | прибыльность клиента |\n",
    "\n",
    "111 - | свежие | разовые | малоприбыльные |   - \"New customers\" - новые клиенты\n",
    "112 - | свежие | разовые | среднеприбыльные | - \"New customers\" - новые клиенты\n",
    "113 - | свежие | разовые | прибыльные |       - \"New customers\" - новые клиенты\n",
    "121 - | свежие | редкие | малоприбыльные |    - \"New customers\" - новые клиенты\n",
    "122 - | свежие | редкие | среднеприбыльные |  - \"Potential loyalists\" - потенциально прибыльные\n",
    "123 - | свежие | редкие | прибыльные |        - \"Potential loyalists\" - потенциально прибыльные\n",
    "131 - | свежие | частые | малоприбыльные |    - \"Best\" - выгодные клиенты\n",
    "132 - | свежие | частые | среднеприбыльные |  - \"Best\" - выгодные клиенты\n",
    "133 - | свежие | частые | прибыльные |        - \"Champiom\" - лучшие клиенты\n",
    "211 - | заснувшие | разовые | малоприбыльные | - \"Hibernating\" - заснувшие\n",
    "212 - | заснувшие | разовые | среднеприбыльные | - \"Hibernating\" - заснувшие\n",
    "213 - | заснувшие | разовые | прибыльные | - \"Hibernating\" - заснувшие\n",
    "221 - | заснувшие | редкие | малоприбыльные | - \"Hibernating\" - заснувшие\n",
    "222 - | заснувшие | редкие | среднеприбыльные | - \"Hibernating potential\" - заснувшие прибыльные, потенциальн лояльные\n",
    "223 - | заснувшие | редкие | прибыльные | - \"Hibernating potential\" - заснувшие прибыльные, потенциальн лояльные\n",
    "231 - | заснувшие | частые | малоприбыльные | - \"Hibernating potential\" - заснувшие прибыльные, потенциальн лояльные\n",
    "232 - | заснувшие | частые | среднеприбыльные | - \"Hibernating potential\" - заснувшие прибыльные, потенциальн лояльные\n",
    "233 - | заснувшие | частые | прибыльные | - \"Hibernating potential\" - заснувшие прибыльные, потенциальн лояльные\n",
    "311 - | давние | разовые | малоприбыльные | - \"Lost\" - потерянные\n",
    "312 - | давние | разовые | среднеприбыльные | - \"Lost\" - потерянные\n",
    "313 - | давние | разовые | прибыльные | - \"Lost\" - потерянные\n",
    "321 - | давние | редкие | малоприбыльные | - \"Lost\" - потерянные\n",
    "322 - | давние | редкие | среднеприбыльные | - \"Lost loyalists\" - уходящие, потенциально лояльные\n",
    "323 - | давние | редкие | прибыльные | - \"Lost loyalists\" - уходящие, потенциально лояльные\n",
    "331 - | давние | частые | малоприбыльные | - \"Can’t Lose Them\" - уходящие, лучшие, необходимо вернуть\n",
    "332 - | давние | частые | среднеприбыльные | - \"Can’t Lose Them\" - уходящие, лучшие, необходимо вернуть\n",
    "333 - | давние | частые | прибыльные | - \"Can’t Lose Them\" - уходящие, лучшие, необходимо вернуть"
   ]
  },
  {
   "cell_type": "code",
   "execution_count": 561,
   "id": "7b9bbb5b",
   "metadata": {},
   "outputs": [
    {
     "data": {
      "text/html": [
       "<div>\n",
       "<style scoped>\n",
       "    .dataframe tbody tr th:only-of-type {\n",
       "        vertical-align: middle;\n",
       "    }\n",
       "\n",
       "    .dataframe tbody tr th {\n",
       "        vertical-align: top;\n",
       "    }\n",
       "\n",
       "    .dataframe thead th {\n",
       "        text-align: right;\n",
       "    }\n",
       "</style>\n",
       "<table border=\"1\" class=\"dataframe\">\n",
       "  <thead>\n",
       "    <tr style=\"text-align: right;\">\n",
       "      <th></th>\n",
       "      <th>customer_unique_id</th>\n",
       "      <th>Recency</th>\n",
       "      <th>Frequency</th>\n",
       "      <th>Monetary</th>\n",
       "      <th>R</th>\n",
       "      <th>F</th>\n",
       "      <th>M</th>\n",
       "      <th>RFM_Score</th>\n",
       "      <th>Segment</th>\n",
       "    </tr>\n",
       "  </thead>\n",
       "  <tbody>\n",
       "    <tr>\n",
       "      <th>0</th>\n",
       "      <td>0000366f3b9a7992bf8c76cfdf3221e2</td>\n",
       "      <td>116</td>\n",
       "      <td>1</td>\n",
       "      <td>129.90</td>\n",
       "      <td>1</td>\n",
       "      <td>1</td>\n",
       "      <td>3</td>\n",
       "      <td>113</td>\n",
       "      <td>New customers</td>\n",
       "    </tr>\n",
       "    <tr>\n",
       "      <th>1</th>\n",
       "      <td>0000b849f77a49e4a4ce2b2a4ca5be3f</td>\n",
       "      <td>119</td>\n",
       "      <td>1</td>\n",
       "      <td>18.90</td>\n",
       "      <td>1</td>\n",
       "      <td>1</td>\n",
       "      <td>1</td>\n",
       "      <td>111</td>\n",
       "      <td>New customers</td>\n",
       "    </tr>\n",
       "    <tr>\n",
       "      <th>2</th>\n",
       "      <td>0000f46a3911fa3c0805444483337064</td>\n",
       "      <td>542</td>\n",
       "      <td>1</td>\n",
       "      <td>69.00</td>\n",
       "      <td>3</td>\n",
       "      <td>1</td>\n",
       "      <td>2</td>\n",
       "      <td>112</td>\n",
       "      <td>Lost</td>\n",
       "    </tr>\n",
       "    <tr>\n",
       "      <th>3</th>\n",
       "      <td>0000f6ccb0745a6a4b88665a16c9f078</td>\n",
       "      <td>326</td>\n",
       "      <td>1</td>\n",
       "      <td>25.99</td>\n",
       "      <td>3</td>\n",
       "      <td>1</td>\n",
       "      <td>1</td>\n",
       "      <td>111</td>\n",
       "      <td>Lost</td>\n",
       "    </tr>\n",
       "    <tr>\n",
       "      <th>4</th>\n",
       "      <td>0004aac84e0df4da2b147fca70cf8255</td>\n",
       "      <td>293</td>\n",
       "      <td>1</td>\n",
       "      <td>180.00</td>\n",
       "      <td>3</td>\n",
       "      <td>1</td>\n",
       "      <td>3</td>\n",
       "      <td>113</td>\n",
       "      <td>Lost</td>\n",
       "    </tr>\n",
       "  </tbody>\n",
       "</table>\n",
       "</div>"
      ],
      "text/plain": [
       "                 customer_unique_id  Recency  Frequency  Monetary  R  F  M  \\\n",
       "0  0000366f3b9a7992bf8c76cfdf3221e2      116          1    129.90  1  1  3   \n",
       "1  0000b849f77a49e4a4ce2b2a4ca5be3f      119          1     18.90  1  1  1   \n",
       "2  0000f46a3911fa3c0805444483337064      542          1     69.00  3  1  2   \n",
       "3  0000f6ccb0745a6a4b88665a16c9f078      326          1     25.99  3  1  1   \n",
       "4  0004aac84e0df4da2b147fca70cf8255      293          1    180.00  3  1  3   \n",
       "\n",
       "  RFM_Score        Segment  \n",
       "0       113  New customers  \n",
       "1       111  New customers  \n",
       "2       112           Lost  \n",
       "3       111           Lost  \n",
       "4       113           Lost  "
      ]
     },
     "execution_count": 561,
     "metadata": {},
     "output_type": "execute_result"
    }
   ],
   "source": [
    "#Добавлю поле с названием группы в зависимости от совокупности сегментов\n",
    "\n",
    "segt_map = {\n",
    "    r'11[1-3]': 'New customers',\n",
    "    r'121': 'New customers',\n",
    "    r'12[2-3]': 'Potential loyalists',\n",
    "    r'13[1-2]': 'Best',\n",
    "    r'133': 'Champion',\n",
    "    r'21[1-3]': 'Hibernating',\n",
    "    r'221': 'Hibernating',\n",
    "    r'22[2-3]': 'Hibernating potential',\n",
    "    r'23[1-3]': 'Hibernating potential',\n",
    "    r'31[1-3]': 'Lost',\n",
    "    r'221': 'Lost',\n",
    "    r'32[2-3]': 'Lost loyalists',\n",
    "    r'33[1-3]': 'Can’t Lose Them'\n",
    "\n",
    "}\n",
    "\n",
    "custom_ord_item_RFM['Segment'] = custom_ord_item_RFM['R'].map(str) +  custom_ord_item_RFM['F'].map(str) + custom_ord_item_RFM['F'].map(str)\n",
    "custom_ord_item_RFM['Segment'] = custom_ord_item_RFM['Segment'].replace(segt_map, regex=True)\n",
    "custom_ord_item_RFM.head()"
   ]
  },
  {
   "cell_type": "markdown",
   "id": "a480d9d7",
   "metadata": {},
   "source": [
    "### Добавлю график для лучшего понимания распределения сегментов"
   ]
  },
  {
   "cell_type": "code",
   "execution_count": 626,
   "id": "2598ca4e",
   "metadata": {},
   "outputs": [
    {
     "data": {
      "text/html": [
       "<div>\n",
       "<style scoped>\n",
       "    .dataframe tbody tr th:only-of-type {\n",
       "        vertical-align: middle;\n",
       "    }\n",
       "\n",
       "    .dataframe tbody tr th {\n",
       "        vertical-align: top;\n",
       "    }\n",
       "\n",
       "    .dataframe thead th {\n",
       "        text-align: right;\n",
       "    }\n",
       "</style>\n",
       "<table border=\"1\" class=\"dataframe\">\n",
       "  <thead>\n",
       "    <tr style=\"text-align: right;\">\n",
       "      <th></th>\n",
       "      <th>Segment</th>\n",
       "      <th>count_customers</th>\n",
       "    </tr>\n",
       "  </thead>\n",
       "  <tbody>\n",
       "    <tr>\n",
       "      <th>4</th>\n",
       "      <td>Lost</td>\n",
       "      <td>31423</td>\n",
       "    </tr>\n",
       "    <tr>\n",
       "      <th>6</th>\n",
       "      <td>New customers</td>\n",
       "      <td>30667</td>\n",
       "    </tr>\n",
       "    <tr>\n",
       "      <th>2</th>\n",
       "      <td>Hibernating</td>\n",
       "      <td>30457</td>\n",
       "    </tr>\n",
       "    <tr>\n",
       "      <th>3</th>\n",
       "      <td>Hibernating potential</td>\n",
       "      <td>948</td>\n",
       "    </tr>\n",
       "    <tr>\n",
       "      <th>7</th>\n",
       "      <td>Potential loyalists</td>\n",
       "      <td>868</td>\n",
       "    </tr>\n",
       "  </tbody>\n",
       "</table>\n",
       "</div>"
      ],
      "text/plain": [
       "                 Segment  count_customers\n",
       "4                   Lost            31423\n",
       "6          New customers            30667\n",
       "2            Hibernating            30457\n",
       "3  Hibernating potential              948\n",
       "7    Potential loyalists              868"
      ]
     },
     "execution_count": 626,
     "metadata": {},
     "output_type": "execute_result"
    }
   ],
   "source": [
    "rfm_graph = custom_ord_item_RFM \\\n",
    "                 .groupby('Segment', as_index=False) \\\n",
    "                 .agg({'customer_unique_id': 'count'}) \\\n",
    "                 .rename(columns={'customer_unique_id': 'count_customers'})\\\n",
    "                 .sort_values('count_customers', ascending=False)\n",
    "rfm_graph.head()"
   ]
  },
  {
   "cell_type": "code",
   "execution_count": 627,
   "id": "bb7e709f",
   "metadata": {},
   "outputs": [
    {
     "data": {
      "image/png": "[encoded data removed]",
      "text/plain": [
       "<Figure size 2000x700 with 1 Axes>"
      ]
     },
     "metadata": {},
     "output_type": "display_data"
    }
   ],
   "source": [
    "sns.barplot(data=rfm_graph, x='Segment', y='count_customers')\n",
    "plt.xlabel('Группы сегментов')\n",
    "plt.ylabel('Количество Покупателей')\n",
    "sns.despine()"
   ]
  },
  {
   "cell_type": "code",
   "execution_count": 579,
   "id": "c205a8da",
   "metadata": {},
   "outputs": [
    {
     "data": {
      "image/png": "[encoded data removed]",
      "text/plain": [
       "<Figure size 1000x400 with 2 Axes>"
      ]
     },
     "metadata": {},
     "output_type": "display_data"
    }
   ],
   "source": [
    "# plot the distribution of customers over R and F\n",
    "fig, axes = plt.subplots(nrows=1, ncols=2, figsize=(10, 4))\n",
    "\n",
    "for i, p in enumerate(['R', 'F']):\n",
    "    parameters = {'R':'Recency', 'F':'Frequency'}\n",
    "    y = custom_ord_item_RFM[p].value_counts().sort_index()\n",
    "    x = y.index\n",
    "    ax = axes[i]\n",
    "    bars = ax.bar(x, y, color='silver')\n",
    "    ax.set_frame_on(False)\n",
    "    ax.tick_params(left=False, labelleft=False, bottom=False)\n",
    "    ax.set_title('Distribution of {}'.format(parameters[p]),\n",
    "                fontsize=14)\n",
    "    for bar in bars:\n",
    "        value = bar.get_height()\n",
    "        if value == y.max():\n",
    "            bar.set_color('firebrick')\n",
    "        ax.text(bar.get_x() + bar.get_width() / 2,\n",
    "                value - 5,\n",
    "                '{}\\n({}%)'.format(int(value), int(value * 100 / y.sum())),\n",
    "               ha='center',\n",
    "               va='top',\n",
    "               color='w')\n",
    "\n",
    "plt.show()"
   ]
  },
  {
   "cell_type": "code",
   "execution_count": 582,
   "id": "04802dc1",
   "metadata": {},
   "outputs": [
    {
     "data": {
      "image/png": "[encoded data removed]",
      "text/plain": [
       "<Figure size 1000x1000 with 9 Axes>"
      ]
     },
     "metadata": {},
     "output_type": "display_data"
    }
   ],
   "source": [
    "# plot the distribution of M for RF score\n",
    "fig, axes = plt.subplots(nrows=3, ncols=3,\n",
    "                         sharex=False, sharey=True,\n",
    "                         figsize=(10, 10))\n",
    "\n",
    "r_range = range(1, 4)\n",
    "f_range = range(1, 4)\n",
    "for r in r_range:\n",
    "    for f in f_range:\n",
    "        y = custom_ord_item_RFM[(custom_ord_item_RFM['R'] == r) & (custom_ord_item_RFM['F'] == f)]['M'].value_counts().sort_index()\n",
    "        x = y.index\n",
    "        ax = axes[r - 1, f - 1]\n",
    "        bars = ax.bar(x, y, color='silver')\n",
    "        if r == 3:\n",
    "            if f == 2:\n",
    "                ax.set_xlabel('{}\\nF'.format(f), va='top')\n",
    "            else:\n",
    "                ax.set_xlabel('{}\\n'.format(f), va='top')\n",
    "        if f == 1:\n",
    "            if r == 2:\n",
    "                ax.set_ylabel('R\\n{}'.format(r))\n",
    "            else:\n",
    "                ax.set_ylabel(r)\n",
    "        ax.set_frame_on(False)\n",
    "        ax.tick_params(left=False, labelleft=False, bottom=False)\n",
    "        ax.set_xticks(x)\n",
    "        ax.set_xticklabels(x, fontsize=8)\n",
    "\n",
    "        for bar in bars:\n",
    "            value = bar.get_height()\n",
    "            if value == y.max():\n",
    "                bar.set_color('firebrick')\n",
    "            ax.text(bar.get_x() + bar.get_width() / 2,\n",
    "                    value,\n",
    "                    int(value),\n",
    "                    ha='center',\n",
    "                    va='bottom',\n",
    "                    color='k')\n",
    "fig.suptitle('Distribution of M for each F and R',\n",
    "             fontsize=14)\n",
    "plt.tight_layout()\n",
    "plt.show()"
   ]
  },
  {
   "cell_type": "markdown",
   "id": "a66deddf",
   "metadata": {},
   "source": [
    " "
   ]
  },
  {
   "cell_type": "markdown",
   "id": "b10cf253",
   "metadata": {},
   "source": [
    " "
   ]
  },
  {
   "cell_type": "markdown",
   "id": "75eeb71a",
   "metadata": {},
   "source": [
    "#### Не очень показательные графики, построю ещё один"
   ]
  },
  {
   "cell_type": "markdown",
   "id": "a9444959",
   "metadata": {},
   "source": [
    " "
   ]
  },
  {
   "cell_type": "code",
   "execution_count": 658,
   "id": "da8f989e",
   "metadata": {},
   "outputs": [
    {
     "data": {
      "image/png": "[encoded data removed]",
      "text/plain": [
       "<Figure size 2000x700 with 1 Axes>"
      ]
     },
     "metadata": {},
     "output_type": "display_data"
    }
   ],
   "source": [
    "# Посчитаю количество клиентов в каждом сегменте \n",
    "\n",
    "segments_counts = custom_ord_item_RFM['Segment'].value_counts().sort_values(ascending=True)\n",
    "\n",
    "fig, ax = plt.subplots()\n",
    "\n",
    "bars = ax.barh(range(len(segments_counts)),\n",
    "              segments_counts,\n",
    "              color='silver')\n",
    "ax.set_frame_on(False)\n",
    "ax.tick_params(left=False,\n",
    "               bottom=False,\n",
    "               labelbottom=False)\n",
    "ax.set_yticks(range(len(segments_counts)))\n",
    "ax.set_yticklabels(segments_counts.index)\n",
    "\n",
    "for i, bar in enumerate(bars):\n",
    "        value = bar.get_width()\n",
    "        if segments_counts.index[i] in ['champions', 'loyal customers']:\n",
    "            bar.set_color('firebrick')\n",
    "        ax.text(value,\n",
    "                bar.get_y() + bar.get_height()/2,\n",
    "                '{:,} ({:}%)'.format(int(value),\n",
    "                                   int(value*100/segments_counts.sum())),\n",
    "                va='center',\n",
    "                ha='left'\n",
    "               )\n",
    "\n",
    "plt.show()"
   ]
  },
  {
   "cell_type": "markdown",
   "id": "636799f9",
   "metadata": {},
   "source": [
    " "
   ]
  },
  {
   "cell_type": "markdown",
   "id": "a0103d20",
   "metadata": {},
   "source": [
    "### Посчитаю дополнительную информайцию по данным группам - количество клиентов в каждой, сумму денег, количество продаваемых едениц товаров (группа с меньшей денежной массой но с ощутимой товарной суммой может потенциально привести к росту прибыли если работать со средним чеком покупки)"
   ]
  },
  {
   "cell_type": "code",
   "execution_count": 617,
   "id": "f8b7faf6",
   "metadata": {},
   "outputs": [
    {
     "data": {
      "text/html": [
       "<div>\n",
       "<style scoped>\n",
       "    .dataframe tbody tr th:only-of-type {\n",
       "        vertical-align: middle;\n",
       "    }\n",
       "\n",
       "    .dataframe tbody tr th {\n",
       "        vertical-align: top;\n",
       "    }\n",
       "\n",
       "    .dataframe thead th {\n",
       "        text-align: right;\n",
       "    }\n",
       "</style>\n",
       "<table border=\"1\" class=\"dataframe\">\n",
       "  <thead>\n",
       "    <tr style=\"text-align: right;\">\n",
       "      <th></th>\n",
       "      <th>Segment</th>\n",
       "      <th>customer_unique_id</th>\n",
       "    </tr>\n",
       "  </thead>\n",
       "  <tbody>\n",
       "    <tr>\n",
       "      <th>4</th>\n",
       "      <td>Lost</td>\n",
       "      <td>31423</td>\n",
       "    </tr>\n",
       "    <tr>\n",
       "      <th>6</th>\n",
       "      <td>New customers</td>\n",
       "      <td>30667</td>\n",
       "    </tr>\n",
       "    <tr>\n",
       "      <th>2</th>\n",
       "      <td>Hibernating</td>\n",
       "      <td>30457</td>\n",
       "    </tr>\n",
       "    <tr>\n",
       "      <th>3</th>\n",
       "      <td>Hibernating potential</td>\n",
       "      <td>948</td>\n",
       "    </tr>\n",
       "    <tr>\n",
       "      <th>7</th>\n",
       "      <td>Potential loyalists</td>\n",
       "      <td>868</td>\n",
       "    </tr>\n",
       "    <tr>\n",
       "      <th>5</th>\n",
       "      <td>Lost loyalists</td>\n",
       "      <td>844</td>\n",
       "    </tr>\n",
       "    <tr>\n",
       "      <th>1</th>\n",
       "      <td>Champion</td>\n",
       "      <td>129</td>\n",
       "    </tr>\n",
       "    <tr>\n",
       "      <th>0</th>\n",
       "      <td>Can’t Lose Them</td>\n",
       "      <td>84</td>\n",
       "    </tr>\n",
       "  </tbody>\n",
       "</table>\n",
       "</div>"
      ],
      "text/plain": [
       "                 Segment  customer_unique_id\n",
       "4                   Lost               31423\n",
       "6          New customers               30667\n",
       "2            Hibernating               30457\n",
       "3  Hibernating potential                 948\n",
       "7    Potential loyalists                 868\n",
       "5         Lost loyalists                 844\n",
       "1               Champion                 129\n",
       "0        Can’t Lose Them                  84"
      ]
     },
     "execution_count": 617,
     "metadata": {},
     "output_type": "execute_result"
    }
   ],
   "source": [
    "custom_ord_item_RFM \\\n",
    ".groupby('Segment', as_index=False) \\\n",
    ".agg({'customer_unique_id':'count'}) \\\n",
    ".sort_values('customer_unique_id', ascending=False)"
   ]
  },
  {
   "cell_type": "code",
   "execution_count": 619,
   "id": "b677838d",
   "metadata": {},
   "outputs": [
    {
     "data": {
      "text/html": [
       "<div>\n",
       "<style scoped>\n",
       "    .dataframe tbody tr th:only-of-type {\n",
       "        vertical-align: middle;\n",
       "    }\n",
       "\n",
       "    .dataframe tbody tr th {\n",
       "        vertical-align: top;\n",
       "    }\n",
       "\n",
       "    .dataframe thead th {\n",
       "        text-align: right;\n",
       "    }\n",
       "</style>\n",
       "<table border=\"1\" class=\"dataframe\">\n",
       "  <thead>\n",
       "    <tr style=\"text-align: right;\">\n",
       "      <th></th>\n",
       "      <th>Segment</th>\n",
       "      <th>Monetary</th>\n",
       "    </tr>\n",
       "  </thead>\n",
       "  <tbody>\n",
       "    <tr>\n",
       "      <th>4</th>\n",
       "      <td>Lost</td>\n",
       "      <td>4371182.18</td>\n",
       "    </tr>\n",
       "    <tr>\n",
       "      <th>6</th>\n",
       "      <td>New customers</td>\n",
       "      <td>4288932.87</td>\n",
       "    </tr>\n",
       "    <tr>\n",
       "      <th>2</th>\n",
       "      <td>Hibernating</td>\n",
       "      <td>4020136.33</td>\n",
       "    </tr>\n",
       "    <tr>\n",
       "      <th>3</th>\n",
       "      <td>Hibernating potential</td>\n",
       "      <td>276323.72</td>\n",
       "    </tr>\n",
       "    <tr>\n",
       "      <th>7</th>\n",
       "      <td>Potential loyalists</td>\n",
       "      <td>258508.82</td>\n",
       "    </tr>\n",
       "    <tr>\n",
       "      <th>5</th>\n",
       "      <td>Lost loyalists</td>\n",
       "      <td>253480.13</td>\n",
       "    </tr>\n",
       "    <tr>\n",
       "      <th>1</th>\n",
       "      <td>Champion</td>\n",
       "      <td>72643.90</td>\n",
       "    </tr>\n",
       "    <tr>\n",
       "      <th>0</th>\n",
       "      <td>Can’t Lose Them</td>\n",
       "      <td>50435.75</td>\n",
       "    </tr>\n",
       "  </tbody>\n",
       "</table>\n",
       "</div>"
      ],
      "text/plain": [
       "                 Segment    Monetary\n",
       "4                   Lost  4371182.18\n",
       "6          New customers  4288932.87\n",
       "2            Hibernating  4020136.33\n",
       "3  Hibernating potential   276323.72\n",
       "7    Potential loyalists   258508.82\n",
       "5         Lost loyalists   253480.13\n",
       "1               Champion    72643.90\n",
       "0        Can’t Lose Them    50435.75"
      ]
     },
     "execution_count": 619,
     "metadata": {},
     "output_type": "execute_result"
    }
   ],
   "source": [
    "custom_ord_item_RFM \\\n",
    ".groupby('Segment', as_index=False) \\\n",
    ".agg({'Monetary':'sum'}) \\\n",
    ".sort_values('Monetary', ascending=False)"
   ]
  },
  {
   "cell_type": "code",
   "execution_count": 628,
   "id": "f2aa42c1",
   "metadata": {},
   "outputs": [
    {
     "data": {
      "text/html": [
       "<div>\n",
       "<style scoped>\n",
       "    .dataframe tbody tr th:only-of-type {\n",
       "        vertical-align: middle;\n",
       "    }\n",
       "\n",
       "    .dataframe tbody tr th {\n",
       "        vertical-align: top;\n",
       "    }\n",
       "\n",
       "    .dataframe thead th {\n",
       "        text-align: right;\n",
       "    }\n",
       "</style>\n",
       "<table border=\"1\" class=\"dataframe\">\n",
       "  <thead>\n",
       "    <tr style=\"text-align: right;\">\n",
       "      <th></th>\n",
       "      <th>Segment</th>\n",
       "      <th>Frequency</th>\n",
       "    </tr>\n",
       "  </thead>\n",
       "  <tbody>\n",
       "    <tr>\n",
       "      <th>4</th>\n",
       "      <td>Lost</td>\n",
       "      <td>34424</td>\n",
       "    </tr>\n",
       "    <tr>\n",
       "      <th>6</th>\n",
       "      <td>New customers</td>\n",
       "      <td>33689</td>\n",
       "    </tr>\n",
       "    <tr>\n",
       "      <th>2</th>\n",
       "      <td>Hibernating</td>\n",
       "      <td>33430</td>\n",
       "    </tr>\n",
       "    <tr>\n",
       "      <th>3</th>\n",
       "      <td>Hibernating potential</td>\n",
       "      <td>3658</td>\n",
       "    </tr>\n",
       "    <tr>\n",
       "      <th>7</th>\n",
       "      <td>Potential loyalists</td>\n",
       "      <td>2996</td>\n",
       "    </tr>\n",
       "    <tr>\n",
       "      <th>5</th>\n",
       "      <td>Lost loyalists</td>\n",
       "      <td>2921</td>\n",
       "    </tr>\n",
       "    <tr>\n",
       "      <th>1</th>\n",
       "      <td>Champion</td>\n",
       "      <td>933</td>\n",
       "    </tr>\n",
       "    <tr>\n",
       "      <th>0</th>\n",
       "      <td>Can’t Lose Them</td>\n",
       "      <td>599</td>\n",
       "    </tr>\n",
       "  </tbody>\n",
       "</table>\n",
       "</div>"
      ],
      "text/plain": [
       "                 Segment  Frequency\n",
       "4                   Lost      34424\n",
       "6          New customers      33689\n",
       "2            Hibernating      33430\n",
       "3  Hibernating potential       3658\n",
       "7    Potential loyalists       2996\n",
       "5         Lost loyalists       2921\n",
       "1               Champion        933\n",
       "0        Can’t Lose Them        599"
      ]
     },
     "execution_count": 628,
     "metadata": {},
     "output_type": "execute_result"
    }
   ],
   "source": [
    "custom_ord_item_RFM \\\n",
    ".groupby('Segment', as_index=False) \\\n",
    ".agg({'Frequency':'sum'}) \\\n",
    ".sort_values('Frequency', ascending=False)"
   ]
  },
  {
   "cell_type": "markdown",
   "id": "984848be",
   "metadata": {},
   "source": [
    "## Всю информацию стоит передать продакт-менеджеру Василию. По данными таблицам самая финансово и количественно прибыльная группа клиентов - потеряннные клиенты, давно переставшие совершать покупки. Вторая по размеру группа - клиенты, бывшие выгодными и совершавшие покупки регулярно, но по какой-то причине прекратившие это делать. С данными группами клиентов необходимо предпринимать меры по возвращению, потенциально можно увеличить прибыль в 3 раза "
   ]
  },
  {
   "cell_type": "code",
   "execution_count": null,
   "id": "33134c46",
   "metadata": {},
   "outputs": [],
   "source": []
  },
  {
   "cell_type": "code",
   "execution_count": null,
   "id": "29ad8d5b",
   "metadata": {},
   "outputs": [],
   "source": []
  }
 ],
 "metadata": {
  "kernelspec": {
   "display_name": "Python 3 (ipykernel)",
   "language": "python",
   "name": "python3"
  },
  "language_info": {
   "codemirror_mode": {
    "name": "ipython",
    "version": 3
   },
   "file_extension": ".py",
   "mimetype": "text/x-python",
   "name": "python",
   "nbconvert_exporter": "python",
   "pygments_lexer": "ipython3",
   "version": "3.9.13"
  }
 },
 "nbformat": 4,
 "nbformat_minor": 5
}
